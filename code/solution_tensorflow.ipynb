{
 "cells": [
  {
   "cell_type": "code",
   "execution_count": 1,
   "outputs": [],
   "source": [
    "import pandas as pd\n",
    "from config import config\n",
    "from sklearn.model_selection import train_test_split\n",
    "from sklearn.preprocessing import StandardScaler\n",
    "from sklearn.preprocessing import OneHotEncoder\n",
    "\n",
    "import tensorflow as tf\n",
    "\n",
    "import wandb\n",
    "import tensorflow as tf\n",
    "import numpy as np"
   ],
   "metadata": {
    "collapsed": false
   }
  },
  {
   "cell_type": "markdown",
   "source": [
    "# Loading, scaling the data\n",
    "data has been explored and concaternated in `data_preparerationipynb`"
   ],
   "metadata": {
    "collapsed": false
   }
  },
  {
   "cell_type": "code",
   "execution_count": 2,
   "outputs": [
    {
     "data": {
      "text/plain": "(2000, 21)"
     },
     "execution_count": 2,
     "metadata": {},
     "output_type": "execute_result"
    }
   ],
   "source": [
    "# Load the dataset\n",
    "df = pd.read_csv('../data/train.csv')\n",
    "df.shape"
   ],
   "metadata": {
    "collapsed": false
   }
  },
  {
   "cell_type": "code",
   "execution_count": 3,
   "outputs": [
    {
     "name": "stderr",
     "output_type": "stream",
     "text": [
      "C:\\Users\\gazik\\Documents\\FIIT_SS_2022\\NS\\A1\\ns_a1_venv\\lib\\site-packages\\sklearn\\preprocessing\\_encoders.py:828: FutureWarning: `sparse` was renamed to `sparse_output` in version 1.2 and will be removed in 1.4. `sparse_output` is ignored unless you leave `sparse` to its default value.\n",
      "  warnings.warn(\n"
     ]
    }
   ],
   "source": [
    "# Separate the target variable from the features\n",
    "X = df.drop('price_range', axis=1)\n",
    "\n",
    "enc = OneHotEncoder(sparse=False)\n",
    "y = enc.fit_transform(df['price_range'].values.reshape(-1, 1))\n",
    "\n",
    "#  Split the data into train, validation, and test sets 0.7, 0.15, 0.15\n",
    "X_train, X_test, y_train, y_test = train_test_split(X, y, test_size=0.3, random_state=config['seed'])\n",
    "X_val, X_test, y_val, y_test = train_test_split(X_test, y_test, test_size=0.5, random_state=config['seed'])\n",
    "\n",
    "# Create scaling pipeline for the features\n",
    "scaler = StandardScaler()\n",
    "X_train = scaler.fit_transform(X_train)\n",
    "X_val = scaler.transform(X_val)\n",
    "X_test = scaler.transform(X_test)"
   ],
   "metadata": {
    "collapsed": false
   }
  },
  {
   "cell_type": "markdown",
   "source": [],
   "metadata": {
    "collapsed": false
   }
  },
  {
   "cell_type": "code",
   "execution_count": 4,
   "outputs": [],
   "source": [
    "train_dataset = tf.data.Dataset.from_tensor_slices((X_train, y_train)).shuffle(len(X_train), seed=config['seed']).batch(config['batch_size'])\n",
    "val_dataset = tf.data.Dataset.from_tensor_slices((X_val, y_val)).batch(config['val_batch_size'])\n",
    "test_dataset = tf.data.Dataset.from_tensor_slices((X_test, y_test)).batch(config['test_batch_size'])"
   ],
   "metadata": {
    "collapsed": false
   }
  },
  {
   "cell_type": "code",
   "execution_count": 5,
   "outputs": [],
   "source": [
    "input_shape = (20,)\n",
    "\n",
    "# Build the model\n",
    "input = tf.keras.layers.Dense(20, input_shape=input_shape, activation='relu'),\n",
    "model = tf.keras.Sequential(input)\n",
    "\n",
    "for size in config['hidden_layers']:\n",
    "    model.add(tf.keras.layers.Dense(size, activation='relu'))\n",
    "    model.add(tf.keras.layers.Dropout(config['dropout']))\n",
    "\n",
    "output = tf.keras.layers.Dense(4, activation='softmax')\n",
    "model.add(output)\n",
    "#  Add the layers to the model\n",
    "\n",
    "optimizer = tf.keras.optimizers.Adam(beta_1=config['beta1'], beta_2=config['beta2'], epsilon=config['epsilon'], learning_rate=config['lr'])\n",
    "model.compile(optimizer=optimizer, loss=config['loss_keras'], metrics=['accuracy'])"
   ],
   "metadata": {
    "collapsed": false
   }
  },
  {
   "cell_type": "code",
   "execution_count": 6,
   "outputs": [
    {
     "name": "stderr",
     "output_type": "stream",
     "text": [
      "Failed to detect the name of this notebook, you can set it manually with the WANDB_NOTEBOOK_NAME environment variable to enable code saving.\n",
      "\u001B[34m\u001B[1mwandb\u001B[0m: Currently logged in as: \u001B[33mxgazika\u001B[0m (\u001B[33mneural_networks_fiit\u001B[0m). Use \u001B[1m`wandb login --relogin`\u001B[0m to force relogin\n"
     ]
    },
    {
     "data": {
      "text/plain": "<IPython.core.display.HTML object>",
      "text/html": "Tracking run with wandb version 0.14.0"
     },
     "metadata": {},
     "output_type": "display_data"
    },
    {
     "data": {
      "text/plain": "<IPython.core.display.HTML object>",
      "text/html": "Run data is saved locally in <code>C:\\Users\\gazik\\Documents\\FIIT_SS_2022\\NS\\A1\\code\\wandb\\run-20230328_171550-dre9k3h0</code>"
     },
     "metadata": {},
     "output_type": "display_data"
    },
    {
     "data": {
      "text/plain": "<IPython.core.display.HTML object>",
      "text/html": "Syncing run <strong><a href='https://wandb.ai/neural_networks_fiit/phone-price-prediction/runs/dre9k3h0' target=\"_blank\">TensorFlow L:[10] DO:0.2 LR:0.001</a></strong> to <a href='https://wandb.ai/neural_networks_fiit/phone-price-prediction' target=\"_blank\">Weights & Biases</a> (<a href='https://wandb.me/run' target=\"_blank\">docs</a>)<br/>"
     },
     "metadata": {},
     "output_type": "display_data"
    },
    {
     "data": {
      "text/plain": "<IPython.core.display.HTML object>",
      "text/html": " View project at <a href='https://wandb.ai/neural_networks_fiit/phone-price-prediction' target=\"_blank\">https://wandb.ai/neural_networks_fiit/phone-price-prediction</a>"
     },
     "metadata": {},
     "output_type": "display_data"
    },
    {
     "data": {
      "text/plain": "<IPython.core.display.HTML object>",
      "text/html": " View run at <a href='https://wandb.ai/neural_networks_fiit/phone-price-prediction/runs/dre9k3h0' target=\"_blank\">https://wandb.ai/neural_networks_fiit/phone-price-prediction/runs/dre9k3h0</a>"
     },
     "metadata": {},
     "output_type": "display_data"
    },
    {
     "name": "stderr",
     "output_type": "stream",
     "text": [
      "\u001B[34m\u001B[1mwandb\u001B[0m: \u001B[33mWARNING\u001B[0m The save_model argument by default saves the model in the HDF5 format that cannot save custom objects like subclassed models and custom layers. This behavior will be deprecated in a future release in favor of the SavedModel format. Meanwhile, the HDF5 model is saved as W&B files and the SavedModel as W&B Artifacts.\n"
     ]
    },
    {
     "name": "stdout",
     "output_type": "stream",
     "text": [
      "Epoch 1/50\n",
      " 1/44 [..............................] - ETA: 44s - loss: 1.4646 - accuracy: 0.2500WARNING:tensorflow:Callback method `on_train_batch_end` is slow compared to the batch time (batch time: 0.0017s vs `on_train_batch_end` time: 0.0020s). Check your callbacks.\n",
      "36/44 [=======================>......] - ETA: 0s - loss: 1.4988 - accuracy: 0.2500"
     ]
    },
    {
     "name": "stderr",
     "output_type": "stream",
     "text": [
      "WARNING:absl:Found untraced functions such as _update_step_xla while saving (showing 1 of 1). These functions will not be directly callable after loading.\n"
     ]
    },
    {
     "name": "stdout",
     "output_type": "stream",
     "text": [
      "INFO:tensorflow:Assets written to: C:\\Users\\gazik\\Documents\\FIIT_SS_2022\\NS\\A1\\code\\wandb\\run-20230328_171550-dre9k3h0\\files\\model-best\\assets\n"
     ]
    },
    {
     "name": "stderr",
     "output_type": "stream",
     "text": [
      "INFO:tensorflow:Assets written to: C:\\Users\\gazik\\Documents\\FIIT_SS_2022\\NS\\A1\\code\\wandb\\run-20230328_171550-dre9k3h0\\files\\model-best\\assets\n",
      "\u001B[34m\u001B[1mwandb\u001B[0m: Adding directory to artifact (C:\\Users\\gazik\\Documents\\FIIT_SS_2022\\NS\\A1\\code\\wandb\\run-20230328_171550-dre9k3h0\\files\\model-best)... Done. 0.0s\n"
     ]
    },
    {
     "name": "stdout",
     "output_type": "stream",
     "text": [
      "44/44 [==============================] - 3s 47ms/step - loss: 1.4937 - accuracy: 0.2586 - val_loss: 1.3932 - val_accuracy: 0.2733\n",
      "Epoch 2/50\n",
      "38/44 [========================>.....] - ETA: 0s - loss: 1.4099 - accuracy: 0.3010"
     ]
    },
    {
     "name": "stderr",
     "output_type": "stream",
     "text": [
      "WARNING:absl:Found untraced functions such as _update_step_xla while saving (showing 1 of 1). These functions will not be directly callable after loading.\n"
     ]
    },
    {
     "name": "stdout",
     "output_type": "stream",
     "text": [
      "INFO:tensorflow:Assets written to: C:\\Users\\gazik\\Documents\\FIIT_SS_2022\\NS\\A1\\code\\wandb\\run-20230328_171550-dre9k3h0\\files\\model-best\\assets\n"
     ]
    },
    {
     "name": "stderr",
     "output_type": "stream",
     "text": [
      "INFO:tensorflow:Assets written to: C:\\Users\\gazik\\Documents\\FIIT_SS_2022\\NS\\A1\\code\\wandb\\run-20230328_171550-dre9k3h0\\files\\model-best\\assets\n",
      "\u001B[34m\u001B[1mwandb\u001B[0m: Adding directory to artifact (C:\\Users\\gazik\\Documents\\FIIT_SS_2022\\NS\\A1\\code\\wandb\\run-20230328_171550-dre9k3h0\\files\\model-best)... Done. 0.0s\n"
     ]
    },
    {
     "name": "stdout",
     "output_type": "stream",
     "text": [
      "44/44 [==============================] - 2s 37ms/step - loss: 1.3971 - accuracy: 0.3057 - val_loss: 1.3232 - val_accuracy: 0.3433\n",
      "Epoch 3/50\n",
      "42/44 [===========================>..] - ETA: 0s - loss: 1.3078 - accuracy: 0.3966"
     ]
    },
    {
     "name": "stderr",
     "output_type": "stream",
     "text": [
      "WARNING:absl:Found untraced functions such as _update_step_xla while saving (showing 1 of 1). These functions will not be directly callable after loading.\n"
     ]
    },
    {
     "name": "stdout",
     "output_type": "stream",
     "text": [
      "INFO:tensorflow:Assets written to: C:\\Users\\gazik\\Documents\\FIIT_SS_2022\\NS\\A1\\code\\wandb\\run-20230328_171550-dre9k3h0\\files\\model-best\\assets\n"
     ]
    },
    {
     "name": "stderr",
     "output_type": "stream",
     "text": [
      "INFO:tensorflow:Assets written to: C:\\Users\\gazik\\Documents\\FIIT_SS_2022\\NS\\A1\\code\\wandb\\run-20230328_171550-dre9k3h0\\files\\model-best\\assets\n",
      "\u001B[34m\u001B[1mwandb\u001B[0m: Adding directory to artifact (C:\\Users\\gazik\\Documents\\FIIT_SS_2022\\NS\\A1\\code\\wandb\\run-20230328_171550-dre9k3h0\\files\\model-best)... Done. 0.0s\n"
     ]
    },
    {
     "name": "stdout",
     "output_type": "stream",
     "text": [
      "44/44 [==============================] - 2s 36ms/step - loss: 1.3075 - accuracy: 0.3936 - val_loss: 1.2625 - val_accuracy: 0.4367\n",
      "Epoch 4/50\n",
      "40/44 [==========================>...] - ETA: 0s - loss: 1.2580 - accuracy: 0.4117"
     ]
    },
    {
     "name": "stderr",
     "output_type": "stream",
     "text": [
      "WARNING:absl:Found untraced functions such as _update_step_xla while saving (showing 1 of 1). These functions will not be directly callable after loading.\n"
     ]
    },
    {
     "name": "stdout",
     "output_type": "stream",
     "text": [
      "INFO:tensorflow:Assets written to: C:\\Users\\gazik\\Documents\\FIIT_SS_2022\\NS\\A1\\code\\wandb\\run-20230328_171550-dre9k3h0\\files\\model-best\\assets\n"
     ]
    },
    {
     "name": "stderr",
     "output_type": "stream",
     "text": [
      "INFO:tensorflow:Assets written to: C:\\Users\\gazik\\Documents\\FIIT_SS_2022\\NS\\A1\\code\\wandb\\run-20230328_171550-dre9k3h0\\files\\model-best\\assets\n",
      "\u001B[34m\u001B[1mwandb\u001B[0m: Adding directory to artifact (C:\\Users\\gazik\\Documents\\FIIT_SS_2022\\NS\\A1\\code\\wandb\\run-20230328_171550-dre9k3h0\\files\\model-best)... Done. 0.0s\n"
     ]
    },
    {
     "name": "stdout",
     "output_type": "stream",
     "text": [
      "44/44 [==============================] - 1s 29ms/step - loss: 1.2583 - accuracy: 0.4071 - val_loss: 1.2028 - val_accuracy: 0.5100\n",
      "Epoch 5/50\n",
      "32/44 [====================>.........] - ETA: 0s - loss: 1.1824 - accuracy: 0.4814"
     ]
    },
    {
     "name": "stderr",
     "output_type": "stream",
     "text": [
      "WARNING:absl:Found untraced functions such as _update_step_xla while saving (showing 1 of 1). These functions will not be directly callable after loading.\n"
     ]
    },
    {
     "name": "stdout",
     "output_type": "stream",
     "text": [
      "INFO:tensorflow:Assets written to: C:\\Users\\gazik\\Documents\\FIIT_SS_2022\\NS\\A1\\code\\wandb\\run-20230328_171550-dre9k3h0\\files\\model-best\\assets\n"
     ]
    },
    {
     "name": "stderr",
     "output_type": "stream",
     "text": [
      "INFO:tensorflow:Assets written to: C:\\Users\\gazik\\Documents\\FIIT_SS_2022\\NS\\A1\\code\\wandb\\run-20230328_171550-dre9k3h0\\files\\model-best\\assets\n",
      "\u001B[34m\u001B[1mwandb\u001B[0m: Adding directory to artifact (C:\\Users\\gazik\\Documents\\FIIT_SS_2022\\NS\\A1\\code\\wandb\\run-20230328_171550-dre9k3h0\\files\\model-best)... Done. 0.0s\n"
     ]
    },
    {
     "name": "stdout",
     "output_type": "stream",
     "text": [
      "44/44 [==============================] - 1s 32ms/step - loss: 1.1861 - accuracy: 0.4714 - val_loss: 1.1273 - val_accuracy: 0.5233\n",
      "Epoch 6/50\n",
      "24/44 [===============>..............] - ETA: 0s - loss: 1.1324 - accuracy: 0.4844"
     ]
    },
    {
     "name": "stderr",
     "output_type": "stream",
     "text": [
      "WARNING:absl:Found untraced functions such as _update_step_xla while saving (showing 1 of 1). These functions will not be directly callable after loading.\n"
     ]
    },
    {
     "name": "stdout",
     "output_type": "stream",
     "text": [
      "INFO:tensorflow:Assets written to: C:\\Users\\gazik\\Documents\\FIIT_SS_2022\\NS\\A1\\code\\wandb\\run-20230328_171550-dre9k3h0\\files\\model-best\\assets\n"
     ]
    },
    {
     "name": "stderr",
     "output_type": "stream",
     "text": [
      "INFO:tensorflow:Assets written to: C:\\Users\\gazik\\Documents\\FIIT_SS_2022\\NS\\A1\\code\\wandb\\run-20230328_171550-dre9k3h0\\files\\model-best\\assets\n",
      "\u001B[34m\u001B[1mwandb\u001B[0m: Adding directory to artifact (C:\\Users\\gazik\\Documents\\FIIT_SS_2022\\NS\\A1\\code\\wandb\\run-20230328_171550-dre9k3h0\\files\\model-best)... Done. 0.0s\n"
     ]
    },
    {
     "name": "stdout",
     "output_type": "stream",
     "text": [
      "44/44 [==============================] - 1s 24ms/step - loss: 1.1222 - accuracy: 0.4843 - val_loss: 1.0500 - val_accuracy: 0.5500\n",
      "Epoch 7/50\n",
      "25/44 [================>.............] - ETA: 0s - loss: 1.0778 - accuracy: 0.5163"
     ]
    },
    {
     "name": "stderr",
     "output_type": "stream",
     "text": [
      "WARNING:absl:Found untraced functions such as _update_step_xla while saving (showing 1 of 1). These functions will not be directly callable after loading.\n"
     ]
    },
    {
     "name": "stdout",
     "output_type": "stream",
     "text": [
      "INFO:tensorflow:Assets written to: C:\\Users\\gazik\\Documents\\FIIT_SS_2022\\NS\\A1\\code\\wandb\\run-20230328_171550-dre9k3h0\\files\\model-best\\assets\n"
     ]
    },
    {
     "name": "stderr",
     "output_type": "stream",
     "text": [
      "INFO:tensorflow:Assets written to: C:\\Users\\gazik\\Documents\\FIIT_SS_2022\\NS\\A1\\code\\wandb\\run-20230328_171550-dre9k3h0\\files\\model-best\\assets\n",
      "\u001B[34m\u001B[1mwandb\u001B[0m: Adding directory to artifact (C:\\Users\\gazik\\Documents\\FIIT_SS_2022\\NS\\A1\\code\\wandb\\run-20230328_171550-dre9k3h0\\files\\model-best)... Done. 0.0s\n"
     ]
    },
    {
     "name": "stdout",
     "output_type": "stream",
     "text": [
      "44/44 [==============================] - 1s 22ms/step - loss: 1.0529 - accuracy: 0.5307 - val_loss: 0.9673 - val_accuracy: 0.5933\n",
      "Epoch 8/50\n",
      "31/44 [====================>.........] - ETA: 0s - loss: 0.9786 - accuracy: 0.5514"
     ]
    },
    {
     "name": "stderr",
     "output_type": "stream",
     "text": [
      "WARNING:absl:Found untraced functions such as _update_step_xla while saving (showing 1 of 1). These functions will not be directly callable after loading.\n"
     ]
    },
    {
     "name": "stdout",
     "output_type": "stream",
     "text": [
      "INFO:tensorflow:Assets written to: C:\\Users\\gazik\\Documents\\FIIT_SS_2022\\NS\\A1\\code\\wandb\\run-20230328_171550-dre9k3h0\\files\\model-best\\assets\n"
     ]
    },
    {
     "name": "stderr",
     "output_type": "stream",
     "text": [
      "INFO:tensorflow:Assets written to: C:\\Users\\gazik\\Documents\\FIIT_SS_2022\\NS\\A1\\code\\wandb\\run-20230328_171550-dre9k3h0\\files\\model-best\\assets\n",
      "\u001B[34m\u001B[1mwandb\u001B[0m: Adding directory to artifact (C:\\Users\\gazik\\Documents\\FIIT_SS_2022\\NS\\A1\\code\\wandb\\run-20230328_171550-dre9k3h0\\files\\model-best)... Done. 0.0s\n"
     ]
    },
    {
     "name": "stdout",
     "output_type": "stream",
     "text": [
      "44/44 [==============================] - 1s 29ms/step - loss: 0.9683 - accuracy: 0.5479 - val_loss: 0.8859 - val_accuracy: 0.6267\n",
      "Epoch 9/50\n",
      "43/44 [============================>.] - ETA: 0s - loss: 0.9088 - accuracy: 0.5879"
     ]
    },
    {
     "name": "stderr",
     "output_type": "stream",
     "text": [
      "WARNING:absl:Found untraced functions such as _update_step_xla while saving (showing 1 of 1). These functions will not be directly callable after loading.\n"
     ]
    },
    {
     "name": "stdout",
     "output_type": "stream",
     "text": [
      "INFO:tensorflow:Assets written to: C:\\Users\\gazik\\Documents\\FIIT_SS_2022\\NS\\A1\\code\\wandb\\run-20230328_171550-dre9k3h0\\files\\model-best\\assets\n"
     ]
    },
    {
     "name": "stderr",
     "output_type": "stream",
     "text": [
      "INFO:tensorflow:Assets written to: C:\\Users\\gazik\\Documents\\FIIT_SS_2022\\NS\\A1\\code\\wandb\\run-20230328_171550-dre9k3h0\\files\\model-best\\assets\n",
      "\u001B[34m\u001B[1mwandb\u001B[0m: Adding directory to artifact (C:\\Users\\gazik\\Documents\\FIIT_SS_2022\\NS\\A1\\code\\wandb\\run-20230328_171550-dre9k3h0\\files\\model-best)... Done. 0.0s\n"
     ]
    },
    {
     "name": "stdout",
     "output_type": "stream",
     "text": [
      "44/44 [==============================] - 1s 25ms/step - loss: 0.9067 - accuracy: 0.5893 - val_loss: 0.8134 - val_accuracy: 0.6667\n",
      "Epoch 10/50\n",
      "20/44 [============>.................] - ETA: 0s - loss: 0.8168 - accuracy: 0.6391"
     ]
    },
    {
     "name": "stderr",
     "output_type": "stream",
     "text": [
      "WARNING:absl:Found untraced functions such as _update_step_xla while saving (showing 1 of 1). These functions will not be directly callable after loading.\n"
     ]
    },
    {
     "name": "stdout",
     "output_type": "stream",
     "text": [
      "INFO:tensorflow:Assets written to: C:\\Users\\gazik\\Documents\\FIIT_SS_2022\\NS\\A1\\code\\wandb\\run-20230328_171550-dre9k3h0\\files\\model-best\\assets\n"
     ]
    },
    {
     "name": "stderr",
     "output_type": "stream",
     "text": [
      "INFO:tensorflow:Assets written to: C:\\Users\\gazik\\Documents\\FIIT_SS_2022\\NS\\A1\\code\\wandb\\run-20230328_171550-dre9k3h0\\files\\model-best\\assets\n",
      "\u001B[34m\u001B[1mwandb\u001B[0m: Adding directory to artifact (C:\\Users\\gazik\\Documents\\FIIT_SS_2022\\NS\\A1\\code\\wandb\\run-20230328_171550-dre9k3h0\\files\\model-best)... Done. 0.0s\n"
     ]
    },
    {
     "name": "stdout",
     "output_type": "stream",
     "text": [
      "44/44 [==============================] - 1s 28ms/step - loss: 0.8221 - accuracy: 0.6357 - val_loss: 0.7490 - val_accuracy: 0.7133\n",
      "Epoch 11/50\n",
      "26/44 [================>.............] - ETA: 0s - loss: 0.7770 - accuracy: 0.6623"
     ]
    },
    {
     "name": "stderr",
     "output_type": "stream",
     "text": [
      "WARNING:absl:Found untraced functions such as _update_step_xla while saving (showing 1 of 1). These functions will not be directly callable after loading.\n"
     ]
    },
    {
     "name": "stdout",
     "output_type": "stream",
     "text": [
      "INFO:tensorflow:Assets written to: C:\\Users\\gazik\\Documents\\FIIT_SS_2022\\NS\\A1\\code\\wandb\\run-20230328_171550-dre9k3h0\\files\\model-best\\assets\n"
     ]
    },
    {
     "name": "stderr",
     "output_type": "stream",
     "text": [
      "INFO:tensorflow:Assets written to: C:\\Users\\gazik\\Documents\\FIIT_SS_2022\\NS\\A1\\code\\wandb\\run-20230328_171550-dre9k3h0\\files\\model-best\\assets\n",
      "\u001B[34m\u001B[1mwandb\u001B[0m: Adding directory to artifact (C:\\Users\\gazik\\Documents\\FIIT_SS_2022\\NS\\A1\\code\\wandb\\run-20230328_171550-dre9k3h0\\files\\model-best)... Done. 0.0s\n"
     ]
    },
    {
     "name": "stdout",
     "output_type": "stream",
     "text": [
      "44/44 [==============================] - 1s 28ms/step - loss: 0.7788 - accuracy: 0.6486 - val_loss: 0.6906 - val_accuracy: 0.7400\n",
      "Epoch 12/50\n",
      "27/44 [=================>............] - ETA: 0s - loss: 0.7382 - accuracy: 0.6736"
     ]
    },
    {
     "name": "stderr",
     "output_type": "stream",
     "text": [
      "WARNING:absl:Found untraced functions such as _update_step_xla while saving (showing 1 of 1). These functions will not be directly callable after loading.\n"
     ]
    },
    {
     "name": "stdout",
     "output_type": "stream",
     "text": [
      "INFO:tensorflow:Assets written to: C:\\Users\\gazik\\Documents\\FIIT_SS_2022\\NS\\A1\\code\\wandb\\run-20230328_171550-dre9k3h0\\files\\model-best\\assets\n"
     ]
    },
    {
     "name": "stderr",
     "output_type": "stream",
     "text": [
      "INFO:tensorflow:Assets written to: C:\\Users\\gazik\\Documents\\FIIT_SS_2022\\NS\\A1\\code\\wandb\\run-20230328_171550-dre9k3h0\\files\\model-best\\assets\n",
      "\u001B[34m\u001B[1mwandb\u001B[0m: Adding directory to artifact (C:\\Users\\gazik\\Documents\\FIIT_SS_2022\\NS\\A1\\code\\wandb\\run-20230328_171550-dre9k3h0\\files\\model-best)... Done. 0.0s\n"
     ]
    },
    {
     "name": "stdout",
     "output_type": "stream",
     "text": [
      "44/44 [==============================] - 1s 22ms/step - loss: 0.7201 - accuracy: 0.6714 - val_loss: 0.6389 - val_accuracy: 0.7700\n",
      "Epoch 13/50\n",
      "24/44 [===============>..............] - ETA: 0s - loss: 0.7046 - accuracy: 0.6901"
     ]
    },
    {
     "name": "stderr",
     "output_type": "stream",
     "text": [
      "WARNING:absl:Found untraced functions such as _update_step_xla while saving (showing 1 of 1). These functions will not be directly callable after loading.\n"
     ]
    },
    {
     "name": "stdout",
     "output_type": "stream",
     "text": [
      "INFO:tensorflow:Assets written to: C:\\Users\\gazik\\Documents\\FIIT_SS_2022\\NS\\A1\\code\\wandb\\run-20230328_171550-dre9k3h0\\files\\model-best\\assets\n"
     ]
    },
    {
     "name": "stderr",
     "output_type": "stream",
     "text": [
      "INFO:tensorflow:Assets written to: C:\\Users\\gazik\\Documents\\FIIT_SS_2022\\NS\\A1\\code\\wandb\\run-20230328_171550-dre9k3h0\\files\\model-best\\assets\n",
      "\u001B[34m\u001B[1mwandb\u001B[0m: Adding directory to artifact (C:\\Users\\gazik\\Documents\\FIIT_SS_2022\\NS\\A1\\code\\wandb\\run-20230328_171550-dre9k3h0\\files\\model-best)... Done. 0.0s\n"
     ]
    },
    {
     "name": "stdout",
     "output_type": "stream",
     "text": [
      "44/44 [==============================] - 1s 27ms/step - loss: 0.6863 - accuracy: 0.6971 - val_loss: 0.5890 - val_accuracy: 0.7733\n",
      "Epoch 14/50\n",
      "25/44 [================>.............] - ETA: 0s - loss: 0.6678 - accuracy: 0.6975"
     ]
    },
    {
     "name": "stderr",
     "output_type": "stream",
     "text": [
      "WARNING:absl:Found untraced functions such as _update_step_xla while saving (showing 1 of 1). These functions will not be directly callable after loading.\n"
     ]
    },
    {
     "name": "stdout",
     "output_type": "stream",
     "text": [
      "INFO:tensorflow:Assets written to: C:\\Users\\gazik\\Documents\\FIIT_SS_2022\\NS\\A1\\code\\wandb\\run-20230328_171550-dre9k3h0\\files\\model-best\\assets\n"
     ]
    },
    {
     "name": "stderr",
     "output_type": "stream",
     "text": [
      "INFO:tensorflow:Assets written to: C:\\Users\\gazik\\Documents\\FIIT_SS_2022\\NS\\A1\\code\\wandb\\run-20230328_171550-dre9k3h0\\files\\model-best\\assets\n",
      "\u001B[34m\u001B[1mwandb\u001B[0m: Adding directory to artifact (C:\\Users\\gazik\\Documents\\FIIT_SS_2022\\NS\\A1\\code\\wandb\\run-20230328_171550-dre9k3h0\\files\\model-best)... Done. 0.0s\n"
     ]
    },
    {
     "name": "stdout",
     "output_type": "stream",
     "text": [
      "44/44 [==============================] - 1s 26ms/step - loss: 0.6647 - accuracy: 0.6929 - val_loss: 0.5484 - val_accuracy: 0.8067\n",
      "Epoch 15/50\n",
      "25/44 [================>.............] - ETA: 0s - loss: 0.6052 - accuracy: 0.7312"
     ]
    },
    {
     "name": "stderr",
     "output_type": "stream",
     "text": [
      "WARNING:absl:Found untraced functions such as _update_step_xla while saving (showing 1 of 1). These functions will not be directly callable after loading.\n"
     ]
    },
    {
     "name": "stdout",
     "output_type": "stream",
     "text": [
      "INFO:tensorflow:Assets written to: C:\\Users\\gazik\\Documents\\FIIT_SS_2022\\NS\\A1\\code\\wandb\\run-20230328_171550-dre9k3h0\\files\\model-best\\assets\n"
     ]
    },
    {
     "name": "stderr",
     "output_type": "stream",
     "text": [
      "INFO:tensorflow:Assets written to: C:\\Users\\gazik\\Documents\\FIIT_SS_2022\\NS\\A1\\code\\wandb\\run-20230328_171550-dre9k3h0\\files\\model-best\\assets\n",
      "\u001B[34m\u001B[1mwandb\u001B[0m: Adding directory to artifact (C:\\Users\\gazik\\Documents\\FIIT_SS_2022\\NS\\A1\\code\\wandb\\run-20230328_171550-dre9k3h0\\files\\model-best)... Done. 0.0s\n"
     ]
    },
    {
     "name": "stdout",
     "output_type": "stream",
     "text": [
      "44/44 [==============================] - 1s 26ms/step - loss: 0.6035 - accuracy: 0.7293 - val_loss: 0.5101 - val_accuracy: 0.8300\n",
      "Epoch 16/50\n",
      "28/44 [==================>...........] - ETA: 0s - loss: 0.5639 - accuracy: 0.7533"
     ]
    },
    {
     "name": "stderr",
     "output_type": "stream",
     "text": [
      "WARNING:absl:Found untraced functions such as _update_step_xla while saving (showing 1 of 1). These functions will not be directly callable after loading.\n"
     ]
    },
    {
     "name": "stdout",
     "output_type": "stream",
     "text": [
      "INFO:tensorflow:Assets written to: C:\\Users\\gazik\\Documents\\FIIT_SS_2022\\NS\\A1\\code\\wandb\\run-20230328_171550-dre9k3h0\\files\\model-best\\assets\n"
     ]
    },
    {
     "name": "stderr",
     "output_type": "stream",
     "text": [
      "INFO:tensorflow:Assets written to: C:\\Users\\gazik\\Documents\\FIIT_SS_2022\\NS\\A1\\code\\wandb\\run-20230328_171550-dre9k3h0\\files\\model-best\\assets\n",
      "\u001B[34m\u001B[1mwandb\u001B[0m: Adding directory to artifact (C:\\Users\\gazik\\Documents\\FIIT_SS_2022\\NS\\A1\\code\\wandb\\run-20230328_171550-dre9k3h0\\files\\model-best)... Done. 0.0s\n"
     ]
    },
    {
     "name": "stdout",
     "output_type": "stream",
     "text": [
      "44/44 [==============================] - 1s 22ms/step - loss: 0.5620 - accuracy: 0.7543 - val_loss: 0.4770 - val_accuracy: 0.8367\n",
      "Epoch 17/50\n",
      "24/44 [===============>..............] - ETA: 0s - loss: 0.5087 - accuracy: 0.7930"
     ]
    },
    {
     "name": "stderr",
     "output_type": "stream",
     "text": [
      "WARNING:absl:Found untraced functions such as _update_step_xla while saving (showing 1 of 1). These functions will not be directly callable after loading.\n"
     ]
    },
    {
     "name": "stdout",
     "output_type": "stream",
     "text": [
      "INFO:tensorflow:Assets written to: C:\\Users\\gazik\\Documents\\FIIT_SS_2022\\NS\\A1\\code\\wandb\\run-20230328_171550-dre9k3h0\\files\\model-best\\assets\n"
     ]
    },
    {
     "name": "stderr",
     "output_type": "stream",
     "text": [
      "INFO:tensorflow:Assets written to: C:\\Users\\gazik\\Documents\\FIIT_SS_2022\\NS\\A1\\code\\wandb\\run-20230328_171550-dre9k3h0\\files\\model-best\\assets\n",
      "\u001B[34m\u001B[1mwandb\u001B[0m: Adding directory to artifact (C:\\Users\\gazik\\Documents\\FIIT_SS_2022\\NS\\A1\\code\\wandb\\run-20230328_171550-dre9k3h0\\files\\model-best)... Done. 0.0s\n"
     ]
    },
    {
     "name": "stdout",
     "output_type": "stream",
     "text": [
      "44/44 [==============================] - 1s 27ms/step - loss: 0.5194 - accuracy: 0.7764 - val_loss: 0.4483 - val_accuracy: 0.8633\n",
      "Epoch 18/50\n",
      "23/44 [==============>...............] - ETA: 0s - loss: 0.4951 - accuracy: 0.8016"
     ]
    },
    {
     "name": "stderr",
     "output_type": "stream",
     "text": [
      "WARNING:absl:Found untraced functions such as _update_step_xla while saving (showing 1 of 1). These functions will not be directly callable after loading.\n"
     ]
    },
    {
     "name": "stdout",
     "output_type": "stream",
     "text": [
      "INFO:tensorflow:Assets written to: C:\\Users\\gazik\\Documents\\FIIT_SS_2022\\NS\\A1\\code\\wandb\\run-20230328_171550-dre9k3h0\\files\\model-best\\assets\n"
     ]
    },
    {
     "name": "stderr",
     "output_type": "stream",
     "text": [
      "INFO:tensorflow:Assets written to: C:\\Users\\gazik\\Documents\\FIIT_SS_2022\\NS\\A1\\code\\wandb\\run-20230328_171550-dre9k3h0\\files\\model-best\\assets\n",
      "\u001B[34m\u001B[1mwandb\u001B[0m: Adding directory to artifact (C:\\Users\\gazik\\Documents\\FIIT_SS_2022\\NS\\A1\\code\\wandb\\run-20230328_171550-dre9k3h0\\files\\model-best)... Done. 0.0s\n"
     ]
    },
    {
     "name": "stdout",
     "output_type": "stream",
     "text": [
      "44/44 [==============================] - 1s 24ms/step - loss: 0.4933 - accuracy: 0.8064 - val_loss: 0.4211 - val_accuracy: 0.8733\n",
      "Epoch 19/50\n",
      "29/44 [==================>...........] - ETA: 0s - loss: 0.4731 - accuracy: 0.8060"
     ]
    },
    {
     "name": "stderr",
     "output_type": "stream",
     "text": [
      "WARNING:absl:Found untraced functions such as _update_step_xla while saving (showing 1 of 1). These functions will not be directly callable after loading.\n"
     ]
    },
    {
     "name": "stdout",
     "output_type": "stream",
     "text": [
      "INFO:tensorflow:Assets written to: C:\\Users\\gazik\\Documents\\FIIT_SS_2022\\NS\\A1\\code\\wandb\\run-20230328_171550-dre9k3h0\\files\\model-best\\assets\n"
     ]
    },
    {
     "name": "stderr",
     "output_type": "stream",
     "text": [
      "INFO:tensorflow:Assets written to: C:\\Users\\gazik\\Documents\\FIIT_SS_2022\\NS\\A1\\code\\wandb\\run-20230328_171550-dre9k3h0\\files\\model-best\\assets\n",
      "\u001B[34m\u001B[1mwandb\u001B[0m: Adding directory to artifact (C:\\Users\\gazik\\Documents\\FIIT_SS_2022\\NS\\A1\\code\\wandb\\run-20230328_171550-dre9k3h0\\files\\model-best)... Done. 0.0s\n"
     ]
    },
    {
     "name": "stdout",
     "output_type": "stream",
     "text": [
      "44/44 [==============================] - 1s 22ms/step - loss: 0.4706 - accuracy: 0.8143 - val_loss: 0.3993 - val_accuracy: 0.8833\n",
      "Epoch 20/50\n",
      "40/44 [==========================>...] - ETA: 0s - loss: 0.4214 - accuracy: 0.8359"
     ]
    },
    {
     "name": "stderr",
     "output_type": "stream",
     "text": [
      "WARNING:absl:Found untraced functions such as _update_step_xla while saving (showing 1 of 1). These functions will not be directly callable after loading.\n"
     ]
    },
    {
     "name": "stdout",
     "output_type": "stream",
     "text": [
      "INFO:tensorflow:Assets written to: C:\\Users\\gazik\\Documents\\FIIT_SS_2022\\NS\\A1\\code\\wandb\\run-20230328_171550-dre9k3h0\\files\\model-best\\assets\n"
     ]
    },
    {
     "name": "stderr",
     "output_type": "stream",
     "text": [
      "INFO:tensorflow:Assets written to: C:\\Users\\gazik\\Documents\\FIIT_SS_2022\\NS\\A1\\code\\wandb\\run-20230328_171550-dre9k3h0\\files\\model-best\\assets\n",
      "\u001B[34m\u001B[1mwandb\u001B[0m: Adding directory to artifact (C:\\Users\\gazik\\Documents\\FIIT_SS_2022\\NS\\A1\\code\\wandb\\run-20230328_171550-dre9k3h0\\files\\model-best)... Done. 0.0s\n"
     ]
    },
    {
     "name": "stdout",
     "output_type": "stream",
     "text": [
      "44/44 [==============================] - 2s 38ms/step - loss: 0.4205 - accuracy: 0.8407 - val_loss: 0.3719 - val_accuracy: 0.8767\n",
      "Epoch 21/50\n",
      "26/44 [================>.............] - ETA: 0s - loss: 0.4178 - accuracy: 0.8245"
     ]
    },
    {
     "name": "stderr",
     "output_type": "stream",
     "text": [
      "WARNING:absl:Found untraced functions such as _update_step_xla while saving (showing 1 of 1). These functions will not be directly callable after loading.\n"
     ]
    },
    {
     "name": "stdout",
     "output_type": "stream",
     "text": [
      "INFO:tensorflow:Assets written to: C:\\Users\\gazik\\Documents\\FIIT_SS_2022\\NS\\A1\\code\\wandb\\run-20230328_171550-dre9k3h0\\files\\model-best\\assets\n"
     ]
    },
    {
     "name": "stderr",
     "output_type": "stream",
     "text": [
      "INFO:tensorflow:Assets written to: C:\\Users\\gazik\\Documents\\FIIT_SS_2022\\NS\\A1\\code\\wandb\\run-20230328_171550-dre9k3h0\\files\\model-best\\assets\n",
      "\u001B[34m\u001B[1mwandb\u001B[0m: Adding directory to artifact (C:\\Users\\gazik\\Documents\\FIIT_SS_2022\\NS\\A1\\code\\wandb\\run-20230328_171550-dre9k3h0\\files\\model-best)... Done. 0.0s\n"
     ]
    },
    {
     "name": "stdout",
     "output_type": "stream",
     "text": [
      "44/44 [==============================] - 1s 29ms/step - loss: 0.4202 - accuracy: 0.8264 - val_loss: 0.3548 - val_accuracy: 0.8833\n",
      "Epoch 22/50\n",
      "27/44 [=================>............] - ETA: 0s - loss: 0.4033 - accuracy: 0.8438"
     ]
    },
    {
     "name": "stderr",
     "output_type": "stream",
     "text": [
      "WARNING:absl:Found untraced functions such as _update_step_xla while saving (showing 1 of 1). These functions will not be directly callable after loading.\n"
     ]
    },
    {
     "name": "stdout",
     "output_type": "stream",
     "text": [
      "INFO:tensorflow:Assets written to: C:\\Users\\gazik\\Documents\\FIIT_SS_2022\\NS\\A1\\code\\wandb\\run-20230328_171550-dre9k3h0\\files\\model-best\\assets\n"
     ]
    },
    {
     "name": "stderr",
     "output_type": "stream",
     "text": [
      "INFO:tensorflow:Assets written to: C:\\Users\\gazik\\Documents\\FIIT_SS_2022\\NS\\A1\\code\\wandb\\run-20230328_171550-dre9k3h0\\files\\model-best\\assets\n",
      "\u001B[34m\u001B[1mwandb\u001B[0m: Adding directory to artifact (C:\\Users\\gazik\\Documents\\FIIT_SS_2022\\NS\\A1\\code\\wandb\\run-20230328_171550-dre9k3h0\\files\\model-best)... Done. 0.1s\n"
     ]
    },
    {
     "name": "stdout",
     "output_type": "stream",
     "text": [
      "44/44 [==============================] - 2s 38ms/step - loss: 0.3963 - accuracy: 0.8464 - val_loss: 0.3408 - val_accuracy: 0.8833\n",
      "Epoch 23/50\n",
      "41/44 [==========================>...] - ETA: 0s - loss: 0.3587 - accuracy: 0.8643"
     ]
    },
    {
     "name": "stderr",
     "output_type": "stream",
     "text": [
      "WARNING:absl:Found untraced functions such as _update_step_xla while saving (showing 1 of 1). These functions will not be directly callable after loading.\n"
     ]
    },
    {
     "name": "stdout",
     "output_type": "stream",
     "text": [
      "INFO:tensorflow:Assets written to: C:\\Users\\gazik\\Documents\\FIIT_SS_2022\\NS\\A1\\code\\wandb\\run-20230328_171550-dre9k3h0\\files\\model-best\\assets\n"
     ]
    },
    {
     "name": "stderr",
     "output_type": "stream",
     "text": [
      "INFO:tensorflow:Assets written to: C:\\Users\\gazik\\Documents\\FIIT_SS_2022\\NS\\A1\\code\\wandb\\run-20230328_171550-dre9k3h0\\files\\model-best\\assets\n",
      "\u001B[34m\u001B[1mwandb\u001B[0m: Adding directory to artifact (C:\\Users\\gazik\\Documents\\FIIT_SS_2022\\NS\\A1\\code\\wandb\\run-20230328_171550-dre9k3h0\\files\\model-best)... Done. 0.0s\n"
     ]
    },
    {
     "name": "stdout",
     "output_type": "stream",
     "text": [
      "44/44 [==============================] - 2s 36ms/step - loss: 0.3644 - accuracy: 0.8586 - val_loss: 0.3216 - val_accuracy: 0.8867\n",
      "Epoch 24/50\n",
      "27/44 [=================>............] - ETA: 0s - loss: 0.3692 - accuracy: 0.8495"
     ]
    },
    {
     "name": "stderr",
     "output_type": "stream",
     "text": [
      "WARNING:absl:Found untraced functions such as _update_step_xla while saving (showing 1 of 1). These functions will not be directly callable after loading.\n"
     ]
    },
    {
     "name": "stdout",
     "output_type": "stream",
     "text": [
      "INFO:tensorflow:Assets written to: C:\\Users\\gazik\\Documents\\FIIT_SS_2022\\NS\\A1\\code\\wandb\\run-20230328_171550-dre9k3h0\\files\\model-best\\assets\n"
     ]
    },
    {
     "name": "stderr",
     "output_type": "stream",
     "text": [
      "INFO:tensorflow:Assets written to: C:\\Users\\gazik\\Documents\\FIIT_SS_2022\\NS\\A1\\code\\wandb\\run-20230328_171550-dre9k3h0\\files\\model-best\\assets\n",
      "\u001B[34m\u001B[1mwandb\u001B[0m: Adding directory to artifact (C:\\Users\\gazik\\Documents\\FIIT_SS_2022\\NS\\A1\\code\\wandb\\run-20230328_171550-dre9k3h0\\files\\model-best)... Done. 0.0s\n"
     ]
    },
    {
     "name": "stdout",
     "output_type": "stream",
     "text": [
      "44/44 [==============================] - 1s 26ms/step - loss: 0.3691 - accuracy: 0.8514 - val_loss: 0.3073 - val_accuracy: 0.8967\n",
      "Epoch 25/50\n",
      "26/44 [================>.............] - ETA: 0s - loss: 0.3352 - accuracy: 0.8714"
     ]
    },
    {
     "name": "stderr",
     "output_type": "stream",
     "text": [
      "WARNING:absl:Found untraced functions such as _update_step_xla while saving (showing 1 of 1). These functions will not be directly callable after loading.\n"
     ]
    },
    {
     "name": "stdout",
     "output_type": "stream",
     "text": [
      "INFO:tensorflow:Assets written to: C:\\Users\\gazik\\Documents\\FIIT_SS_2022\\NS\\A1\\code\\wandb\\run-20230328_171550-dre9k3h0\\files\\model-best\\assets\n"
     ]
    },
    {
     "name": "stderr",
     "output_type": "stream",
     "text": [
      "INFO:tensorflow:Assets written to: C:\\Users\\gazik\\Documents\\FIIT_SS_2022\\NS\\A1\\code\\wandb\\run-20230328_171550-dre9k3h0\\files\\model-best\\assets\n",
      "\u001B[34m\u001B[1mwandb\u001B[0m: Adding directory to artifact (C:\\Users\\gazik\\Documents\\FIIT_SS_2022\\NS\\A1\\code\\wandb\\run-20230328_171550-dre9k3h0\\files\\model-best)... Done. 0.0s\n"
     ]
    },
    {
     "name": "stdout",
     "output_type": "stream",
     "text": [
      "44/44 [==============================] - 1s 26ms/step - loss: 0.3395 - accuracy: 0.8643 - val_loss: 0.2961 - val_accuracy: 0.8833\n",
      "Epoch 26/50\n",
      "22/44 [==============>...............] - ETA: 0s - loss: 0.3101 - accuracy: 0.8878"
     ]
    },
    {
     "name": "stderr",
     "output_type": "stream",
     "text": [
      "WARNING:absl:Found untraced functions such as _update_step_xla while saving (showing 1 of 1). These functions will not be directly callable after loading.\n"
     ]
    },
    {
     "name": "stdout",
     "output_type": "stream",
     "text": [
      "INFO:tensorflow:Assets written to: C:\\Users\\gazik\\Documents\\FIIT_SS_2022\\NS\\A1\\code\\wandb\\run-20230328_171550-dre9k3h0\\files\\model-best\\assets\n"
     ]
    },
    {
     "name": "stderr",
     "output_type": "stream",
     "text": [
      "INFO:tensorflow:Assets written to: C:\\Users\\gazik\\Documents\\FIIT_SS_2022\\NS\\A1\\code\\wandb\\run-20230328_171550-dre9k3h0\\files\\model-best\\assets\n",
      "\u001B[34m\u001B[1mwandb\u001B[0m: Adding directory to artifact (C:\\Users\\gazik\\Documents\\FIIT_SS_2022\\NS\\A1\\code\\wandb\\run-20230328_171550-dre9k3h0\\files\\model-best)... Done. 0.0s\n"
     ]
    },
    {
     "name": "stdout",
     "output_type": "stream",
     "text": [
      "44/44 [==============================] - 1s 29ms/step - loss: 0.3171 - accuracy: 0.8807 - val_loss: 0.2820 - val_accuracy: 0.8933\n",
      "Epoch 27/50\n",
      "27/44 [=================>............] - ETA: 0s - loss: 0.3183 - accuracy: 0.8912"
     ]
    },
    {
     "name": "stderr",
     "output_type": "stream",
     "text": [
      "WARNING:absl:Found untraced functions such as _update_step_xla while saving (showing 1 of 1). These functions will not be directly callable after loading.\n"
     ]
    },
    {
     "name": "stdout",
     "output_type": "stream",
     "text": [
      "INFO:tensorflow:Assets written to: C:\\Users\\gazik\\Documents\\FIIT_SS_2022\\NS\\A1\\code\\wandb\\run-20230328_171550-dre9k3h0\\files\\model-best\\assets\n"
     ]
    },
    {
     "name": "stderr",
     "output_type": "stream",
     "text": [
      "INFO:tensorflow:Assets written to: C:\\Users\\gazik\\Documents\\FIIT_SS_2022\\NS\\A1\\code\\wandb\\run-20230328_171550-dre9k3h0\\files\\model-best\\assets\n",
      "\u001B[34m\u001B[1mwandb\u001B[0m: Adding directory to artifact (C:\\Users\\gazik\\Documents\\FIIT_SS_2022\\NS\\A1\\code\\wandb\\run-20230328_171550-dre9k3h0\\files\\model-best)... Done. 0.0s\n"
     ]
    },
    {
     "name": "stdout",
     "output_type": "stream",
     "text": [
      "44/44 [==============================] - 1s 30ms/step - loss: 0.3094 - accuracy: 0.8971 - val_loss: 0.2801 - val_accuracy: 0.8933\n",
      "Epoch 28/50\n",
      "25/44 [================>.............] - ETA: 0s - loss: 0.2985 - accuracy: 0.8938"
     ]
    },
    {
     "name": "stderr",
     "output_type": "stream",
     "text": [
      "WARNING:absl:Found untraced functions such as _update_step_xla while saving (showing 1 of 1). These functions will not be directly callable after loading.\n"
     ]
    },
    {
     "name": "stdout",
     "output_type": "stream",
     "text": [
      "INFO:tensorflow:Assets written to: C:\\Users\\gazik\\Documents\\FIIT_SS_2022\\NS\\A1\\code\\wandb\\run-20230328_171550-dre9k3h0\\files\\model-best\\assets\n"
     ]
    },
    {
     "name": "stderr",
     "output_type": "stream",
     "text": [
      "INFO:tensorflow:Assets written to: C:\\Users\\gazik\\Documents\\FIIT_SS_2022\\NS\\A1\\code\\wandb\\run-20230328_171550-dre9k3h0\\files\\model-best\\assets\n",
      "\u001B[34m\u001B[1mwandb\u001B[0m: Adding directory to artifact (C:\\Users\\gazik\\Documents\\FIIT_SS_2022\\NS\\A1\\code\\wandb\\run-20230328_171550-dre9k3h0\\files\\model-best)... Done. 0.0s\n"
     ]
    },
    {
     "name": "stdout",
     "output_type": "stream",
     "text": [
      "44/44 [==============================] - 1s 30ms/step - loss: 0.2967 - accuracy: 0.8893 - val_loss: 0.2697 - val_accuracy: 0.8933\n",
      "Epoch 29/50\n",
      "24/44 [===============>..............] - ETA: 0s - loss: 0.2843 - accuracy: 0.8906"
     ]
    },
    {
     "name": "stderr",
     "output_type": "stream",
     "text": [
      "WARNING:absl:Found untraced functions such as _update_step_xla while saving (showing 1 of 1). These functions will not be directly callable after loading.\n"
     ]
    },
    {
     "name": "stdout",
     "output_type": "stream",
     "text": [
      "INFO:tensorflow:Assets written to: C:\\Users\\gazik\\Documents\\FIIT_SS_2022\\NS\\A1\\code\\wandb\\run-20230328_171550-dre9k3h0\\files\\model-best\\assets\n"
     ]
    },
    {
     "name": "stderr",
     "output_type": "stream",
     "text": [
      "INFO:tensorflow:Assets written to: C:\\Users\\gazik\\Documents\\FIIT_SS_2022\\NS\\A1\\code\\wandb\\run-20230328_171550-dre9k3h0\\files\\model-best\\assets\n",
      "\u001B[34m\u001B[1mwandb\u001B[0m: Adding directory to artifact (C:\\Users\\gazik\\Documents\\FIIT_SS_2022\\NS\\A1\\code\\wandb\\run-20230328_171550-dre9k3h0\\files\\model-best)... Done. 0.0s\n"
     ]
    },
    {
     "name": "stdout",
     "output_type": "stream",
     "text": [
      "44/44 [==============================] - 1s 30ms/step - loss: 0.2865 - accuracy: 0.8929 - val_loss: 0.2670 - val_accuracy: 0.8933\n",
      "Epoch 30/50\n",
      "41/44 [==========================>...] - ETA: 0s - loss: 0.2658 - accuracy: 0.9040"
     ]
    },
    {
     "name": "stderr",
     "output_type": "stream",
     "text": [
      "WARNING:absl:Found untraced functions such as _update_step_xla while saving (showing 1 of 1). These functions will not be directly callable after loading.\n"
     ]
    },
    {
     "name": "stdout",
     "output_type": "stream",
     "text": [
      "INFO:tensorflow:Assets written to: C:\\Users\\gazik\\Documents\\FIIT_SS_2022\\NS\\A1\\code\\wandb\\run-20230328_171550-dre9k3h0\\files\\model-best\\assets\n"
     ]
    },
    {
     "name": "stderr",
     "output_type": "stream",
     "text": [
      "INFO:tensorflow:Assets written to: C:\\Users\\gazik\\Documents\\FIIT_SS_2022\\NS\\A1\\code\\wandb\\run-20230328_171550-dre9k3h0\\files\\model-best\\assets\n",
      "\u001B[34m\u001B[1mwandb\u001B[0m: Adding directory to artifact (C:\\Users\\gazik\\Documents\\FIIT_SS_2022\\NS\\A1\\code\\wandb\\run-20230328_171550-dre9k3h0\\files\\model-best)... Done. 0.0s\n"
     ]
    },
    {
     "name": "stdout",
     "output_type": "stream",
     "text": [
      "44/44 [==============================] - 2s 38ms/step - loss: 0.2671 - accuracy: 0.9036 - val_loss: 0.2513 - val_accuracy: 0.9067\n",
      "Epoch 31/50\n",
      "42/44 [===========================>..] - ETA: 0s - loss: 0.2679 - accuracy: 0.8966"
     ]
    },
    {
     "name": "stderr",
     "output_type": "stream",
     "text": [
      "WARNING:absl:Found untraced functions such as _update_step_xla while saving (showing 1 of 1). These functions will not be directly callable after loading.\n"
     ]
    },
    {
     "name": "stdout",
     "output_type": "stream",
     "text": [
      "INFO:tensorflow:Assets written to: C:\\Users\\gazik\\Documents\\FIIT_SS_2022\\NS\\A1\\code\\wandb\\run-20230328_171550-dre9k3h0\\files\\model-best\\assets\n"
     ]
    },
    {
     "name": "stderr",
     "output_type": "stream",
     "text": [
      "INFO:tensorflow:Assets written to: C:\\Users\\gazik\\Documents\\FIIT_SS_2022\\NS\\A1\\code\\wandb\\run-20230328_171550-dre9k3h0\\files\\model-best\\assets\n",
      "\u001B[34m\u001B[1mwandb\u001B[0m: Adding directory to artifact (C:\\Users\\gazik\\Documents\\FIIT_SS_2022\\NS\\A1\\code\\wandb\\run-20230328_171550-dre9k3h0\\files\\model-best)... Done. 0.0s\n"
     ]
    },
    {
     "name": "stdout",
     "output_type": "stream",
     "text": [
      "44/44 [==============================] - 1s 27ms/step - loss: 0.2658 - accuracy: 0.8979 - val_loss: 0.2442 - val_accuracy: 0.9133\n",
      "Epoch 32/50\n",
      "44/44 [==============================] - 0s 3ms/step - loss: 0.2590 - accuracy: 0.8979 - val_loss: 0.2443 - val_accuracy: 0.9100\n",
      "Epoch 33/50\n",
      "26/44 [================>.............] - ETA: 0s - loss: 0.2339 - accuracy: 0.9231"
     ]
    },
    {
     "name": "stderr",
     "output_type": "stream",
     "text": [
      "WARNING:absl:Found untraced functions such as _update_step_xla while saving (showing 1 of 1). These functions will not be directly callable after loading.\n"
     ]
    },
    {
     "name": "stdout",
     "output_type": "stream",
     "text": [
      "INFO:tensorflow:Assets written to: C:\\Users\\gazik\\Documents\\FIIT_SS_2022\\NS\\A1\\code\\wandb\\run-20230328_171550-dre9k3h0\\files\\model-best\\assets\n"
     ]
    },
    {
     "name": "stderr",
     "output_type": "stream",
     "text": [
      "INFO:tensorflow:Assets written to: C:\\Users\\gazik\\Documents\\FIIT_SS_2022\\NS\\A1\\code\\wandb\\run-20230328_171550-dre9k3h0\\files\\model-best\\assets\n",
      "\u001B[34m\u001B[1mwandb\u001B[0m: Adding directory to artifact (C:\\Users\\gazik\\Documents\\FIIT_SS_2022\\NS\\A1\\code\\wandb\\run-20230328_171550-dre9k3h0\\files\\model-best)... Done. 0.0s\n"
     ]
    },
    {
     "name": "stdout",
     "output_type": "stream",
     "text": [
      "44/44 [==============================] - 1s 24ms/step - loss: 0.2418 - accuracy: 0.9171 - val_loss: 0.2397 - val_accuracy: 0.9100\n",
      "Epoch 34/50\n",
      "28/44 [==================>...........] - ETA: 0s - loss: 0.2255 - accuracy: 0.9163"
     ]
    },
    {
     "name": "stderr",
     "output_type": "stream",
     "text": [
      "WARNING:absl:Found untraced functions such as _update_step_xla while saving (showing 1 of 1). These functions will not be directly callable after loading.\n"
     ]
    },
    {
     "name": "stdout",
     "output_type": "stream",
     "text": [
      "INFO:tensorflow:Assets written to: C:\\Users\\gazik\\Documents\\FIIT_SS_2022\\NS\\A1\\code\\wandb\\run-20230328_171550-dre9k3h0\\files\\model-best\\assets\n"
     ]
    },
    {
     "name": "stderr",
     "output_type": "stream",
     "text": [
      "INFO:tensorflow:Assets written to: C:\\Users\\gazik\\Documents\\FIIT_SS_2022\\NS\\A1\\code\\wandb\\run-20230328_171550-dre9k3h0\\files\\model-best\\assets\n",
      "\u001B[34m\u001B[1mwandb\u001B[0m: Adding directory to artifact (C:\\Users\\gazik\\Documents\\FIIT_SS_2022\\NS\\A1\\code\\wandb\\run-20230328_171550-dre9k3h0\\files\\model-best)... Done. 0.0s\n"
     ]
    },
    {
     "name": "stdout",
     "output_type": "stream",
     "text": [
      "44/44 [==============================] - 1s 27ms/step - loss: 0.2337 - accuracy: 0.9129 - val_loss: 0.2284 - val_accuracy: 0.9100\n",
      "Epoch 35/50\n",
      "42/44 [===========================>..] - ETA: 0s - loss: 0.2267 - accuracy: 0.9234"
     ]
    },
    {
     "name": "stderr",
     "output_type": "stream",
     "text": [
      "WARNING:absl:Found untraced functions such as _update_step_xla while saving (showing 1 of 1). These functions will not be directly callable after loading.\n"
     ]
    },
    {
     "name": "stdout",
     "output_type": "stream",
     "text": [
      "INFO:tensorflow:Assets written to: C:\\Users\\gazik\\Documents\\FIIT_SS_2022\\NS\\A1\\code\\wandb\\run-20230328_171550-dre9k3h0\\files\\model-best\\assets\n"
     ]
    },
    {
     "name": "stderr",
     "output_type": "stream",
     "text": [
      "INFO:tensorflow:Assets written to: C:\\Users\\gazik\\Documents\\FIIT_SS_2022\\NS\\A1\\code\\wandb\\run-20230328_171550-dre9k3h0\\files\\model-best\\assets\n",
      "\u001B[34m\u001B[1mwandb\u001B[0m: Adding directory to artifact (C:\\Users\\gazik\\Documents\\FIIT_SS_2022\\NS\\A1\\code\\wandb\\run-20230328_171550-dre9k3h0\\files\\model-best)... Done. 0.0s\n"
     ]
    },
    {
     "name": "stdout",
     "output_type": "stream",
     "text": [
      "44/44 [==============================] - 1s 28ms/step - loss: 0.2291 - accuracy: 0.9221 - val_loss: 0.2241 - val_accuracy: 0.9067\n",
      "Epoch 36/50\n",
      "21/44 [=============>................] - ETA: 0s - loss: 0.2095 - accuracy: 0.9301"
     ]
    },
    {
     "name": "stderr",
     "output_type": "stream",
     "text": [
      "WARNING:absl:Found untraced functions such as _update_step_xla while saving (showing 1 of 1). These functions will not be directly callable after loading.\n"
     ]
    },
    {
     "name": "stdout",
     "output_type": "stream",
     "text": [
      "INFO:tensorflow:Assets written to: C:\\Users\\gazik\\Documents\\FIIT_SS_2022\\NS\\A1\\code\\wandb\\run-20230328_171550-dre9k3h0\\files\\model-best\\assets\n"
     ]
    },
    {
     "name": "stderr",
     "output_type": "stream",
     "text": [
      "INFO:tensorflow:Assets written to: C:\\Users\\gazik\\Documents\\FIIT_SS_2022\\NS\\A1\\code\\wandb\\run-20230328_171550-dre9k3h0\\files\\model-best\\assets\n",
      "\u001B[34m\u001B[1mwandb\u001B[0m: Adding directory to artifact (C:\\Users\\gazik\\Documents\\FIIT_SS_2022\\NS\\A1\\code\\wandb\\run-20230328_171550-dre9k3h0\\files\\model-best)... Done. 0.0s\n"
     ]
    },
    {
     "name": "stdout",
     "output_type": "stream",
     "text": [
      "44/44 [==============================] - 1s 25ms/step - loss: 0.2125 - accuracy: 0.9271 - val_loss: 0.2180 - val_accuracy: 0.9100\n",
      "Epoch 37/50\n",
      "44/44 [==============================] - 0s 6ms/step - loss: 0.2168 - accuracy: 0.9250 - val_loss: 0.2195 - val_accuracy: 0.9200\n",
      "Epoch 38/50\n",
      "43/44 [============================>.] - ETA: 0s - loss: 0.2134 - accuracy: 0.9244"
     ]
    },
    {
     "name": "stderr",
     "output_type": "stream",
     "text": [
      "WARNING:absl:Found untraced functions such as _update_step_xla while saving (showing 1 of 1). These functions will not be directly callable after loading.\n"
     ]
    },
    {
     "name": "stdout",
     "output_type": "stream",
     "text": [
      "INFO:tensorflow:Assets written to: C:\\Users\\gazik\\Documents\\FIIT_SS_2022\\NS\\A1\\code\\wandb\\run-20230328_171550-dre9k3h0\\files\\model-best\\assets\n"
     ]
    },
    {
     "name": "stderr",
     "output_type": "stream",
     "text": [
      "INFO:tensorflow:Assets written to: C:\\Users\\gazik\\Documents\\FIIT_SS_2022\\NS\\A1\\code\\wandb\\run-20230328_171550-dre9k3h0\\files\\model-best\\assets\n",
      "\u001B[34m\u001B[1mwandb\u001B[0m: Adding directory to artifact (C:\\Users\\gazik\\Documents\\FIIT_SS_2022\\NS\\A1\\code\\wandb\\run-20230328_171550-dre9k3h0\\files\\model-best)... Done. 0.0s\n"
     ]
    },
    {
     "name": "stdout",
     "output_type": "stream",
     "text": [
      "44/44 [==============================] - 1s 26ms/step - loss: 0.2126 - accuracy: 0.9250 - val_loss: 0.2176 - val_accuracy: 0.9033\n",
      "Epoch 39/50\n",
      "44/44 [==============================] - 0s 3ms/step - loss: 0.2163 - accuracy: 0.9143 - val_loss: 0.2201 - val_accuracy: 0.9100\n",
      "Epoch 40/50\n",
      "44/44 [==============================] - 0s 3ms/step - loss: 0.1998 - accuracy: 0.9314 - val_loss: 0.2213 - val_accuracy: 0.9100\n",
      "Epoch 41/50\n",
      "25/44 [================>.............] - ETA: 0s - loss: 0.1947 - accuracy: 0.9337"
     ]
    },
    {
     "name": "stderr",
     "output_type": "stream",
     "text": [
      "WARNING:absl:Found untraced functions such as _update_step_xla while saving (showing 1 of 1). These functions will not be directly callable after loading.\n"
     ]
    },
    {
     "name": "stdout",
     "output_type": "stream",
     "text": [
      "INFO:tensorflow:Assets written to: C:\\Users\\gazik\\Documents\\FIIT_SS_2022\\NS\\A1\\code\\wandb\\run-20230328_171550-dre9k3h0\\files\\model-best\\assets\n"
     ]
    },
    {
     "name": "stderr",
     "output_type": "stream",
     "text": [
      "INFO:tensorflow:Assets written to: C:\\Users\\gazik\\Documents\\FIIT_SS_2022\\NS\\A1\\code\\wandb\\run-20230328_171550-dre9k3h0\\files\\model-best\\assets\n",
      "\u001B[34m\u001B[1mwandb\u001B[0m: Adding directory to artifact (C:\\Users\\gazik\\Documents\\FIIT_SS_2022\\NS\\A1\\code\\wandb\\run-20230328_171550-dre9k3h0\\files\\model-best)... Done. 0.0s\n"
     ]
    },
    {
     "name": "stdout",
     "output_type": "stream",
     "text": [
      "44/44 [==============================] - 1s 33ms/step - loss: 0.1988 - accuracy: 0.9264 - val_loss: 0.2163 - val_accuracy: 0.9233\n",
      "Epoch 42/50\n",
      "44/44 [==============================] - 0s 4ms/step - loss: 0.1961 - accuracy: 0.9350 - val_loss: 0.2184 - val_accuracy: 0.9133\n",
      "Epoch 43/50\n",
      "39/44 [=========================>....] - ETA: 0s - loss: 0.1826 - accuracy: 0.9375"
     ]
    },
    {
     "name": "stderr",
     "output_type": "stream",
     "text": [
      "WARNING:absl:Found untraced functions such as _update_step_xla while saving (showing 1 of 1). These functions will not be directly callable after loading.\n"
     ]
    },
    {
     "name": "stdout",
     "output_type": "stream",
     "text": [
      "INFO:tensorflow:Assets written to: C:\\Users\\gazik\\Documents\\FIIT_SS_2022\\NS\\A1\\code\\wandb\\run-20230328_171550-dre9k3h0\\files\\model-best\\assets\n"
     ]
    },
    {
     "name": "stderr",
     "output_type": "stream",
     "text": [
      "INFO:tensorflow:Assets written to: C:\\Users\\gazik\\Documents\\FIIT_SS_2022\\NS\\A1\\code\\wandb\\run-20230328_171550-dre9k3h0\\files\\model-best\\assets\n",
      "\u001B[34m\u001B[1mwandb\u001B[0m: Adding directory to artifact (C:\\Users\\gazik\\Documents\\FIIT_SS_2022\\NS\\A1\\code\\wandb\\run-20230328_171550-dre9k3h0\\files\\model-best)... Done. 0.0s\n"
     ]
    },
    {
     "name": "stdout",
     "output_type": "stream",
     "text": [
      "44/44 [==============================] - 1s 26ms/step - loss: 0.1828 - accuracy: 0.9364 - val_loss: 0.2139 - val_accuracy: 0.9133\n",
      "Epoch 44/50\n",
      "23/44 [==============>...............] - ETA: 0s - loss: 0.1784 - accuracy: 0.9266"
     ]
    },
    {
     "name": "stderr",
     "output_type": "stream",
     "text": [
      "WARNING:absl:Found untraced functions such as _update_step_xla while saving (showing 1 of 1). These functions will not be directly callable after loading.\n"
     ]
    },
    {
     "name": "stdout",
     "output_type": "stream",
     "text": [
      "INFO:tensorflow:Assets written to: C:\\Users\\gazik\\Documents\\FIIT_SS_2022\\NS\\A1\\code\\wandb\\run-20230328_171550-dre9k3h0\\files\\model-best\\assets\n"
     ]
    },
    {
     "name": "stderr",
     "output_type": "stream",
     "text": [
      "INFO:tensorflow:Assets written to: C:\\Users\\gazik\\Documents\\FIIT_SS_2022\\NS\\A1\\code\\wandb\\run-20230328_171550-dre9k3h0\\files\\model-best\\assets\n",
      "\u001B[34m\u001B[1mwandb\u001B[0m: Adding directory to artifact (C:\\Users\\gazik\\Documents\\FIIT_SS_2022\\NS\\A1\\code\\wandb\\run-20230328_171550-dre9k3h0\\files\\model-best)... Done. 0.0s\n"
     ]
    },
    {
     "name": "stdout",
     "output_type": "stream",
     "text": [
      "44/44 [==============================] - 1s 30ms/step - loss: 0.1894 - accuracy: 0.9293 - val_loss: 0.2117 - val_accuracy: 0.9133\n",
      "Epoch 45/50\n",
      "27/44 [=================>............] - ETA: 0s - loss: 0.1660 - accuracy: 0.9444"
     ]
    },
    {
     "name": "stderr",
     "output_type": "stream",
     "text": [
      "WARNING:absl:Found untraced functions such as _update_step_xla while saving (showing 1 of 1). These functions will not be directly callable after loading.\n"
     ]
    },
    {
     "name": "stdout",
     "output_type": "stream",
     "text": [
      "INFO:tensorflow:Assets written to: C:\\Users\\gazik\\Documents\\FIIT_SS_2022\\NS\\A1\\code\\wandb\\run-20230328_171550-dre9k3h0\\files\\model-best\\assets\n"
     ]
    },
    {
     "name": "stderr",
     "output_type": "stream",
     "text": [
      "INFO:tensorflow:Assets written to: C:\\Users\\gazik\\Documents\\FIIT_SS_2022\\NS\\A1\\code\\wandb\\run-20230328_171550-dre9k3h0\\files\\model-best\\assets\n",
      "\u001B[34m\u001B[1mwandb\u001B[0m: Adding directory to artifact (C:\\Users\\gazik\\Documents\\FIIT_SS_2022\\NS\\A1\\code\\wandb\\run-20230328_171550-dre9k3h0\\files\\model-best)... Done. 0.0s\n"
     ]
    },
    {
     "name": "stdout",
     "output_type": "stream",
     "text": [
      "44/44 [==============================] - 1s 27ms/step - loss: 0.1754 - accuracy: 0.9400 - val_loss: 0.2055 - val_accuracy: 0.9200\n",
      "Epoch 46/50\n",
      "44/44 [==============================] - 0s 3ms/step - loss: 0.1776 - accuracy: 0.9386 - val_loss: 0.2190 - val_accuracy: 0.9067\n",
      "Epoch 47/50\n",
      "44/44 [==============================] - 0s 3ms/step - loss: 0.1697 - accuracy: 0.9364 - val_loss: 0.2112 - val_accuracy: 0.9167\n",
      "Epoch 48/50\n",
      "44/44 [==============================] - 0s 3ms/step - loss: 0.1606 - accuracy: 0.9493 - val_loss: 0.2091 - val_accuracy: 0.9133\n",
      "Epoch 49/50\n",
      "44/44 [==============================] - 0s 3ms/step - loss: 0.1605 - accuracy: 0.9407 - val_loss: 0.2172 - val_accuracy: 0.9000\n",
      "Epoch 50/50\n",
      "44/44 [==============================] - 0s 3ms/step - loss: 0.1524 - accuracy: 0.9493 - val_loss: 0.2124 - val_accuracy: 0.9133\n",
      "5/5 [==============================] - 0s 3ms/step - loss: 0.1963 - accuracy: 0.9067\n"
     ]
    },
    {
     "data": {
      "text/plain": "<IPython.core.display.HTML object>",
      "text/html": "Waiting for W&B process to finish... <strong style=\"color:green\">(success).</strong>"
     },
     "metadata": {},
     "output_type": "display_data"
    },
    {
     "data": {
      "text/plain": "<IPython.core.display.HTML object>",
      "text/html": "<style>\n    table.wandb td:nth-child(1) { padding: 0 10px; text-align: left ; width: auto;} td:nth-child(2) {text-align: left ; width: 100%}\n    .wandb-row { display: flex; flex-direction: row; flex-wrap: wrap; justify-content: flex-start; width: 100% }\n    .wandb-col { display: flex; flex-direction: column; flex-basis: 100%; flex: 1; padding: 10px; }\n    </style>\n<div class=\"wandb-row\"><div class=\"wandb-col\"><h3>Run history:</h3><br/><table class=\"wandb\"><tr><td>accuracy</td><td>▁▁▂▃▃▄▄▄▅▅▅▅▆▆▇▇▇▇▇▇▇▇▇▇▇▇██████████████</td></tr><tr><td>epoch</td><td>▁▁▁▁▂▂▂▂▂▃▃▃▃▃▃▄▄▄▄▄▅▅▅▅▅▅▆▆▆▆▆▆▇▇▇▇▇███</td></tr><tr><td>loss</td><td>█▇▇▇▆▆▅▅▄▄▄▄▃▃▃▃▂▂▂▂▂▂▂▂▂▂▁▁▁▁▁▁▁▁▁▁▁▁▁▁</td></tr><tr><td>test_acc</td><td>▁</td></tr><tr><td>test_loss</td><td>▁</td></tr><tr><td>val_accuracy</td><td>▁▂▃▄▄▄▅▅▆▆▆▇▇▇▇█████████████████████████</td></tr><tr><td>val_loss</td><td>██▇▇▆▅▅▅▄▄▃▃▃▂▂▂▂▂▂▂▁▁▁▁▁▁▁▁▁▁▁▁▁▁▁▁▁▁▁▁</td></tr></table><br/></div><div class=\"wandb-col\"><h3>Run summary:</h3><br/><table class=\"wandb\"><tr><td>accuracy</td><td>0.94929</td></tr><tr><td>best_epoch</td><td>44</td></tr><tr><td>best_val_loss</td><td>0.20549</td></tr><tr><td>epoch</td><td>49</td></tr><tr><td>loss</td><td>0.15241</td></tr><tr><td>test_acc</td><td>0.90667</td></tr><tr><td>test_loss</td><td>0.19629</td></tr><tr><td>val_accuracy</td><td>0.91333</td></tr><tr><td>val_loss</td><td>0.21238</td></tr></table><br/></div></div>"
     },
     "metadata": {},
     "output_type": "display_data"
    },
    {
     "data": {
      "text/plain": "<IPython.core.display.HTML object>",
      "text/html": " View run <strong style=\"color:#cdcd00\">TensorFlow L:[10] DO:0.2 LR:0.001</strong> at: <a href='https://wandb.ai/neural_networks_fiit/phone-price-prediction/runs/dre9k3h0' target=\"_blank\">https://wandb.ai/neural_networks_fiit/phone-price-prediction/runs/dre9k3h0</a><br/>Synced 5 W&B file(s), 1 media file(s), 200 artifact file(s) and 1 other file(s)"
     },
     "metadata": {},
     "output_type": "display_data"
    },
    {
     "data": {
      "text/plain": "<IPython.core.display.HTML object>",
      "text/html": "Find logs at: <code>.\\wandb\\run-20230328_171550-dre9k3h0\\logs</code>"
     },
     "metadata": {},
     "output_type": "display_data"
    }
   ],
   "source": [
    "name = 'TensorFlow L:{} DO:{} LR:{}'.format(str(config['hidden_layers']), config['dropout'], config['lr'])\n",
    "\n",
    "wandb.init(project='phone-price-prediction', name=name, config=config)\n",
    "wandb_callback = wandb.keras.WandbCallback()\n",
    "model.fit(train_dataset, epochs=config['epochs'], validation_data=val_dataset, callbacks=[wandb_callback])\n",
    "# build, compile, and train model here\n",
    "test_loss, test_acc = model.evaluate(test_dataset)\n",
    "wandb.log({'test_loss': test_loss, 'test_acc': test_acc})\n",
    "\n",
    "# This is no longer needed\n",
    "# y_pred = model.predict(X_val)\n",
    "# y_pred_array = np.array(y_pred)\n",
    "# y_val_array = np.array(y_val)\n",
    "\n",
    "wandb.finish()"
   ],
   "metadata": {
    "collapsed": false
   }
  },
  {
   "cell_type": "code",
   "execution_count": null,
   "outputs": [],
   "source": [],
   "metadata": {
    "collapsed": false
   }
  }
 ],
 "metadata": {
  "kernelspec": {
   "display_name": "Python 3",
   "language": "python",
   "name": "python3"
  },
  "language_info": {
   "codemirror_mode": {
    "name": "ipython",
    "version": 2
   },
   "file_extension": ".py",
   "mimetype": "text/x-python",
   "name": "python",
   "nbconvert_exporter": "python",
   "pygments_lexer": "ipython2",
   "version": "2.7.6"
  }
 },
 "nbformat": 4,
 "nbformat_minor": 0
}
