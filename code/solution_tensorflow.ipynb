{
 "cells": [
  {
   "cell_type": "code",
   "execution_count": 5,
   "outputs": [],
   "source": [
    "import pandas as pd\n",
    "\n",
    "from sklearn.model_selection import train_test_split\n",
    "from sklearn.preprocessing import StandardScaler\n",
    "import tensorflow as tf\n",
    "\n",
    "import wandb\n",
    "import tensorflow as tf\n",
    "import numpy as np"
   ],
   "metadata": {
    "collapsed": false
   }
  },
  {
   "cell_type": "markdown",
   "source": [
    "# Loading, scaling the data\n",
    "data has been explored and concaternated in `data_preparerationipynb`"
   ],
   "metadata": {
    "collapsed": false
   }
  },
  {
   "cell_type": "code",
   "execution_count": 11,
   "outputs": [
    {
     "data": {
      "text/plain": "(2000, 21)"
     },
     "execution_count": 11,
     "metadata": {},
     "output_type": "execute_result"
    }
   ],
   "source": [
    "# Load the dataset\n",
    "df = pd.read_csv('../data/train.csv')\n",
    "df.shape"
   ],
   "metadata": {
    "collapsed": false
   }
  },
  {
   "cell_type": "code",
   "execution_count": 12,
   "outputs": [],
   "source": [
    "# Separate the target variable from the features\n",
    "X = df.drop('price_range', axis=1)\n",
    "y = df['price_range']\n",
    "\n",
    "#  Split the data into train, validation, and test sets 0.7, 0.15, 0.15\n",
    "X_train, X_test, y_train, y_test = train_test_split(X, y, test_size=0.3, random_state=42)\n",
    "X_val, X_test, y_val, y_test = train_test_split(X_test, y_test, test_size=0.5, random_state=42)\n",
    "\n",
    "# Create scaling pipeline for the features\n",
    "scaler = StandardScaler()\n",
    "X_train = scaler.fit_transform(X_train)\n",
    "X_val = scaler.transform(X_val)\n",
    "X_test = scaler.transform(X_test)"
   ],
   "metadata": {
    "collapsed": false
   }
  },
  {
   "cell_type": "code",
   "execution_count": 13,
   "outputs": [],
   "source": [
    "input_shape = (20,)\n",
    "\n",
    "\n",
    "model = tf.keras.Sequential([\n",
    "    tf.keras.layers.Dense(20, input_shape=input_shape, activation='relu'),\n",
    "    tf.keras.layers.Dense(10, activation='relu'),\n",
    "    tf.keras.layers.Dense(5, activation='relu'),\n",
    "    tf.keras.layers.Dense(1, activation='softmax')\n",
    "])\n",
    "\n",
    "\n",
    "model.compile(optimizer='adam', loss='mse', metrics=['mae'])"
   ],
   "metadata": {
    "collapsed": false
   }
  },
  {
   "cell_type": "code",
   "execution_count": 15,
   "outputs": [
    {
     "data": {
      "text/plain": "<IPython.core.display.HTML object>",
      "text/html": "Finishing last run (ID:bamh47y8) before initializing another..."
     },
     "metadata": {},
     "output_type": "display_data"
    },
    {
     "data": {
      "text/plain": "<IPython.core.display.HTML object>",
      "text/html": "Waiting for W&B process to finish... <strong style=\"color:green\">(success).</strong>"
     },
     "metadata": {},
     "output_type": "display_data"
    },
    {
     "data": {
      "text/plain": "VBox(children=(Label(value='5.584 MB of 5.584 MB uploaded (0.429 MB deduped)\\r'), FloatProgress(value=1.0, max…",
      "application/vnd.jupyter.widget-view+json": {
       "version_major": 2,
       "version_minor": 0,
       "model_id": "0bac6ebb1e66422191501fdd448a6ad5"
      }
     },
     "metadata": {},
     "output_type": "display_data"
    },
    {
     "data": {
      "text/plain": "<IPython.core.display.HTML object>",
      "text/html": "<style>\n    table.wandb td:nth-child(1) { padding: 0 10px; text-align: left ; width: auto;} td:nth-child(2) {text-align: left ; width: 100%}\n    .wandb-row { display: flex; flex-direction: row; flex-wrap: wrap; justify-content: flex-start; width: 100% }\n    .wandb-col { display: flex; flex-direction: column; flex-basis: 100%; flex: 1; padding: 10px; }\n    </style>\n<div class=\"wandb-row\"><div class=\"wandb-col\"><h3>Run history:</h3><br/><table class=\"wandb\"><tr><td>epoch</td><td>▁▁▁▁▂▂▂▂▂▃▃▃▃▃▃▄▄▄▄▄▅▅▅▅▅▅▆▆▆▆▆▇▇▇▇▇▇███</td></tr><tr><td>loss</td><td>█▄▂▂▂▁▁▁▁▁▁▁▁▁▁▁▁▁▁▁▁▁▁▁▁▁▁▁▁▁▁▁▁▁▁▁▁▁▁▁</td></tr><tr><td>mae</td><td>█▅▃▃▂▂▂▂▂▂▁▁▁▁▁▁▁▁▁▁▁▁▁▁▁▁▁▁▁▁▁▁▁▁▁▁▁▁▁▁</td></tr><tr><td>test_loss</td><td>▁</td></tr><tr><td>test_mae</td><td>▁</td></tr><tr><td>val_loss</td><td>█▄▂▂▂▁▁▁▁▁▁▁▁▁▁▁▁▁▁▁▁▁▁▁▁▁▁▁▁▁▁▁▁▁▁▁▁▁▁▁</td></tr><tr><td>val_mae</td><td>█▅▃▂▂▂▁▁▁▁▁▁▁▁▁▁▁▁▁▁▁▁▁▁▁▁▁▁▁▁▁▁▁▁▁▁▁▁▁▁</td></tr></table><br/></div><div class=\"wandb-col\"><h3>Run summary:</h3><br/><table class=\"wandb\"><tr><td>best_epoch</td><td>59</td></tr><tr><td>best_val_loss</td><td>0.11772</td></tr><tr><td>epoch</td><td>99</td></tr><tr><td>loss</td><td>0.04772</td></tr><tr><td>mae</td><td>0.16485</td></tr><tr><td>test_loss</td><td>0.12329</td></tr><tr><td>test_mae</td><td>0.26526</td></tr><tr><td>val_loss</td><td>0.12329</td></tr><tr><td>val_mae</td><td>0.26526</td></tr></table><br/></div></div>"
     },
     "metadata": {},
     "output_type": "display_data"
    },
    {
     "data": {
      "text/plain": "<IPython.core.display.HTML object>",
      "text/html": " View run <strong style=\"color:#cdcd00\">honest-pond-36</strong> at: <a href='https://wandb.ai/neural_networks_fiit/phone-price-prediction/runs/bamh47y8' target=\"_blank\">https://wandb.ai/neural_networks_fiit/phone-price-prediction/runs/bamh47y8</a><br/>Synced 5 W&B file(s), 1 media file(s), 215 artifact file(s) and 1 other file(s)"
     },
     "metadata": {},
     "output_type": "display_data"
    },
    {
     "data": {
      "text/plain": "<IPython.core.display.HTML object>",
      "text/html": "Find logs at: <code>.\\wandb\\run-20230321_100339-bamh47y8\\logs</code>"
     },
     "metadata": {},
     "output_type": "display_data"
    },
    {
     "data": {
      "text/plain": "<IPython.core.display.HTML object>",
      "text/html": "Successfully finished last run (ID:bamh47y8). Initializing new run:<br/>"
     },
     "metadata": {},
     "output_type": "display_data"
    },
    {
     "data": {
      "text/plain": "VBox(children=(Label(value='Waiting for wandb.init()...\\r'), FloatProgress(value=0.016666666666666666, max=1.0…",
      "application/vnd.jupyter.widget-view+json": {
       "version_major": 2,
       "version_minor": 0,
       "model_id": "850d00e834454bffbbbe1315265fe163"
      }
     },
     "metadata": {},
     "output_type": "display_data"
    },
    {
     "data": {
      "text/plain": "<IPython.core.display.HTML object>",
      "text/html": "Tracking run with wandb version 0.14.0"
     },
     "metadata": {},
     "output_type": "display_data"
    },
    {
     "data": {
      "text/plain": "<IPython.core.display.HTML object>",
      "text/html": "Run data is saved locally in <code>C:\\Users\\gazik\\Documents\\FIIT_SS_2022\\NS\\A1\\code\\wandb\\run-20230321_100907-cnwumpuj</code>"
     },
     "metadata": {},
     "output_type": "display_data"
    },
    {
     "data": {
      "text/plain": "<IPython.core.display.HTML object>",
      "text/html": "Syncing run <strong><a href='https://wandb.ai/neural_networks_fiit/phone-price-prediction/runs/cnwumpuj' target=\"_blank\">brisk-wildflower-37</a></strong> to <a href='https://wandb.ai/neural_networks_fiit/phone-price-prediction' target=\"_blank\">Weights & Biases</a> (<a href='https://wandb.me/run' target=\"_blank\">docs</a>)<br/>"
     },
     "metadata": {},
     "output_type": "display_data"
    },
    {
     "data": {
      "text/plain": "<IPython.core.display.HTML object>",
      "text/html": " View project at <a href='https://wandb.ai/neural_networks_fiit/phone-price-prediction' target=\"_blank\">https://wandb.ai/neural_networks_fiit/phone-price-prediction</a>"
     },
     "metadata": {},
     "output_type": "display_data"
    },
    {
     "data": {
      "text/plain": "<IPython.core.display.HTML object>",
      "text/html": " View run at <a href='https://wandb.ai/neural_networks_fiit/phone-price-prediction/runs/cnwumpuj' target=\"_blank\">https://wandb.ai/neural_networks_fiit/phone-price-prediction/runs/cnwumpuj</a>"
     },
     "metadata": {},
     "output_type": "display_data"
    },
    {
     "name": "stdout",
     "output_type": "stream",
     "text": [
      "Epoch 1/100\n",
      "35/44 [======================>.......] - ETA: 0s - loss: 0.0472 - mae: 0.1657"
     ]
    },
    {
     "name": "stderr",
     "output_type": "stream",
     "text": [
      "WARNING:absl:Found untraced functions such as _update_step_xla while saving (showing 1 of 1). These functions will not be directly callable after loading.\n"
     ]
    },
    {
     "name": "stdout",
     "output_type": "stream",
     "text": [
      "INFO:tensorflow:Assets written to: C:\\Users\\gazik\\Documents\\FIIT_SS_2022\\NS\\A1\\code\\wandb\\run-20230321_100907-cnwumpuj\\files\\model-best\\assets\n"
     ]
    },
    {
     "name": "stderr",
     "output_type": "stream",
     "text": [
      "INFO:tensorflow:Assets written to: C:\\Users\\gazik\\Documents\\FIIT_SS_2022\\NS\\A1\\code\\wandb\\run-20230321_100907-cnwumpuj\\files\\model-best\\assets\n",
      "\u001B[34m\u001B[1mwandb\u001B[0m: Adding directory to artifact (C:\\Users\\gazik\\Documents\\FIIT_SS_2022\\NS\\A1\\code\\wandb\\run-20230321_100907-cnwumpuj\\files\\model-best)... Done. 0.0s\n"
     ]
    },
    {
     "name": "stdout",
     "output_type": "stream",
     "text": [
      "44/44 [==============================] - 2s 46ms/step - loss: 0.0479 - mae: 0.1659 - val_loss: 0.1249 - val_mae: 0.2722\n",
      "Epoch 2/100\n",
      "43/44 [============================>.] - ETA: 0s - loss: 0.0477 - mae: 0.1653"
     ]
    },
    {
     "name": "stderr",
     "output_type": "stream",
     "text": [
      "WARNING:absl:Found untraced functions such as _update_step_xla while saving (showing 1 of 1). These functions will not be directly callable after loading.\n"
     ]
    },
    {
     "name": "stdout",
     "output_type": "stream",
     "text": [
      "INFO:tensorflow:Assets written to: C:\\Users\\gazik\\Documents\\FIIT_SS_2022\\NS\\A1\\code\\wandb\\run-20230321_100907-cnwumpuj\\files\\model-best\\assets\n"
     ]
    },
    {
     "name": "stderr",
     "output_type": "stream",
     "text": [
      "INFO:tensorflow:Assets written to: C:\\Users\\gazik\\Documents\\FIIT_SS_2022\\NS\\A1\\code\\wandb\\run-20230321_100907-cnwumpuj\\files\\model-best\\assets\n",
      "\u001B[34m\u001B[1mwandb\u001B[0m: Adding directory to artifact (C:\\Users\\gazik\\Documents\\FIIT_SS_2022\\NS\\A1\\code\\wandb\\run-20230321_100907-cnwumpuj\\files\\model-best)... Done. 0.0s\n"
     ]
    },
    {
     "name": "stdout",
     "output_type": "stream",
     "text": [
      "44/44 [==============================] - 2s 46ms/step - loss: 0.0474 - mae: 0.1647 - val_loss: 0.1202 - val_mae: 0.2627\n",
      "Epoch 3/100\n",
      "44/44 [==============================] - 0s 4ms/step - loss: 0.0474 - mae: 0.1638 - val_loss: 0.1257 - val_mae: 0.2683\n",
      "Epoch 4/100\n",
      "44/44 [==============================] - 0s 4ms/step - loss: 0.0473 - mae: 0.1647 - val_loss: 0.1245 - val_mae: 0.2707\n",
      "Epoch 5/100\n",
      "44/44 [==============================] - 0s 4ms/step - loss: 0.0464 - mae: 0.1626 - val_loss: 0.1211 - val_mae: 0.2627\n",
      "Epoch 6/100\n",
      "44/44 [==============================] - 0s 4ms/step - loss: 0.0469 - mae: 0.1634 - val_loss: 0.1228 - val_mae: 0.2650\n",
      "Epoch 7/100\n",
      "44/44 [==============================] - 0s 4ms/step - loss: 0.0470 - mae: 0.1648 - val_loss: 0.1242 - val_mae: 0.2678\n",
      "Epoch 8/100\n",
      "44/44 [==============================] - 0s 4ms/step - loss: 0.0469 - mae: 0.1632 - val_loss: 0.1225 - val_mae: 0.2616\n",
      "Epoch 9/100\n",
      "44/44 [==============================] - 0s 4ms/step - loss: 0.0460 - mae: 0.1618 - val_loss: 0.1236 - val_mae: 0.2682\n",
      "Epoch 10/100\n",
      "44/44 [==============================] - 0s 4ms/step - loss: 0.0455 - mae: 0.1608 - val_loss: 0.1211 - val_mae: 0.2629\n",
      "Epoch 11/100\n",
      "44/44 [==============================] - 0s 4ms/step - loss: 0.0454 - mae: 0.1607 - val_loss: 0.1216 - val_mae: 0.2634\n",
      "Epoch 12/100\n",
      "44/44 [==============================] - 0s 4ms/step - loss: 0.0464 - mae: 0.1621 - val_loss: 0.1243 - val_mae: 0.2660\n",
      "Epoch 13/100\n",
      "44/44 [==============================] - 0s 4ms/step - loss: 0.0451 - mae: 0.1590 - val_loss: 0.1222 - val_mae: 0.2652\n",
      "Epoch 14/100\n",
      "41/44 [==========================>...] - ETA: 0s - loss: 0.0446 - mae: 0.1594"
     ]
    },
    {
     "name": "stderr",
     "output_type": "stream",
     "text": [
      "WARNING:absl:Found untraced functions such as _update_step_xla while saving (showing 1 of 1). These functions will not be directly callable after loading.\n"
     ]
    },
    {
     "name": "stdout",
     "output_type": "stream",
     "text": [
      "INFO:tensorflow:Assets written to: C:\\Users\\gazik\\Documents\\FIIT_SS_2022\\NS\\A1\\code\\wandb\\run-20230321_100907-cnwumpuj\\files\\model-best\\assets\n"
     ]
    },
    {
     "name": "stderr",
     "output_type": "stream",
     "text": [
      "INFO:tensorflow:Assets written to: C:\\Users\\gazik\\Documents\\FIIT_SS_2022\\NS\\A1\\code\\wandb\\run-20230321_100907-cnwumpuj\\files\\model-best\\assets\n",
      "\u001B[34m\u001B[1mwandb\u001B[0m: Adding directory to artifact (C:\\Users\\gazik\\Documents\\FIIT_SS_2022\\NS\\A1\\code\\wandb\\run-20230321_100907-cnwumpuj\\files\\model-best)... Done. 0.0s\n"
     ]
    },
    {
     "name": "stdout",
     "output_type": "stream",
     "text": [
      "44/44 [==============================] - 1s 33ms/step - loss: 0.0451 - mae: 0.1602 - val_loss: 0.1202 - val_mae: 0.2639\n",
      "Epoch 15/100\n",
      "44/44 [==============================] - 0s 4ms/step - loss: 0.0450 - mae: 0.1599 - val_loss: 0.1220 - val_mae: 0.2625\n",
      "Epoch 16/100\n",
      "44/44 [==============================] - 0s 4ms/step - loss: 0.0447 - mae: 0.1587 - val_loss: 0.1241 - val_mae: 0.2693\n",
      "Epoch 17/100\n",
      "44/44 [==============================] - 0s 4ms/step - loss: 0.0446 - mae: 0.1589 - val_loss: 0.1232 - val_mae: 0.2647\n",
      "Epoch 18/100\n",
      "44/44 [==============================] - 0s 4ms/step - loss: 0.0443 - mae: 0.1587 - val_loss: 0.1244 - val_mae: 0.2637\n",
      "Epoch 19/100\n",
      "44/44 [==============================] - 0s 4ms/step - loss: 0.0438 - mae: 0.1573 - val_loss: 0.1220 - val_mae: 0.2632\n",
      "Epoch 20/100\n",
      "44/44 [==============================] - 0s 4ms/step - loss: 0.0446 - mae: 0.1590 - val_loss: 0.1237 - val_mae: 0.2666\n",
      "Epoch 21/100\n",
      "44/44 [==============================] - 0s 4ms/step - loss: 0.0438 - mae: 0.1579 - val_loss: 0.1238 - val_mae: 0.2677\n",
      "Epoch 22/100\n",
      "44/44 [==============================] - 0s 4ms/step - loss: 0.0438 - mae: 0.1574 - val_loss: 0.1290 - val_mae: 0.2737\n",
      "Epoch 23/100\n",
      "44/44 [==============================] - 0s 3ms/step - loss: 0.0431 - mae: 0.1547 - val_loss: 0.1271 - val_mae: 0.2757\n",
      "Epoch 24/100\n",
      "44/44 [==============================] - 0s 4ms/step - loss: 0.0440 - mae: 0.1577 - val_loss: 0.1254 - val_mae: 0.2668\n",
      "Epoch 25/100\n",
      "44/44 [==============================] - 0s 4ms/step - loss: 0.0437 - mae: 0.1564 - val_loss: 0.1291 - val_mae: 0.2742\n",
      "Epoch 26/100\n",
      "44/44 [==============================] - 0s 4ms/step - loss: 0.0434 - mae: 0.1554 - val_loss: 0.1240 - val_mae: 0.2670\n",
      "Epoch 27/100\n",
      "44/44 [==============================] - 0s 4ms/step - loss: 0.0425 - mae: 0.1547 - val_loss: 0.1251 - val_mae: 0.2639\n",
      "Epoch 28/100\n",
      "44/44 [==============================] - 0s 4ms/step - loss: 0.0437 - mae: 0.1577 - val_loss: 0.1232 - val_mae: 0.2665\n",
      "Epoch 29/100\n",
      "44/44 [==============================] - 0s 4ms/step - loss: 0.0433 - mae: 0.1555 - val_loss: 0.1252 - val_mae: 0.2670\n",
      "Epoch 30/100\n",
      "44/44 [==============================] - 0s 4ms/step - loss: 0.0427 - mae: 0.1542 - val_loss: 0.1270 - val_mae: 0.2697\n",
      "Epoch 31/100\n",
      "44/44 [==============================] - 0s 4ms/step - loss: 0.0424 - mae: 0.1541 - val_loss: 0.1242 - val_mae: 0.2676\n",
      "Epoch 32/100\n",
      "44/44 [==============================] - 0s 4ms/step - loss: 0.0423 - mae: 0.1540 - val_loss: 0.1254 - val_mae: 0.2691\n",
      "Epoch 33/100\n",
      "44/44 [==============================] - 0s 4ms/step - loss: 0.0422 - mae: 0.1534 - val_loss: 0.1230 - val_mae: 0.2644\n",
      "Epoch 34/100\n",
      "44/44 [==============================] - 0s 4ms/step - loss: 0.0425 - mae: 0.1544 - val_loss: 0.1250 - val_mae: 0.2673\n",
      "Epoch 35/100\n",
      "44/44 [==============================] - 0s 4ms/step - loss: 0.0414 - mae: 0.1530 - val_loss: 0.1262 - val_mae: 0.2661\n",
      "Epoch 36/100\n",
      "44/44 [==============================] - 0s 4ms/step - loss: 0.0419 - mae: 0.1522 - val_loss: 0.1246 - val_mae: 0.2655\n",
      "Epoch 37/100\n",
      "44/44 [==============================] - 0s 4ms/step - loss: 0.0414 - mae: 0.1516 - val_loss: 0.1241 - val_mae: 0.2657\n",
      "Epoch 38/100\n",
      "44/44 [==============================] - 0s 3ms/step - loss: 0.0415 - mae: 0.1519 - val_loss: 0.1237 - val_mae: 0.2644\n",
      "Epoch 39/100\n",
      "44/44 [==============================] - 0s 3ms/step - loss: 0.0413 - mae: 0.1524 - val_loss: 0.1266 - val_mae: 0.2688\n",
      "Epoch 40/100\n",
      "44/44 [==============================] - 0s 4ms/step - loss: 0.0421 - mae: 0.1533 - val_loss: 0.1272 - val_mae: 0.2676\n",
      "Epoch 41/100\n",
      "44/44 [==============================] - 0s 3ms/step - loss: 0.0424 - mae: 0.1538 - val_loss: 0.1238 - val_mae: 0.2668\n",
      "Epoch 42/100\n",
      "44/44 [==============================] - 0s 3ms/step - loss: 0.0417 - mae: 0.1527 - val_loss: 0.1269 - val_mae: 0.2671\n",
      "Epoch 43/100\n",
      "44/44 [==============================] - 0s 3ms/step - loss: 0.0416 - mae: 0.1522 - val_loss: 0.1289 - val_mae: 0.2692\n",
      "Epoch 44/100\n",
      "44/44 [==============================] - 0s 3ms/step - loss: 0.0413 - mae: 0.1516 - val_loss: 0.1271 - val_mae: 0.2700\n",
      "Epoch 45/100\n",
      "44/44 [==============================] - 0s 3ms/step - loss: 0.0406 - mae: 0.1502 - val_loss: 0.1280 - val_mae: 0.2701\n",
      "Epoch 46/100\n",
      "44/44 [==============================] - 0s 3ms/step - loss: 0.0403 - mae: 0.1496 - val_loss: 0.1278 - val_mae: 0.2666\n",
      "Epoch 47/100\n",
      "44/44 [==============================] - 0s 3ms/step - loss: 0.0407 - mae: 0.1497 - val_loss: 0.1275 - val_mae: 0.2706\n",
      "Epoch 48/100\n",
      "44/44 [==============================] - 0s 3ms/step - loss: 0.0413 - mae: 0.1508 - val_loss: 0.1265 - val_mae: 0.2699\n",
      "Epoch 49/100\n",
      "44/44 [==============================] - 0s 3ms/step - loss: 0.0402 - mae: 0.1490 - val_loss: 0.1301 - val_mae: 0.2746\n",
      "Epoch 50/100\n",
      "44/44 [==============================] - 0s 3ms/step - loss: 0.0400 - mae: 0.1490 - val_loss: 0.1248 - val_mae: 0.2678\n",
      "Epoch 51/100\n",
      "44/44 [==============================] - 0s 3ms/step - loss: 0.0397 - mae: 0.1482 - val_loss: 0.1302 - val_mae: 0.2736\n",
      "Epoch 52/100\n",
      "44/44 [==============================] - 0s 3ms/step - loss: 0.0400 - mae: 0.1482 - val_loss: 0.1270 - val_mae: 0.2687\n",
      "Epoch 53/100\n",
      "44/44 [==============================] - 0s 3ms/step - loss: 0.0398 - mae: 0.1478 - val_loss: 0.1251 - val_mae: 0.2653\n",
      "Epoch 54/100\n",
      "44/44 [==============================] - 0s 3ms/step - loss: 0.0407 - mae: 0.1488 - val_loss: 0.1255 - val_mae: 0.2675\n",
      "Epoch 55/100\n",
      "44/44 [==============================] - 0s 3ms/step - loss: 0.0399 - mae: 0.1484 - val_loss: 0.1251 - val_mae: 0.2671\n",
      "Epoch 56/100\n",
      "44/44 [==============================] - 0s 3ms/step - loss: 0.0396 - mae: 0.1464 - val_loss: 0.1335 - val_mae: 0.2796\n",
      "Epoch 57/100\n",
      "44/44 [==============================] - 0s 3ms/step - loss: 0.0400 - mae: 0.1492 - val_loss: 0.1263 - val_mae: 0.2669\n",
      "Epoch 58/100\n",
      "44/44 [==============================] - 0s 3ms/step - loss: 0.0396 - mae: 0.1472 - val_loss: 0.1270 - val_mae: 0.2727\n",
      "Epoch 59/100\n",
      "44/44 [==============================] - 0s 3ms/step - loss: 0.0393 - mae: 0.1460 - val_loss: 0.1256 - val_mae: 0.2653\n",
      "Epoch 60/100\n",
      "44/44 [==============================] - 0s 3ms/step - loss: 0.0386 - mae: 0.1449 - val_loss: 0.1265 - val_mae: 0.2702\n",
      "Epoch 61/100\n",
      "44/44 [==============================] - 0s 3ms/step - loss: 0.0391 - mae: 0.1463 - val_loss: 0.1261 - val_mae: 0.2672\n",
      "Epoch 62/100\n",
      "44/44 [==============================] - 0s 3ms/step - loss: 0.0385 - mae: 0.1445 - val_loss: 0.1259 - val_mae: 0.2649\n",
      "Epoch 63/100\n",
      "44/44 [==============================] - 0s 3ms/step - loss: 0.0395 - mae: 0.1465 - val_loss: 0.1293 - val_mae: 0.2676\n",
      "Epoch 64/100\n",
      "44/44 [==============================] - 0s 3ms/step - loss: 0.0393 - mae: 0.1457 - val_loss: 0.1270 - val_mae: 0.2666\n",
      "Epoch 65/100\n",
      "44/44 [==============================] - 0s 3ms/step - loss: 0.0388 - mae: 0.1455 - val_loss: 0.1275 - val_mae: 0.2673\n",
      "Epoch 66/100\n",
      "44/44 [==============================] - 0s 3ms/step - loss: 0.0387 - mae: 0.1452 - val_loss: 0.1273 - val_mae: 0.2660\n",
      "Epoch 67/100\n",
      "44/44 [==============================] - 0s 3ms/step - loss: 0.0382 - mae: 0.1437 - val_loss: 0.1292 - val_mae: 0.2704\n",
      "Epoch 68/100\n",
      "44/44 [==============================] - 0s 3ms/step - loss: 0.0389 - mae: 0.1450 - val_loss: 0.1274 - val_mae: 0.2670\n",
      "Epoch 69/100\n",
      "44/44 [==============================] - 0s 3ms/step - loss: 0.0388 - mae: 0.1457 - val_loss: 0.1279 - val_mae: 0.2654\n",
      "Epoch 70/100\n",
      "44/44 [==============================] - 0s 3ms/step - loss: 0.0384 - mae: 0.1443 - val_loss: 0.1290 - val_mae: 0.2691\n",
      "Epoch 71/100\n",
      "44/44 [==============================] - 0s 3ms/step - loss: 0.0384 - mae: 0.1442 - val_loss: 0.1271 - val_mae: 0.2705\n",
      "Epoch 72/100\n",
      "44/44 [==============================] - 0s 3ms/step - loss: 0.0384 - mae: 0.1438 - val_loss: 0.1311 - val_mae: 0.2742\n",
      "Epoch 73/100\n",
      "44/44 [==============================] - 0s 3ms/step - loss: 0.0378 - mae: 0.1432 - val_loss: 0.1279 - val_mae: 0.2687\n",
      "Epoch 74/100\n",
      "44/44 [==============================] - 0s 3ms/step - loss: 0.0386 - mae: 0.1451 - val_loss: 0.1299 - val_mae: 0.2714\n",
      "Epoch 75/100\n",
      "44/44 [==============================] - 0s 3ms/step - loss: 0.0380 - mae: 0.1434 - val_loss: 0.1287 - val_mae: 0.2657\n",
      "Epoch 76/100\n",
      "44/44 [==============================] - 0s 3ms/step - loss: 0.0381 - mae: 0.1434 - val_loss: 0.1285 - val_mae: 0.2688\n",
      "Epoch 77/100\n",
      "44/44 [==============================] - 0s 3ms/step - loss: 0.0372 - mae: 0.1419 - val_loss: 0.1298 - val_mae: 0.2698\n",
      "Epoch 78/100\n",
      "44/44 [==============================] - 0s 3ms/step - loss: 0.0374 - mae: 0.1417 - val_loss: 0.1295 - val_mae: 0.2660\n",
      "Epoch 79/100\n",
      "44/44 [==============================] - 0s 3ms/step - loss: 0.0371 - mae: 0.1415 - val_loss: 0.1319 - val_mae: 0.2728\n",
      "Epoch 80/100\n",
      "44/44 [==============================] - 0s 3ms/step - loss: 0.0383 - mae: 0.1443 - val_loss: 0.1289 - val_mae: 0.2699\n",
      "Epoch 81/100\n",
      "44/44 [==============================] - 0s 3ms/step - loss: 0.0371 - mae: 0.1421 - val_loss: 0.1290 - val_mae: 0.2658\n",
      "Epoch 82/100\n",
      "44/44 [==============================] - 0s 3ms/step - loss: 0.0372 - mae: 0.1416 - val_loss: 0.1294 - val_mae: 0.2705\n",
      "Epoch 83/100\n",
      "44/44 [==============================] - 0s 3ms/step - loss: 0.0367 - mae: 0.1405 - val_loss: 0.1301 - val_mae: 0.2709\n",
      "Epoch 84/100\n",
      "44/44 [==============================] - 0s 3ms/step - loss: 0.0372 - mae: 0.1412 - val_loss: 0.1285 - val_mae: 0.2681\n",
      "Epoch 85/100\n",
      "44/44 [==============================] - 0s 3ms/step - loss: 0.0369 - mae: 0.1411 - val_loss: 0.1328 - val_mae: 0.2756\n",
      "Epoch 86/100\n",
      "44/44 [==============================] - 0s 3ms/step - loss: 0.0364 - mae: 0.1405 - val_loss: 0.1317 - val_mae: 0.2672\n",
      "Epoch 87/100\n",
      "44/44 [==============================] - 0s 3ms/step - loss: 0.0372 - mae: 0.1407 - val_loss: 0.1274 - val_mae: 0.2678\n",
      "Epoch 88/100\n",
      "44/44 [==============================] - 0s 3ms/step - loss: 0.0368 - mae: 0.1401 - val_loss: 0.1275 - val_mae: 0.2656\n",
      "Epoch 89/100\n",
      "44/44 [==============================] - 0s 3ms/step - loss: 0.0372 - mae: 0.1406 - val_loss: 0.1309 - val_mae: 0.2729\n",
      "Epoch 90/100\n",
      "44/44 [==============================] - 0s 3ms/step - loss: 0.0369 - mae: 0.1411 - val_loss: 0.1316 - val_mae: 0.2703\n",
      "Epoch 91/100\n",
      "44/44 [==============================] - 0s 3ms/step - loss: 0.0359 - mae: 0.1379 - val_loss: 0.1288 - val_mae: 0.2700\n",
      "Epoch 92/100\n",
      "44/44 [==============================] - 0s 3ms/step - loss: 0.0364 - mae: 0.1402 - val_loss: 0.1292 - val_mae: 0.2715\n",
      "Epoch 93/100\n",
      "44/44 [==============================] - 0s 3ms/step - loss: 0.0367 - mae: 0.1397 - val_loss: 0.1294 - val_mae: 0.2696\n",
      "Epoch 94/100\n",
      "44/44 [==============================] - 0s 3ms/step - loss: 0.0376 - mae: 0.1411 - val_loss: 0.1313 - val_mae: 0.2714\n",
      "Epoch 95/100\n",
      "44/44 [==============================] - 0s 3ms/step - loss: 0.0359 - mae: 0.1388 - val_loss: 0.1281 - val_mae: 0.2701\n",
      "Epoch 96/100\n",
      "44/44 [==============================] - 0s 3ms/step - loss: 0.0364 - mae: 0.1385 - val_loss: 0.1326 - val_mae: 0.2762\n",
      "Epoch 97/100\n",
      "44/44 [==============================] - 0s 3ms/step - loss: 0.0367 - mae: 0.1402 - val_loss: 0.1308 - val_mae: 0.2702\n",
      "Epoch 98/100\n",
      "44/44 [==============================] - 0s 3ms/step - loss: 0.0363 - mae: 0.1387 - val_loss: 0.1308 - val_mae: 0.2700\n",
      "Epoch 99/100\n",
      "44/44 [==============================] - 0s 3ms/step - loss: 0.0362 - mae: 0.1394 - val_loss: 0.1310 - val_mae: 0.2696\n",
      "Epoch 100/100\n",
      "44/44 [==============================] - 0s 3ms/step - loss: 0.0369 - mae: 0.1402 - val_loss: 0.1321 - val_mae: 0.2729\n",
      "10/10 [==============================] - 0s 2ms/step - loss: 0.1321 - mae: 0.2729\n",
      "10/10 [==============================] - 0s 1ms/step\n"
     ]
    },
    {
     "data": {
      "text/plain": "<IPython.core.display.HTML object>",
      "text/html": "Waiting for W&B process to finish... <strong style=\"color:green\">(success).</strong>"
     },
     "metadata": {},
     "output_type": "display_data"
    },
    {
     "data": {
      "text/plain": "VBox(children=(Label(value='0.433 MB of 0.433 MB uploaded (0.020 MB deduped)\\r'), FloatProgress(value=1.0, max…",
      "application/vnd.jupyter.widget-view+json": {
       "version_major": 2,
       "version_minor": 0,
       "model_id": "caa6764510e34e57ad5240a6356b4fc5"
      }
     },
     "metadata": {},
     "output_type": "display_data"
    },
    {
     "data": {
      "text/plain": "<IPython.core.display.HTML object>",
      "text/html": "<style>\n    table.wandb td:nth-child(1) { padding: 0 10px; text-align: left ; width: auto;} td:nth-child(2) {text-align: left ; width: 100%}\n    .wandb-row { display: flex; flex-direction: row; flex-wrap: wrap; justify-content: flex-start; width: 100% }\n    .wandb-col { display: flex; flex-direction: column; flex-basis: 100%; flex: 1; padding: 10px; }\n    </style>\n<div class=\"wandb-row\"><div class=\"wandb-col\"><h3>Run history:</h3><br/><table class=\"wandb\"><tr><td>epoch</td><td>▁▁▁▁▂▂▂▂▂▃▃▃▃▃▃▄▄▄▄▄▅▅▅▅▅▅▆▆▆▆▆▇▇▇▇▇▇███</td></tr><tr><td>loss</td><td>██▇▇▇▆▆▆▆▅▅▅▅▅▄▄▅▄▃▃▃▄▃▃▃▃▂▂▂▂▂▁▂▁▁▁▁▂▁▁</td></tr><tr><td>mae</td><td>█▇▇▇▇▆▆▆▆▅▅▆▅▅▄▄▅▄▄▃▃▃▃▃▃▃▂▃▂▂▁▁▁▁▁▁▁▁▁▁</td></tr><tr><td>test_loss</td><td>▁</td></tr><tr><td>test_mae</td><td>▁</td></tr><tr><td>val_loss</td><td>▃▃▂▂▁▁▂▃▂▄▂▂▃▃▃▄▂▄▅▆▆▃█▃▄▄▅▅▇▆▆▇▆▅▄▆▅▇▆▇</td></tr><tr><td>val_mae</td><td>▅▄▂▁▂▂▄▂▃▆▃▃▃▃▃▄▃▄▃▆▆▃█▂▃▃▄▂▆▅▄▅▄▄▃▅▅▅▄▅</td></tr></table><br/></div><div class=\"wandb-col\"><h3>Run summary:</h3><br/><table class=\"wandb\"><tr><td>best_epoch</td><td>13</td></tr><tr><td>best_val_loss</td><td>0.12022</td></tr><tr><td>epoch</td><td>99</td></tr><tr><td>loss</td><td>0.03692</td></tr><tr><td>mae</td><td>0.1402</td></tr><tr><td>test_loss</td><td>0.1321</td></tr><tr><td>test_mae</td><td>0.27294</td></tr><tr><td>val_loss</td><td>0.1321</td></tr><tr><td>val_mae</td><td>0.27294</td></tr></table><br/></div></div>"
     },
     "metadata": {},
     "output_type": "display_data"
    },
    {
     "data": {
      "text/plain": "<IPython.core.display.HTML object>",
      "text/html": " View run <strong style=\"color:#cdcd00\">brisk-wildflower-37</strong> at: <a href='https://wandb.ai/neural_networks_fiit/phone-price-prediction/runs/cnwumpuj' target=\"_blank\">https://wandb.ai/neural_networks_fiit/phone-price-prediction/runs/cnwumpuj</a><br/>Synced 5 W&B file(s), 1 media file(s), 15 artifact file(s) and 1 other file(s)"
     },
     "metadata": {},
     "output_type": "display_data"
    },
    {
     "data": {
      "text/plain": "<IPython.core.display.HTML object>",
      "text/html": "Find logs at: <code>.\\wandb\\run-20230321_100907-cnwumpuj\\logs</code>"
     },
     "metadata": {},
     "output_type": "display_data"
    }
   ],
   "source": [
    "wandb.init(project='phone-price-prediction')\n",
    "wandb_callback = wandb.keras.WandbCallback()\n",
    "model.fit(X_train, y_train, epochs=100, validation_data=(X_val, y_val), callbacks=[wandb_callback])\n",
    "# build, compile, and train model here\n",
    "test_loss, test_mae = model.evaluate(X_val, y_val)\n",
    "wandb.log({'test_loss': test_loss, 'test_mae': test_mae})\n",
    "y_pred = model.predict(X_val)\n",
    "y_pred_array = np.array(y_pred)\n",
    "y_val_array = np.array(y_val)\n",
    "\n",
    "wandb.log({'y_pred': y_val_array, 'y_test': y_val_array})\n",
    "wandb.finish()"
   ],
   "metadata": {
    "collapsed": false
   }
  },
  {
   "cell_type": "code",
   "execution_count": null,
   "outputs": [],
   "source": [],
   "metadata": {
    "collapsed": false
   }
  }
 ],
 "metadata": {
  "kernelspec": {
   "display_name": "Python 3",
   "language": "python",
   "name": "python3"
  },
  "language_info": {
   "codemirror_mode": {
    "name": "ipython",
    "version": 2
   },
   "file_extension": ".py",
   "mimetype": "text/x-python",
   "name": "python",
   "nbconvert_exporter": "python",
   "pygments_lexer": "ipython2",
   "version": "2.7.6"
  }
 },
 "nbformat": 4,
 "nbformat_minor": 0
}
