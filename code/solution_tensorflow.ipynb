{
 "cells": [
  {
   "cell_type": "code",
   "execution_count": 28,
   "outputs": [],
   "source": [
    "import pandas as pd\n",
    "\n",
    "from sklearn.model_selection import train_test_split\n",
    "from sklearn.preprocessing import StandardScaler\n",
    "from sklearn.preprocessing import OneHotEncoder\n",
    "\n",
    "import tensorflow as tf\n",
    "\n",
    "import wandb\n",
    "import tensorflow as tf\n",
    "import numpy as np"
   ],
   "metadata": {
    "collapsed": false
   }
  },
  {
   "cell_type": "markdown",
   "source": [
    "# Loading, scaling the data\n",
    "data has been explored and concaternated in `data_preparerationipynb`"
   ],
   "metadata": {
    "collapsed": false
   }
  },
  {
   "cell_type": "code",
   "execution_count": 29,
   "outputs": [
    {
     "data": {
      "text/plain": "(2000, 21)"
     },
     "execution_count": 29,
     "metadata": {},
     "output_type": "execute_result"
    }
   ],
   "source": [
    "# Load the dataset\n",
    "df = pd.read_csv('../data/train.csv')\n",
    "df.shape"
   ],
   "metadata": {
    "collapsed": false
   }
  },
  {
   "cell_type": "code",
   "execution_count": 32,
   "outputs": [
    {
     "name": "stderr",
     "output_type": "stream",
     "text": [
      "C:\\Users\\gazik\\Documents\\FIIT_SS_2022\\NS\\venv\\lib\\site-packages\\sklearn\\preprocessing\\_encoders.py:828: FutureWarning: `sparse` was renamed to `sparse_output` in version 1.2 and will be removed in 1.4. `sparse_output` is ignored unless you leave `sparse` to its default value.\n",
      "  warnings.warn(\n"
     ]
    }
   ],
   "source": [
    "# Separate the target variable from the features\n",
    "X = df.drop('price_range', axis=1)\n",
    "y = df['price_range']\n",
    "\n",
    "\n",
    "#  Split the data into train, validation, and test sets 0.7, 0.15, 0.15\n",
    "X_train, X_test, y_train, y_test = train_test_split(X, y, test_size=0.3, random_state=42)\n",
    "X_val, X_test, y_val, y_test = train_test_split(X_test, y_test, test_size=0.5, random_state=42)\n",
    "\n",
    "# Create scaling pipeline for the features\n",
    "scaler = StandardScaler()\n",
    "X_train = scaler.fit_transform(X_train)\n",
    "X_val = scaler.transform(X_val)\n",
    "X_test = scaler.transform(X_test)"
   ],
   "metadata": {
    "collapsed": false
   }
  },
  {
   "cell_type": "code",
   "execution_count": 35,
   "outputs": [],
   "source": [
    "input_shape = (20,)\n",
    "\n",
    "\n",
    "model = tf.keras.Sequential([\n",
    "    tf.keras.layers.Dense(20, input_shape=input_shape, activation='relu'),\n",
    "    tf.keras.layers.Dense(10, activation='relu'),\n",
    "    tf.keras.layers.Dense(4, activation='softmax'),\n",
    "])\n",
    "\n",
    "\n",
    "model.compile(optimizer='adam', loss='mse', metrics=['mae', 'accuracy'])"
   ],
   "metadata": {
    "collapsed": false
   }
  },
  {
   "cell_type": "code",
   "execution_count": 36,
   "outputs": [
    {
     "data": {
      "text/plain": "<IPython.core.display.HTML object>",
      "text/html": "Finishing last run (ID:77qemx83) before initializing another..."
     },
     "metadata": {},
     "output_type": "display_data"
    },
    {
     "data": {
      "text/plain": "<IPython.core.display.HTML object>",
      "text/html": "Waiting for W&B process to finish... <strong style=\"color:green\">(success).</strong>"
     },
     "metadata": {},
     "output_type": "display_data"
    },
    {
     "data": {
      "text/plain": "VBox(children=(Label(value='0.001 MB of 0.001 MB uploaded (0.000 MB deduped)\\r'), FloatProgress(value=1.0, max…",
      "application/vnd.jupyter.widget-view+json": {
       "version_major": 2,
       "version_minor": 0,
       "model_id": "f5f61ee9758142718755026124ea5a29"
      }
     },
     "metadata": {},
     "output_type": "display_data"
    },
    {
     "data": {
      "text/plain": "<IPython.core.display.HTML object>",
      "text/html": " View run <strong style=\"color:#cdcd00\">classic-puddle-76</strong> at: <a href='https://wandb.ai/neural_networks_fiit/phone-price-prediction/runs/77qemx83' target=\"_blank\">https://wandb.ai/neural_networks_fiit/phone-price-prediction/runs/77qemx83</a><br/>Synced 5 W&B file(s), 0 media file(s), 0 artifact file(s) and 0 other file(s)"
     },
     "metadata": {},
     "output_type": "display_data"
    },
    {
     "data": {
      "text/plain": "<IPython.core.display.HTML object>",
      "text/html": "Find logs at: <code>.\\wandb\\run-20230322_204049-77qemx83\\logs</code>"
     },
     "metadata": {},
     "output_type": "display_data"
    },
    {
     "data": {
      "text/plain": "<IPython.core.display.HTML object>",
      "text/html": "Successfully finished last run (ID:77qemx83). Initializing new run:<br/>"
     },
     "metadata": {},
     "output_type": "display_data"
    },
    {
     "data": {
      "text/plain": "VBox(children=(Label(value='Waiting for wandb.init()...\\r'), FloatProgress(value=0.01693333333338766, max=1.0)…",
      "application/vnd.jupyter.widget-view+json": {
       "version_major": 2,
       "version_minor": 0,
       "model_id": "0c33c5c9ae504df69f4f0526e78de86a"
      }
     },
     "metadata": {},
     "output_type": "display_data"
    },
    {
     "data": {
      "text/plain": "<IPython.core.display.HTML object>",
      "text/html": "Tracking run with wandb version 0.14.0"
     },
     "metadata": {},
     "output_type": "display_data"
    },
    {
     "data": {
      "text/plain": "<IPython.core.display.HTML object>",
      "text/html": "Run data is saved locally in <code>C:\\Users\\gazik\\Documents\\FIIT_SS_2022\\NS\\A1\\code\\wandb\\run-20230322_204105-u6ej9ezl</code>"
     },
     "metadata": {},
     "output_type": "display_data"
    },
    {
     "data": {
      "text/plain": "<IPython.core.display.HTML object>",
      "text/html": "Syncing run <strong><a href='https://wandb.ai/neural_networks_fiit/phone-price-prediction/runs/u6ej9ezl' target=\"_blank\">confused-snowflake-77</a></strong> to <a href='https://wandb.ai/neural_networks_fiit/phone-price-prediction' target=\"_blank\">Weights & Biases</a> (<a href='https://wandb.me/run' target=\"_blank\">docs</a>)<br/>"
     },
     "metadata": {},
     "output_type": "display_data"
    },
    {
     "data": {
      "text/plain": "<IPython.core.display.HTML object>",
      "text/html": " View project at <a href='https://wandb.ai/neural_networks_fiit/phone-price-prediction' target=\"_blank\">https://wandb.ai/neural_networks_fiit/phone-price-prediction</a>"
     },
     "metadata": {},
     "output_type": "display_data"
    },
    {
     "data": {
      "text/plain": "<IPython.core.display.HTML object>",
      "text/html": " View run at <a href='https://wandb.ai/neural_networks_fiit/phone-price-prediction/runs/u6ej9ezl' target=\"_blank\">https://wandb.ai/neural_networks_fiit/phone-price-prediction/runs/u6ej9ezl</a>"
     },
     "metadata": {},
     "output_type": "display_data"
    },
    {
     "name": "stdout",
     "output_type": "stream",
     "text": [
      "Epoch 1/100\n",
      "19/44 [===========>..................] - ETA: 0s - loss: 0.2089 - mae: 0.3782 - accuracy: 0.2500 "
     ]
    },
    {
     "name": "stderr",
     "output_type": "stream",
     "text": [
      "WARNING:absl:Found untraced functions such as _update_step_xla while saving (showing 1 of 1). These functions will not be directly callable after loading.\n"
     ]
    },
    {
     "name": "stdout",
     "output_type": "stream",
     "text": [
      "INFO:tensorflow:Assets written to: C:\\Users\\gazik\\Documents\\FIIT_SS_2022\\NS\\A1\\code\\wandb\\run-20230322_204105-u6ej9ezl\\files\\model-best\\assets\n"
     ]
    },
    {
     "name": "stderr",
     "output_type": "stream",
     "text": [
      "INFO:tensorflow:Assets written to: C:\\Users\\gazik\\Documents\\FIIT_SS_2022\\NS\\A1\\code\\wandb\\run-20230322_204105-u6ej9ezl\\files\\model-best\\assets\n",
      "\u001B[34m\u001B[1mwandb\u001B[0m: Adding directory to artifact (C:\\Users\\gazik\\Documents\\FIIT_SS_2022\\NS\\A1\\code\\wandb\\run-20230322_204105-u6ej9ezl\\files\\model-best)... Done. 0.0s\n"
     ]
    },
    {
     "name": "stdout",
     "output_type": "stream",
     "text": [
      "44/44 [==============================] - 2s 27ms/step - loss: 0.2020 - mae: 0.3771 - accuracy: 0.2493 - val_loss: 0.1918 - val_mae: 0.3732 - val_accuracy: 0.2633\n",
      "Epoch 2/100\n",
      "20/44 [============>.................] - ETA: 0s - loss: 0.1893 - mae: 0.3716 - accuracy: 0.2812"
     ]
    },
    {
     "name": "stderr",
     "output_type": "stream",
     "text": [
      "WARNING:absl:Found untraced functions such as _update_step_xla while saving (showing 1 of 1). These functions will not be directly callable after loading.\n"
     ]
    },
    {
     "name": "stdout",
     "output_type": "stream",
     "text": [
      "INFO:tensorflow:Assets written to: C:\\Users\\gazik\\Documents\\FIIT_SS_2022\\NS\\A1\\code\\wandb\\run-20230322_204105-u6ej9ezl\\files\\model-best\\assets\n"
     ]
    },
    {
     "name": "stderr",
     "output_type": "stream",
     "text": [
      "INFO:tensorflow:Assets written to: C:\\Users\\gazik\\Documents\\FIIT_SS_2022\\NS\\A1\\code\\wandb\\run-20230322_204105-u6ej9ezl\\files\\model-best\\assets\n",
      "\u001B[34m\u001B[1mwandb\u001B[0m: Adding directory to artifact (C:\\Users\\gazik\\Documents\\FIIT_SS_2022\\NS\\A1\\code\\wandb\\run-20230322_204105-u6ej9ezl\\files\\model-best)... Done. 0.0s\n"
     ]
    },
    {
     "name": "stdout",
     "output_type": "stream",
     "text": [
      "44/44 [==============================] - 1s 22ms/step - loss: 0.1874 - mae: 0.3703 - accuracy: 0.3000 - val_loss: 0.1853 - val_mae: 0.3688 - val_accuracy: 0.3100\n",
      "Epoch 3/100\n",
      "27/44 [=================>............] - ETA: 0s - loss: 0.1802 - mae: 0.3635 - accuracy: 0.3600"
     ]
    },
    {
     "name": "stderr",
     "output_type": "stream",
     "text": [
      "WARNING:absl:Found untraced functions such as _update_step_xla while saving (showing 1 of 1). These functions will not be directly callable after loading.\n"
     ]
    },
    {
     "name": "stdout",
     "output_type": "stream",
     "text": [
      "INFO:tensorflow:Assets written to: C:\\Users\\gazik\\Documents\\FIIT_SS_2022\\NS\\A1\\code\\wandb\\run-20230322_204105-u6ej9ezl\\files\\model-best\\assets\n"
     ]
    },
    {
     "name": "stderr",
     "output_type": "stream",
     "text": [
      "INFO:tensorflow:Assets written to: C:\\Users\\gazik\\Documents\\FIIT_SS_2022\\NS\\A1\\code\\wandb\\run-20230322_204105-u6ej9ezl\\files\\model-best\\assets\n",
      "\u001B[34m\u001B[1mwandb\u001B[0m: Adding directory to artifact (C:\\Users\\gazik\\Documents\\FIIT_SS_2022\\NS\\A1\\code\\wandb\\run-20230322_204105-u6ej9ezl\\files\\model-best)... Done. 0.0s\n"
     ]
    },
    {
     "name": "stdout",
     "output_type": "stream",
     "text": [
      "44/44 [==============================] - 1s 25ms/step - loss: 0.1793 - mae: 0.3624 - accuracy: 0.3721 - val_loss: 0.1782 - val_mae: 0.3607 - val_accuracy: 0.3767\n",
      "Epoch 4/100\n",
      "30/44 [===================>..........] - ETA: 0s - loss: 0.1726 - mae: 0.3543 - accuracy: 0.4219"
     ]
    },
    {
     "name": "stderr",
     "output_type": "stream",
     "text": [
      "WARNING:absl:Found untraced functions such as _update_step_xla while saving (showing 1 of 1). These functions will not be directly callable after loading.\n"
     ]
    },
    {
     "name": "stdout",
     "output_type": "stream",
     "text": [
      "INFO:tensorflow:Assets written to: C:\\Users\\gazik\\Documents\\FIIT_SS_2022\\NS\\A1\\code\\wandb\\run-20230322_204105-u6ej9ezl\\files\\model-best\\assets\n"
     ]
    },
    {
     "name": "stderr",
     "output_type": "stream",
     "text": [
      "INFO:tensorflow:Assets written to: C:\\Users\\gazik\\Documents\\FIIT_SS_2022\\NS\\A1\\code\\wandb\\run-20230322_204105-u6ej9ezl\\files\\model-best\\assets\n",
      "\u001B[34m\u001B[1mwandb\u001B[0m: Adding directory to artifact (C:\\Users\\gazik\\Documents\\FIIT_SS_2022\\NS\\A1\\code\\wandb\\run-20230322_204105-u6ej9ezl\\files\\model-best)... Done. 0.0s\n"
     ]
    },
    {
     "name": "stdout",
     "output_type": "stream",
     "text": [
      "44/44 [==============================] - 1s 22ms/step - loss: 0.1694 - mae: 0.3500 - accuracy: 0.4457 - val_loss: 0.1674 - val_mae: 0.3463 - val_accuracy: 0.4400\n",
      "Epoch 5/100\n",
      "28/44 [==================>...........] - ETA: 0s - loss: 0.1590 - mae: 0.3345 - accuracy: 0.4710"
     ]
    },
    {
     "name": "stderr",
     "output_type": "stream",
     "text": [
      "WARNING:absl:Found untraced functions such as _update_step_xla while saving (showing 1 of 1). These functions will not be directly callable after loading.\n"
     ]
    },
    {
     "name": "stdout",
     "output_type": "stream",
     "text": [
      "INFO:tensorflow:Assets written to: C:\\Users\\gazik\\Documents\\FIIT_SS_2022\\NS\\A1\\code\\wandb\\run-20230322_204105-u6ej9ezl\\files\\model-best\\assets\n"
     ]
    },
    {
     "name": "stderr",
     "output_type": "stream",
     "text": [
      "INFO:tensorflow:Assets written to: C:\\Users\\gazik\\Documents\\FIIT_SS_2022\\NS\\A1\\code\\wandb\\run-20230322_204105-u6ej9ezl\\files\\model-best\\assets\n",
      "\u001B[34m\u001B[1mwandb\u001B[0m: Adding directory to artifact (C:\\Users\\gazik\\Documents\\FIIT_SS_2022\\NS\\A1\\code\\wandb\\run-20230322_204105-u6ej9ezl\\files\\model-best)... Done. 0.0s\n"
     ]
    },
    {
     "name": "stdout",
     "output_type": "stream",
     "text": [
      "44/44 [==============================] - 1s 23ms/step - loss: 0.1558 - mae: 0.3295 - accuracy: 0.4807 - val_loss: 0.1528 - val_mae: 0.3240 - val_accuracy: 0.5300\n",
      "Epoch 6/100\n",
      "20/44 [============>.................] - ETA: 0s - loss: 0.1464 - mae: 0.3128 - accuracy: 0.4938"
     ]
    },
    {
     "name": "stderr",
     "output_type": "stream",
     "text": [
      "WARNING:absl:Found untraced functions such as _update_step_xla while saving (showing 1 of 1). These functions will not be directly callable after loading.\n"
     ]
    },
    {
     "name": "stdout",
     "output_type": "stream",
     "text": [
      "INFO:tensorflow:Assets written to: C:\\Users\\gazik\\Documents\\FIIT_SS_2022\\NS\\A1\\code\\wandb\\run-20230322_204105-u6ej9ezl\\files\\model-best\\assets\n"
     ]
    },
    {
     "name": "stderr",
     "output_type": "stream",
     "text": [
      "INFO:tensorflow:Assets written to: C:\\Users\\gazik\\Documents\\FIIT_SS_2022\\NS\\A1\\code\\wandb\\run-20230322_204105-u6ej9ezl\\files\\model-best\\assets\n",
      "\u001B[34m\u001B[1mwandb\u001B[0m: Adding directory to artifact (C:\\Users\\gazik\\Documents\\FIIT_SS_2022\\NS\\A1\\code\\wandb\\run-20230322_204105-u6ej9ezl\\files\\model-best)... Done. 0.0s\n"
     ]
    },
    {
     "name": "stdout",
     "output_type": "stream",
     "text": [
      "44/44 [==============================] - 1s 23ms/step - loss: 0.1412 - mae: 0.3039 - accuracy: 0.5236 - val_loss: 0.1364 - val_mae: 0.2971 - val_accuracy: 0.5400\n",
      "Epoch 7/100\n",
      "25/44 [================>.............] - ETA: 0s - loss: 0.1322 - mae: 0.2886 - accuracy: 0.5575"
     ]
    },
    {
     "name": "stderr",
     "output_type": "stream",
     "text": [
      "WARNING:absl:Found untraced functions such as _update_step_xla while saving (showing 1 of 1). These functions will not be directly callable after loading.\n"
     ]
    },
    {
     "name": "stdout",
     "output_type": "stream",
     "text": [
      "INFO:tensorflow:Assets written to: C:\\Users\\gazik\\Documents\\FIIT_SS_2022\\NS\\A1\\code\\wandb\\run-20230322_204105-u6ej9ezl\\files\\model-best\\assets\n"
     ]
    },
    {
     "name": "stderr",
     "output_type": "stream",
     "text": [
      "INFO:tensorflow:Assets written to: C:\\Users\\gazik\\Documents\\FIIT_SS_2022\\NS\\A1\\code\\wandb\\run-20230322_204105-u6ej9ezl\\files\\model-best\\assets\n",
      "\u001B[34m\u001B[1mwandb\u001B[0m: Adding directory to artifact (C:\\Users\\gazik\\Documents\\FIIT_SS_2022\\NS\\A1\\code\\wandb\\run-20230322_204105-u6ej9ezl\\files\\model-best)... Done. 0.0s\n"
     ]
    },
    {
     "name": "stdout",
     "output_type": "stream",
     "text": [
      "44/44 [==============================] - 1s 25ms/step - loss: 0.1278 - mae: 0.2816 - accuracy: 0.5714 - val_loss: 0.1231 - val_mae: 0.2759 - val_accuracy: 0.6033\n",
      "Epoch 8/100\n",
      "40/44 [==========================>...] - ETA: 0s - loss: 0.1162 - mae: 0.2613 - accuracy: 0.6266"
     ]
    },
    {
     "name": "stderr",
     "output_type": "stream",
     "text": [
      "WARNING:absl:Found untraced functions such as _update_step_xla while saving (showing 1 of 1). These functions will not be directly callable after loading.\n"
     ]
    },
    {
     "name": "stdout",
     "output_type": "stream",
     "text": [
      "INFO:tensorflow:Assets written to: C:\\Users\\gazik\\Documents\\FIIT_SS_2022\\NS\\A1\\code\\wandb\\run-20230322_204105-u6ej9ezl\\files\\model-best\\assets\n"
     ]
    },
    {
     "name": "stderr",
     "output_type": "stream",
     "text": [
      "INFO:tensorflow:Assets written to: C:\\Users\\gazik\\Documents\\FIIT_SS_2022\\NS\\A1\\code\\wandb\\run-20230322_204105-u6ej9ezl\\files\\model-best\\assets\n",
      "\u001B[34m\u001B[1mwandb\u001B[0m: Adding directory to artifact (C:\\Users\\gazik\\Documents\\FIIT_SS_2022\\NS\\A1\\code\\wandb\\run-20230322_204105-u6ej9ezl\\files\\model-best)... Done. 0.0s\n"
     ]
    },
    {
     "name": "stdout",
     "output_type": "stream",
     "text": [
      "44/44 [==============================] - 1s 25ms/step - loss: 0.1167 - mae: 0.2615 - accuracy: 0.6193 - val_loss: 0.1119 - val_mae: 0.2556 - val_accuracy: 0.6533\n",
      "Epoch 9/100\n",
      "23/44 [==============>...............] - ETA: 0s - loss: 0.1085 - mae: 0.2491 - accuracy: 0.6644"
     ]
    },
    {
     "name": "stderr",
     "output_type": "stream",
     "text": [
      "WARNING:absl:Found untraced functions such as _update_step_xla while saving (showing 1 of 1). These functions will not be directly callable after loading.\n"
     ]
    },
    {
     "name": "stdout",
     "output_type": "stream",
     "text": [
      "INFO:tensorflow:Assets written to: C:\\Users\\gazik\\Documents\\FIIT_SS_2022\\NS\\A1\\code\\wandb\\run-20230322_204105-u6ej9ezl\\files\\model-best\\assets\n"
     ]
    },
    {
     "name": "stderr",
     "output_type": "stream",
     "text": [
      "INFO:tensorflow:Assets written to: C:\\Users\\gazik\\Documents\\FIIT_SS_2022\\NS\\A1\\code\\wandb\\run-20230322_204105-u6ej9ezl\\files\\model-best\\assets\n",
      "\u001B[34m\u001B[1mwandb\u001B[0m: Adding directory to artifact (C:\\Users\\gazik\\Documents\\FIIT_SS_2022\\NS\\A1\\code\\wandb\\run-20230322_204105-u6ej9ezl\\files\\model-best)... Done. 0.0s\n"
     ]
    },
    {
     "name": "stdout",
     "output_type": "stream",
     "text": [
      "44/44 [==============================] - 2s 41ms/step - loss: 0.1067 - mae: 0.2454 - accuracy: 0.6743 - val_loss: 0.1031 - val_mae: 0.2402 - val_accuracy: 0.6900\n",
      "Epoch 10/100\n",
      "21/44 [=============>................] - ETA: 0s - loss: 0.0974 - mae: 0.2301 - accuracy: 0.7232"
     ]
    },
    {
     "name": "stderr",
     "output_type": "stream",
     "text": [
      "WARNING:absl:Found untraced functions such as _update_step_xla while saving (showing 1 of 1). These functions will not be directly callable after loading.\n"
     ]
    },
    {
     "name": "stdout",
     "output_type": "stream",
     "text": [
      "INFO:tensorflow:Assets written to: C:\\Users\\gazik\\Documents\\FIIT_SS_2022\\NS\\A1\\code\\wandb\\run-20230322_204105-u6ej9ezl\\files\\model-best\\assets\n"
     ]
    },
    {
     "name": "stderr",
     "output_type": "stream",
     "text": [
      "INFO:tensorflow:Assets written to: C:\\Users\\gazik\\Documents\\FIIT_SS_2022\\NS\\A1\\code\\wandb\\run-20230322_204105-u6ej9ezl\\files\\model-best\\assets\n",
      "\u001B[34m\u001B[1mwandb\u001B[0m: Adding directory to artifact (C:\\Users\\gazik\\Documents\\FIIT_SS_2022\\NS\\A1\\code\\wandb\\run-20230322_204105-u6ej9ezl\\files\\model-best)... Done. 0.0s\n"
     ]
    },
    {
     "name": "stdout",
     "output_type": "stream",
     "text": [
      "44/44 [==============================] - 1s 24ms/step - loss: 0.0975 - mae: 0.2298 - accuracy: 0.7279 - val_loss: 0.0951 - val_mae: 0.2256 - val_accuracy: 0.7233\n",
      "Epoch 11/100\n",
      "44/44 [==============================] - ETA: 0s - loss: 0.0887 - mae: 0.2142 - accuracy: 0.7664"
     ]
    },
    {
     "name": "stderr",
     "output_type": "stream",
     "text": [
      "WARNING:absl:Found untraced functions such as _update_step_xla while saving (showing 1 of 1). These functions will not be directly callable after loading.\n"
     ]
    },
    {
     "name": "stdout",
     "output_type": "stream",
     "text": [
      "INFO:tensorflow:Assets written to: C:\\Users\\gazik\\Documents\\FIIT_SS_2022\\NS\\A1\\code\\wandb\\run-20230322_204105-u6ej9ezl\\files\\model-best\\assets\n"
     ]
    },
    {
     "name": "stderr",
     "output_type": "stream",
     "text": [
      "INFO:tensorflow:Assets written to: C:\\Users\\gazik\\Documents\\FIIT_SS_2022\\NS\\A1\\code\\wandb\\run-20230322_204105-u6ej9ezl\\files\\model-best\\assets\n",
      "\u001B[34m\u001B[1mwandb\u001B[0m: Adding directory to artifact (C:\\Users\\gazik\\Documents\\FIIT_SS_2022\\NS\\A1\\code\\wandb\\run-20230322_204105-u6ej9ezl\\files\\model-best)... Done. 0.0s\n"
     ]
    },
    {
     "name": "stdout",
     "output_type": "stream",
     "text": [
      "44/44 [==============================] - 1s 27ms/step - loss: 0.0887 - mae: 0.2142 - accuracy: 0.7664 - val_loss: 0.0877 - val_mae: 0.2119 - val_accuracy: 0.7400\n",
      "Epoch 12/100\n",
      "38/44 [========================>.....] - ETA: 0s - loss: 0.0815 - mae: 0.2024 - accuracy: 0.8018"
     ]
    },
    {
     "name": "stderr",
     "output_type": "stream",
     "text": [
      "WARNING:absl:Found untraced functions such as _update_step_xla while saving (showing 1 of 1). These functions will not be directly callable after loading.\n"
     ]
    },
    {
     "name": "stdout",
     "output_type": "stream",
     "text": [
      "INFO:tensorflow:Assets written to: C:\\Users\\gazik\\Documents\\FIIT_SS_2022\\NS\\A1\\code\\wandb\\run-20230322_204105-u6ej9ezl\\files\\model-best\\assets\n"
     ]
    },
    {
     "name": "stderr",
     "output_type": "stream",
     "text": [
      "INFO:tensorflow:Assets written to: C:\\Users\\gazik\\Documents\\FIIT_SS_2022\\NS\\A1\\code\\wandb\\run-20230322_204105-u6ej9ezl\\files\\model-best\\assets\n",
      "\u001B[34m\u001B[1mwandb\u001B[0m: Adding directory to artifact (C:\\Users\\gazik\\Documents\\FIIT_SS_2022\\NS\\A1\\code\\wandb\\run-20230322_204105-u6ej9ezl\\files\\model-best)... Done. 0.0s\n"
     ]
    },
    {
     "name": "stdout",
     "output_type": "stream",
     "text": [
      "44/44 [==============================] - 1s 24ms/step - loss: 0.0808 - mae: 0.2007 - accuracy: 0.8036 - val_loss: 0.0805 - val_mae: 0.1981 - val_accuracy: 0.8000\n",
      "Epoch 13/100\n",
      "28/44 [==================>...........] - ETA: 0s - loss: 0.0733 - mae: 0.1865 - accuracy: 0.8225"
     ]
    },
    {
     "name": "stderr",
     "output_type": "stream",
     "text": [
      "WARNING:absl:Found untraced functions such as _update_step_xla while saving (showing 1 of 1). These functions will not be directly callable after loading.\n"
     ]
    },
    {
     "name": "stdout",
     "output_type": "stream",
     "text": [
      "INFO:tensorflow:Assets written to: C:\\Users\\gazik\\Documents\\FIIT_SS_2022\\NS\\A1\\code\\wandb\\run-20230322_204105-u6ej9ezl\\files\\model-best\\assets\n"
     ]
    },
    {
     "name": "stderr",
     "output_type": "stream",
     "text": [
      "INFO:tensorflow:Assets written to: C:\\Users\\gazik\\Documents\\FIIT_SS_2022\\NS\\A1\\code\\wandb\\run-20230322_204105-u6ej9ezl\\files\\model-best\\assets\n",
      "\u001B[34m\u001B[1mwandb\u001B[0m: Adding directory to artifact (C:\\Users\\gazik\\Documents\\FIIT_SS_2022\\NS\\A1\\code\\wandb\\run-20230322_204105-u6ej9ezl\\files\\model-best)... Done. 0.0s\n"
     ]
    },
    {
     "name": "stdout",
     "output_type": "stream",
     "text": [
      "44/44 [==============================] - 1s 22ms/step - loss: 0.0729 - mae: 0.1866 - accuracy: 0.8314 - val_loss: 0.0752 - val_mae: 0.1895 - val_accuracy: 0.8433\n",
      "Epoch 14/100\n",
      "44/44 [==============================] - ETA: 0s - loss: 0.0657 - mae: 0.1740 - accuracy: 0.8686"
     ]
    },
    {
     "name": "stderr",
     "output_type": "stream",
     "text": [
      "WARNING:absl:Found untraced functions such as _update_step_xla while saving (showing 1 of 1). These functions will not be directly callable after loading.\n"
     ]
    },
    {
     "name": "stdout",
     "output_type": "stream",
     "text": [
      "INFO:tensorflow:Assets written to: C:\\Users\\gazik\\Documents\\FIIT_SS_2022\\NS\\A1\\code\\wandb\\run-20230322_204105-u6ej9ezl\\files\\model-best\\assets\n"
     ]
    },
    {
     "name": "stderr",
     "output_type": "stream",
     "text": [
      "INFO:tensorflow:Assets written to: C:\\Users\\gazik\\Documents\\FIIT_SS_2022\\NS\\A1\\code\\wandb\\run-20230322_204105-u6ej9ezl\\files\\model-best\\assets\n",
      "\u001B[34m\u001B[1mwandb\u001B[0m: Adding directory to artifact (C:\\Users\\gazik\\Documents\\FIIT_SS_2022\\NS\\A1\\code\\wandb\\run-20230322_204105-u6ej9ezl\\files\\model-best)... Done. 0.0s\n"
     ]
    },
    {
     "name": "stdout",
     "output_type": "stream",
     "text": [
      "44/44 [==============================] - 1s 27ms/step - loss: 0.0657 - mae: 0.1740 - accuracy: 0.8686 - val_loss: 0.0688 - val_mae: 0.1759 - val_accuracy: 0.8667\n",
      "Epoch 15/100\n",
      "42/44 [===========================>..] - ETA: 0s - loss: 0.0587 - mae: 0.1607 - accuracy: 0.8891"
     ]
    },
    {
     "name": "stderr",
     "output_type": "stream",
     "text": [
      "WARNING:absl:Found untraced functions such as _update_step_xla while saving (showing 1 of 1). These functions will not be directly callable after loading.\n"
     ]
    },
    {
     "name": "stdout",
     "output_type": "stream",
     "text": [
      "INFO:tensorflow:Assets written to: C:\\Users\\gazik\\Documents\\FIIT_SS_2022\\NS\\A1\\code\\wandb\\run-20230322_204105-u6ej9ezl\\files\\model-best\\assets\n"
     ]
    },
    {
     "name": "stderr",
     "output_type": "stream",
     "text": [
      "INFO:tensorflow:Assets written to: C:\\Users\\gazik\\Documents\\FIIT_SS_2022\\NS\\A1\\code\\wandb\\run-20230322_204105-u6ej9ezl\\files\\model-best\\assets\n",
      "\u001B[34m\u001B[1mwandb\u001B[0m: Adding directory to artifact (C:\\Users\\gazik\\Documents\\FIIT_SS_2022\\NS\\A1\\code\\wandb\\run-20230322_204105-u6ej9ezl\\files\\model-best)... Done. 0.0s\n"
     ]
    },
    {
     "name": "stdout",
     "output_type": "stream",
     "text": [
      "44/44 [==============================] - 1s 24ms/step - loss: 0.0587 - mae: 0.1608 - accuracy: 0.8914 - val_loss: 0.0636 - val_mae: 0.1656 - val_accuracy: 0.8667\n",
      "Epoch 16/100\n",
      "41/44 [==========================>...] - ETA: 0s - loss: 0.0526 - mae: 0.1492 - accuracy: 0.9055"
     ]
    },
    {
     "name": "stderr",
     "output_type": "stream",
     "text": [
      "WARNING:absl:Found untraced functions such as _update_step_xla while saving (showing 1 of 1). These functions will not be directly callable after loading.\n"
     ]
    },
    {
     "name": "stdout",
     "output_type": "stream",
     "text": [
      "INFO:tensorflow:Assets written to: C:\\Users\\gazik\\Documents\\FIIT_SS_2022\\NS\\A1\\code\\wandb\\run-20230322_204105-u6ej9ezl\\files\\model-best\\assets\n"
     ]
    },
    {
     "name": "stderr",
     "output_type": "stream",
     "text": [
      "INFO:tensorflow:Assets written to: C:\\Users\\gazik\\Documents\\FIIT_SS_2022\\NS\\A1\\code\\wandb\\run-20230322_204105-u6ej9ezl\\files\\model-best\\assets\n",
      "\u001B[34m\u001B[1mwandb\u001B[0m: Adding directory to artifact (C:\\Users\\gazik\\Documents\\FIIT_SS_2022\\NS\\A1\\code\\wandb\\run-20230322_204105-u6ej9ezl\\files\\model-best)... Done. 0.0s\n"
     ]
    },
    {
     "name": "stdout",
     "output_type": "stream",
     "text": [
      "44/44 [==============================] - 1s 24ms/step - loss: 0.0523 - mae: 0.1487 - accuracy: 0.9086 - val_loss: 0.0594 - val_mae: 0.1572 - val_accuracy: 0.8833\n",
      "Epoch 17/100\n",
      "43/44 [============================>.] - ETA: 0s - loss: 0.0470 - mae: 0.1376 - accuracy: 0.9201"
     ]
    },
    {
     "name": "stderr",
     "output_type": "stream",
     "text": [
      "WARNING:absl:Found untraced functions such as _update_step_xla while saving (showing 1 of 1). These functions will not be directly callable after loading.\n"
     ]
    },
    {
     "name": "stdout",
     "output_type": "stream",
     "text": [
      "INFO:tensorflow:Assets written to: C:\\Users\\gazik\\Documents\\FIIT_SS_2022\\NS\\A1\\code\\wandb\\run-20230322_204105-u6ej9ezl\\files\\model-best\\assets\n"
     ]
    },
    {
     "name": "stderr",
     "output_type": "stream",
     "text": [
      "INFO:tensorflow:Assets written to: C:\\Users\\gazik\\Documents\\FIIT_SS_2022\\NS\\A1\\code\\wandb\\run-20230322_204105-u6ej9ezl\\files\\model-best\\assets\n",
      "\u001B[34m\u001B[1mwandb\u001B[0m: Adding directory to artifact (C:\\Users\\gazik\\Documents\\FIIT_SS_2022\\NS\\A1\\code\\wandb\\run-20230322_204105-u6ej9ezl\\files\\model-best)... Done. 0.0s\n"
     ]
    },
    {
     "name": "stdout",
     "output_type": "stream",
     "text": [
      "44/44 [==============================] - 1s 23ms/step - loss: 0.0468 - mae: 0.1372 - accuracy: 0.9207 - val_loss: 0.0557 - val_mae: 0.1488 - val_accuracy: 0.8967\n",
      "Epoch 18/100\n",
      "25/44 [================>.............] - ETA: 0s - loss: 0.0421 - mae: 0.1277 - accuracy: 0.9325"
     ]
    },
    {
     "name": "stderr",
     "output_type": "stream",
     "text": [
      "WARNING:absl:Found untraced functions such as _update_step_xla while saving (showing 1 of 1). These functions will not be directly callable after loading.\n"
     ]
    },
    {
     "name": "stdout",
     "output_type": "stream",
     "text": [
      "INFO:tensorflow:Assets written to: C:\\Users\\gazik\\Documents\\FIIT_SS_2022\\NS\\A1\\code\\wandb\\run-20230322_204105-u6ej9ezl\\files\\model-best\\assets\n"
     ]
    },
    {
     "name": "stderr",
     "output_type": "stream",
     "text": [
      "INFO:tensorflow:Assets written to: C:\\Users\\gazik\\Documents\\FIIT_SS_2022\\NS\\A1\\code\\wandb\\run-20230322_204105-u6ej9ezl\\files\\model-best\\assets\n",
      "\u001B[34m\u001B[1mwandb\u001B[0m: Adding directory to artifact (C:\\Users\\gazik\\Documents\\FIIT_SS_2022\\NS\\A1\\code\\wandb\\run-20230322_204105-u6ej9ezl\\files\\model-best)... Done. 0.0s\n"
     ]
    },
    {
     "name": "stdout",
     "output_type": "stream",
     "text": [
      "44/44 [==============================] - 1s 23ms/step - loss: 0.0421 - mae: 0.1279 - accuracy: 0.9321 - val_loss: 0.0522 - val_mae: 0.1402 - val_accuracy: 0.8967\n",
      "Epoch 19/100\n",
      "28/44 [==================>...........] - ETA: 0s - loss: 0.0378 - mae: 0.1178 - accuracy: 0.9408"
     ]
    },
    {
     "name": "stderr",
     "output_type": "stream",
     "text": [
      "WARNING:absl:Found untraced functions such as _update_step_xla while saving (showing 1 of 1). These functions will not be directly callable after loading.\n"
     ]
    },
    {
     "name": "stdout",
     "output_type": "stream",
     "text": [
      "INFO:tensorflow:Assets written to: C:\\Users\\gazik\\Documents\\FIIT_SS_2022\\NS\\A1\\code\\wandb\\run-20230322_204105-u6ej9ezl\\files\\model-best\\assets\n"
     ]
    },
    {
     "name": "stderr",
     "output_type": "stream",
     "text": [
      "INFO:tensorflow:Assets written to: C:\\Users\\gazik\\Documents\\FIIT_SS_2022\\NS\\A1\\code\\wandb\\run-20230322_204105-u6ej9ezl\\files\\model-best\\assets\n",
      "\u001B[34m\u001B[1mwandb\u001B[0m: Adding directory to artifact (C:\\Users\\gazik\\Documents\\FIIT_SS_2022\\NS\\A1\\code\\wandb\\run-20230322_204105-u6ej9ezl\\files\\model-best)... Done. 0.0s\n"
     ]
    },
    {
     "name": "stdout",
     "output_type": "stream",
     "text": [
      "44/44 [==============================] - 1s 25ms/step - loss: 0.0380 - mae: 0.1179 - accuracy: 0.9386 - val_loss: 0.0506 - val_mae: 0.1351 - val_accuracy: 0.8733\n",
      "Epoch 20/100\n",
      "27/44 [=================>............] - ETA: 0s - loss: 0.0342 - mae: 0.1077 - accuracy: 0.9375"
     ]
    },
    {
     "name": "stderr",
     "output_type": "stream",
     "text": [
      "WARNING:absl:Found untraced functions such as _update_step_xla while saving (showing 1 of 1). These functions will not be directly callable after loading.\n"
     ]
    },
    {
     "name": "stdout",
     "output_type": "stream",
     "text": [
      "INFO:tensorflow:Assets written to: C:\\Users\\gazik\\Documents\\FIIT_SS_2022\\NS\\A1\\code\\wandb\\run-20230322_204105-u6ej9ezl\\files\\model-best\\assets\n"
     ]
    },
    {
     "name": "stderr",
     "output_type": "stream",
     "text": [
      "INFO:tensorflow:Assets written to: C:\\Users\\gazik\\Documents\\FIIT_SS_2022\\NS\\A1\\code\\wandb\\run-20230322_204105-u6ej9ezl\\files\\model-best\\assets\n",
      "\u001B[34m\u001B[1mwandb\u001B[0m: Adding directory to artifact (C:\\Users\\gazik\\Documents\\FIIT_SS_2022\\NS\\A1\\code\\wandb\\run-20230322_204105-u6ej9ezl\\files\\model-best)... Done. 0.0s\n"
     ]
    },
    {
     "name": "stdout",
     "output_type": "stream",
     "text": [
      "44/44 [==============================] - 1s 24ms/step - loss: 0.0346 - mae: 0.1101 - accuracy: 0.9414 - val_loss: 0.0487 - val_mae: 0.1276 - val_accuracy: 0.8833\n",
      "Epoch 21/100\n",
      "26/44 [================>.............] - ETA: 0s - loss: 0.0322 - mae: 0.1047 - accuracy: 0.9447"
     ]
    },
    {
     "name": "stderr",
     "output_type": "stream",
     "text": [
      "WARNING:absl:Found untraced functions such as _update_step_xla while saving (showing 1 of 1). These functions will not be directly callable after loading.\n"
     ]
    },
    {
     "name": "stdout",
     "output_type": "stream",
     "text": [
      "INFO:tensorflow:Assets written to: C:\\Users\\gazik\\Documents\\FIIT_SS_2022\\NS\\A1\\code\\wandb\\run-20230322_204105-u6ej9ezl\\files\\model-best\\assets\n"
     ]
    },
    {
     "name": "stderr",
     "output_type": "stream",
     "text": [
      "INFO:tensorflow:Assets written to: C:\\Users\\gazik\\Documents\\FIIT_SS_2022\\NS\\A1\\code\\wandb\\run-20230322_204105-u6ej9ezl\\files\\model-best\\assets\n",
      "\u001B[34m\u001B[1mwandb\u001B[0m: Adding directory to artifact (C:\\Users\\gazik\\Documents\\FIIT_SS_2022\\NS\\A1\\code\\wandb\\run-20230322_204105-u6ej9ezl\\files\\model-best)... Done. 0.0s\n"
     ]
    },
    {
     "name": "stdout",
     "output_type": "stream",
     "text": [
      "44/44 [==============================] - 1s 29ms/step - loss: 0.0314 - mae: 0.1028 - accuracy: 0.9493 - val_loss: 0.0464 - val_mae: 0.1214 - val_accuracy: 0.8900\n",
      "Epoch 22/100\n",
      "38/44 [========================>.....] - ETA: 0s - loss: 0.0279 - mae: 0.0937 - accuracy: 0.9539"
     ]
    },
    {
     "name": "stderr",
     "output_type": "stream",
     "text": [
      "WARNING:absl:Found untraced functions such as _update_step_xla while saving (showing 1 of 1). These functions will not be directly callable after loading.\n"
     ]
    },
    {
     "name": "stdout",
     "output_type": "stream",
     "text": [
      "INFO:tensorflow:Assets written to: C:\\Users\\gazik\\Documents\\FIIT_SS_2022\\NS\\A1\\code\\wandb\\run-20230322_204105-u6ej9ezl\\files\\model-best\\assets\n"
     ]
    },
    {
     "name": "stderr",
     "output_type": "stream",
     "text": [
      "INFO:tensorflow:Assets written to: C:\\Users\\gazik\\Documents\\FIIT_SS_2022\\NS\\A1\\code\\wandb\\run-20230322_204105-u6ej9ezl\\files\\model-best\\assets\n",
      "\u001B[34m\u001B[1mwandb\u001B[0m: Adding directory to artifact (C:\\Users\\gazik\\Documents\\FIIT_SS_2022\\NS\\A1\\code\\wandb\\run-20230322_204105-u6ej9ezl\\files\\model-best)... Done. 0.0s\n"
     ]
    },
    {
     "name": "stdout",
     "output_type": "stream",
     "text": [
      "44/44 [==============================] - 1s 28ms/step - loss: 0.0288 - mae: 0.0956 - accuracy: 0.9507 - val_loss: 0.0460 - val_mae: 0.1180 - val_accuracy: 0.8933\n",
      "Epoch 23/100\n",
      "41/44 [==========================>...] - ETA: 0s - loss: 0.0268 - mae: 0.0905 - accuracy: 0.9566"
     ]
    },
    {
     "name": "stderr",
     "output_type": "stream",
     "text": [
      "WARNING:absl:Found untraced functions such as _update_step_xla while saving (showing 1 of 1). These functions will not be directly callable after loading.\n"
     ]
    },
    {
     "name": "stdout",
     "output_type": "stream",
     "text": [
      "INFO:tensorflow:Assets written to: C:\\Users\\gazik\\Documents\\FIIT_SS_2022\\NS\\A1\\code\\wandb\\run-20230322_204105-u6ej9ezl\\files\\model-best\\assets\n"
     ]
    },
    {
     "name": "stderr",
     "output_type": "stream",
     "text": [
      "INFO:tensorflow:Assets written to: C:\\Users\\gazik\\Documents\\FIIT_SS_2022\\NS\\A1\\code\\wandb\\run-20230322_204105-u6ej9ezl\\files\\model-best\\assets\n",
      "\u001B[34m\u001B[1mwandb\u001B[0m: Adding directory to artifact (C:\\Users\\gazik\\Documents\\FIIT_SS_2022\\NS\\A1\\code\\wandb\\run-20230322_204105-u6ej9ezl\\files\\model-best)... Done. 0.0s\n"
     ]
    },
    {
     "name": "stdout",
     "output_type": "stream",
     "text": [
      "44/44 [==============================] - 1s 26ms/step - loss: 0.0268 - mae: 0.0908 - accuracy: 0.9579 - val_loss: 0.0437 - val_mae: 0.1107 - val_accuracy: 0.8833\n",
      "Epoch 24/100\n",
      "24/44 [===============>..............] - ETA: 0s - loss: 0.0236 - mae: 0.0829 - accuracy: 0.9557"
     ]
    },
    {
     "name": "stderr",
     "output_type": "stream",
     "text": [
      "WARNING:absl:Found untraced functions such as _update_step_xla while saving (showing 1 of 1). These functions will not be directly callable after loading.\n"
     ]
    },
    {
     "name": "stdout",
     "output_type": "stream",
     "text": [
      "INFO:tensorflow:Assets written to: C:\\Users\\gazik\\Documents\\FIIT_SS_2022\\NS\\A1\\code\\wandb\\run-20230322_204105-u6ej9ezl\\files\\model-best\\assets\n"
     ]
    },
    {
     "name": "stderr",
     "output_type": "stream",
     "text": [
      "INFO:tensorflow:Assets written to: C:\\Users\\gazik\\Documents\\FIIT_SS_2022\\NS\\A1\\code\\wandb\\run-20230322_204105-u6ej9ezl\\files\\model-best\\assets\n",
      "\u001B[34m\u001B[1mwandb\u001B[0m: Adding directory to artifact (C:\\Users\\gazik\\Documents\\FIIT_SS_2022\\NS\\A1\\code\\wandb\\run-20230322_204105-u6ej9ezl\\files\\model-best)... Done. 0.0s\n"
     ]
    },
    {
     "name": "stdout",
     "output_type": "stream",
     "text": [
      "44/44 [==============================] - 1s 23ms/step - loss: 0.0248 - mae: 0.0848 - accuracy: 0.9543 - val_loss: 0.0431 - val_mae: 0.1092 - val_accuracy: 0.8933\n",
      "Epoch 25/100\n",
      "26/44 [================>.............] - ETA: 0s - loss: 0.0230 - mae: 0.0822 - accuracy: 0.9675"
     ]
    },
    {
     "name": "stderr",
     "output_type": "stream",
     "text": [
      "WARNING:absl:Found untraced functions such as _update_step_xla while saving (showing 1 of 1). These functions will not be directly callable after loading.\n"
     ]
    },
    {
     "name": "stdout",
     "output_type": "stream",
     "text": [
      "INFO:tensorflow:Assets written to: C:\\Users\\gazik\\Documents\\FIIT_SS_2022\\NS\\A1\\code\\wandb\\run-20230322_204105-u6ej9ezl\\files\\model-best\\assets\n"
     ]
    },
    {
     "name": "stderr",
     "output_type": "stream",
     "text": [
      "INFO:tensorflow:Assets written to: C:\\Users\\gazik\\Documents\\FIIT_SS_2022\\NS\\A1\\code\\wandb\\run-20230322_204105-u6ej9ezl\\files\\model-best\\assets\n",
      "\u001B[34m\u001B[1mwandb\u001B[0m: Adding directory to artifact (C:\\Users\\gazik\\Documents\\FIIT_SS_2022\\NS\\A1\\code\\wandb\\run-20230322_204105-u6ej9ezl\\files\\model-best)... Done. 0.0s\n"
     ]
    },
    {
     "name": "stdout",
     "output_type": "stream",
     "text": [
      "44/44 [==============================] - 1s 22ms/step - loss: 0.0233 - mae: 0.0810 - accuracy: 0.9657 - val_loss: 0.0413 - val_mae: 0.1033 - val_accuracy: 0.8967\n",
      "Epoch 26/100\n",
      "44/44 [==============================] - 0s 4ms/step - loss: 0.0217 - mae: 0.0766 - accuracy: 0.9657 - val_loss: 0.0415 - val_mae: 0.1013 - val_accuracy: 0.8867\n",
      "Epoch 27/100\n",
      "44/44 [==============================] - 0s 3ms/step - loss: 0.0204 - mae: 0.0728 - accuracy: 0.9686 - val_loss: 0.0424 - val_mae: 0.1006 - val_accuracy: 0.8800\n",
      "Epoch 28/100\n",
      "44/44 [==============================] - 0s 3ms/step - loss: 0.0193 - mae: 0.0698 - accuracy: 0.9700 - val_loss: 0.0413 - val_mae: 0.0987 - val_accuracy: 0.8900\n",
      "Epoch 29/100\n",
      "26/44 [================>.............] - ETA: 0s - loss: 0.0179 - mae: 0.0665 - accuracy: 0.9688"
     ]
    },
    {
     "name": "stderr",
     "output_type": "stream",
     "text": [
      "WARNING:absl:Found untraced functions such as _update_step_xla while saving (showing 1 of 1). These functions will not be directly callable after loading.\n"
     ]
    },
    {
     "name": "stdout",
     "output_type": "stream",
     "text": [
      "INFO:tensorflow:Assets written to: C:\\Users\\gazik\\Documents\\FIIT_SS_2022\\NS\\A1\\code\\wandb\\run-20230322_204105-u6ej9ezl\\files\\model-best\\assets\n"
     ]
    },
    {
     "name": "stderr",
     "output_type": "stream",
     "text": [
      "INFO:tensorflow:Assets written to: C:\\Users\\gazik\\Documents\\FIIT_SS_2022\\NS\\A1\\code\\wandb\\run-20230322_204105-u6ej9ezl\\files\\model-best\\assets\n",
      "\u001B[34m\u001B[1mwandb\u001B[0m: Adding directory to artifact (C:\\Users\\gazik\\Documents\\FIIT_SS_2022\\NS\\A1\\code\\wandb\\run-20230322_204105-u6ej9ezl\\files\\model-best)... Done. 0.0s\n"
     ]
    },
    {
     "name": "stdout",
     "output_type": "stream",
     "text": [
      "44/44 [==============================] - 1s 24ms/step - loss: 0.0183 - mae: 0.0669 - accuracy: 0.9693 - val_loss: 0.0407 - val_mae: 0.0959 - val_accuracy: 0.8933\n",
      "Epoch 30/100\n",
      "23/44 [==============>...............] - ETA: 0s - loss: 0.0173 - mae: 0.0644 - accuracy: 0.9701"
     ]
    },
    {
     "name": "stderr",
     "output_type": "stream",
     "text": [
      "WARNING:absl:Found untraced functions such as _update_step_xla while saving (showing 1 of 1). These functions will not be directly callable after loading.\n"
     ]
    },
    {
     "name": "stdout",
     "output_type": "stream",
     "text": [
      "INFO:tensorflow:Assets written to: C:\\Users\\gazik\\Documents\\FIIT_SS_2022\\NS\\A1\\code\\wandb\\run-20230322_204105-u6ej9ezl\\files\\model-best\\assets\n"
     ]
    },
    {
     "name": "stderr",
     "output_type": "stream",
     "text": [
      "INFO:tensorflow:Assets written to: C:\\Users\\gazik\\Documents\\FIIT_SS_2022\\NS\\A1\\code\\wandb\\run-20230322_204105-u6ej9ezl\\files\\model-best\\assets\n",
      "\u001B[34m\u001B[1mwandb\u001B[0m: Adding directory to artifact (C:\\Users\\gazik\\Documents\\FIIT_SS_2022\\NS\\A1\\code\\wandb\\run-20230322_204105-u6ej9ezl\\files\\model-best)... Done. 0.0s\n"
     ]
    },
    {
     "name": "stdout",
     "output_type": "stream",
     "text": [
      "44/44 [==============================] - 1s 24ms/step - loss: 0.0175 - mae: 0.0643 - accuracy: 0.9707 - val_loss: 0.0401 - val_mae: 0.0923 - val_accuracy: 0.8767\n",
      "Epoch 31/100\n",
      "44/44 [==============================] - ETA: 0s - loss: 0.0167 - mae: 0.0619 - accuracy: 0.9757"
     ]
    },
    {
     "name": "stderr",
     "output_type": "stream",
     "text": [
      "WARNING:absl:Found untraced functions such as _update_step_xla while saving (showing 1 of 1). These functions will not be directly callable after loading.\n"
     ]
    },
    {
     "name": "stdout",
     "output_type": "stream",
     "text": [
      "INFO:tensorflow:Assets written to: C:\\Users\\gazik\\Documents\\FIIT_SS_2022\\NS\\A1\\code\\wandb\\run-20230322_204105-u6ej9ezl\\files\\model-best\\assets\n"
     ]
    },
    {
     "name": "stderr",
     "output_type": "stream",
     "text": [
      "INFO:tensorflow:Assets written to: C:\\Users\\gazik\\Documents\\FIIT_SS_2022\\NS\\A1\\code\\wandb\\run-20230322_204105-u6ej9ezl\\files\\model-best\\assets\n",
      "\u001B[34m\u001B[1mwandb\u001B[0m: Adding directory to artifact (C:\\Users\\gazik\\Documents\\FIIT_SS_2022\\NS\\A1\\code\\wandb\\run-20230322_204105-u6ej9ezl\\files\\model-best)... Done. 0.0s\n"
     ]
    },
    {
     "name": "stdout",
     "output_type": "stream",
     "text": [
      "44/44 [==============================] - 1s 33ms/step - loss: 0.0167 - mae: 0.0619 - accuracy: 0.9757 - val_loss: 0.0397 - val_mae: 0.0927 - val_accuracy: 0.8900\n",
      "Epoch 32/100\n",
      "44/44 [==============================] - 0s 4ms/step - loss: 0.0159 - mae: 0.0595 - accuracy: 0.9736 - val_loss: 0.0403 - val_mae: 0.0919 - val_accuracy: 0.8933\n",
      "Epoch 33/100\n",
      "44/44 [==============================] - ETA: 0s - loss: 0.0152 - mae: 0.0579 - accuracy: 0.9786"
     ]
    },
    {
     "name": "stderr",
     "output_type": "stream",
     "text": [
      "WARNING:absl:Found untraced functions such as _update_step_xla while saving (showing 1 of 1). These functions will not be directly callable after loading.\n"
     ]
    },
    {
     "name": "stdout",
     "output_type": "stream",
     "text": [
      "INFO:tensorflow:Assets written to: C:\\Users\\gazik\\Documents\\FIIT_SS_2022\\NS\\A1\\code\\wandb\\run-20230322_204105-u6ej9ezl\\files\\model-best\\assets\n"
     ]
    },
    {
     "name": "stderr",
     "output_type": "stream",
     "text": [
      "INFO:tensorflow:Assets written to: C:\\Users\\gazik\\Documents\\FIIT_SS_2022\\NS\\A1\\code\\wandb\\run-20230322_204105-u6ej9ezl\\files\\model-best\\assets\n",
      "\u001B[34m\u001B[1mwandb\u001B[0m: Adding directory to artifact (C:\\Users\\gazik\\Documents\\FIIT_SS_2022\\NS\\A1\\code\\wandb\\run-20230322_204105-u6ej9ezl\\files\\model-best)... Done. 0.0s\n"
     ]
    },
    {
     "name": "stdout",
     "output_type": "stream",
     "text": [
      "44/44 [==============================] - 1s 25ms/step - loss: 0.0152 - mae: 0.0579 - accuracy: 0.9786 - val_loss: 0.0381 - val_mae: 0.0868 - val_accuracy: 0.8800\n",
      "Epoch 34/100\n",
      "44/44 [==============================] - 0s 3ms/step - loss: 0.0145 - mae: 0.0553 - accuracy: 0.9779 - val_loss: 0.0388 - val_mae: 0.0875 - val_accuracy: 0.8933\n",
      "Epoch 35/100\n",
      "24/44 [===============>..............] - ETA: 0s - loss: 0.0127 - mae: 0.0527 - accuracy: 0.9857"
     ]
    },
    {
     "name": "stderr",
     "output_type": "stream",
     "text": [
      "WARNING:absl:Found untraced functions such as _update_step_xla while saving (showing 1 of 1). These functions will not be directly callable after loading.\n"
     ]
    },
    {
     "name": "stdout",
     "output_type": "stream",
     "text": [
      "INFO:tensorflow:Assets written to: C:\\Users\\gazik\\Documents\\FIIT_SS_2022\\NS\\A1\\code\\wandb\\run-20230322_204105-u6ej9ezl\\files\\model-best\\assets\n"
     ]
    },
    {
     "name": "stderr",
     "output_type": "stream",
     "text": [
      "INFO:tensorflow:Assets written to: C:\\Users\\gazik\\Documents\\FIIT_SS_2022\\NS\\A1\\code\\wandb\\run-20230322_204105-u6ej9ezl\\files\\model-best\\assets\n",
      "\u001B[34m\u001B[1mwandb\u001B[0m: Adding directory to artifact (C:\\Users\\gazik\\Documents\\FIIT_SS_2022\\NS\\A1\\code\\wandb\\run-20230322_204105-u6ej9ezl\\files\\model-best)... Done. 0.0s\n"
     ]
    },
    {
     "name": "stdout",
     "output_type": "stream",
     "text": [
      "44/44 [==============================] - 1s 25ms/step - loss: 0.0137 - mae: 0.0534 - accuracy: 0.9800 - val_loss: 0.0380 - val_mae: 0.0853 - val_accuracy: 0.8933\n",
      "Epoch 36/100\n",
      "44/44 [==============================] - 0s 4ms/step - loss: 0.0133 - mae: 0.0520 - accuracy: 0.9793 - val_loss: 0.0385 - val_mae: 0.0849 - val_accuracy: 0.8933\n",
      "Epoch 37/100\n",
      "23/44 [==============>...............] - ETA: 0s - loss: 0.0122 - mae: 0.0505 - accuracy: 0.9864"
     ]
    },
    {
     "name": "stderr",
     "output_type": "stream",
     "text": [
      "WARNING:absl:Found untraced functions such as _update_step_xla while saving (showing 1 of 1). These functions will not be directly callable after loading.\n"
     ]
    },
    {
     "name": "stdout",
     "output_type": "stream",
     "text": [
      "INFO:tensorflow:Assets written to: C:\\Users\\gazik\\Documents\\FIIT_SS_2022\\NS\\A1\\code\\wandb\\run-20230322_204105-u6ej9ezl\\files\\model-best\\assets\n"
     ]
    },
    {
     "name": "stderr",
     "output_type": "stream",
     "text": [
      "INFO:tensorflow:Assets written to: C:\\Users\\gazik\\Documents\\FIIT_SS_2022\\NS\\A1\\code\\wandb\\run-20230322_204105-u6ej9ezl\\files\\model-best\\assets\n",
      "\u001B[34m\u001B[1mwandb\u001B[0m: Adding directory to artifact (C:\\Users\\gazik\\Documents\\FIIT_SS_2022\\NS\\A1\\code\\wandb\\run-20230322_204105-u6ej9ezl\\files\\model-best)... Done. 0.0s\n"
     ]
    },
    {
     "name": "stdout",
     "output_type": "stream",
     "text": [
      "44/44 [==============================] - 2s 43ms/step - loss: 0.0125 - mae: 0.0500 - accuracy: 0.9836 - val_loss: 0.0374 - val_mae: 0.0823 - val_accuracy: 0.8933\n",
      "Epoch 38/100\n",
      "27/44 [=================>............] - ETA: 0s - loss: 0.0121 - mae: 0.0481 - accuracy: 0.9850"
     ]
    },
    {
     "name": "stderr",
     "output_type": "stream",
     "text": [
      "WARNING:absl:Found untraced functions such as _update_step_xla while saving (showing 1 of 1). These functions will not be directly callable after loading.\n"
     ]
    },
    {
     "name": "stdout",
     "output_type": "stream",
     "text": [
      "INFO:tensorflow:Assets written to: C:\\Users\\gazik\\Documents\\FIIT_SS_2022\\NS\\A1\\code\\wandb\\run-20230322_204105-u6ej9ezl\\files\\model-best\\assets\n"
     ]
    },
    {
     "name": "stderr",
     "output_type": "stream",
     "text": [
      "INFO:tensorflow:Assets written to: C:\\Users\\gazik\\Documents\\FIIT_SS_2022\\NS\\A1\\code\\wandb\\run-20230322_204105-u6ej9ezl\\files\\model-best\\assets\n",
      "\u001B[34m\u001B[1mwandb\u001B[0m: Adding directory to artifact (C:\\Users\\gazik\\Documents\\FIIT_SS_2022\\NS\\A1\\code\\wandb\\run-20230322_204105-u6ej9ezl\\files\\model-best)... Done. 0.0s\n"
     ]
    },
    {
     "name": "stdout",
     "output_type": "stream",
     "text": [
      "44/44 [==============================] - 1s 25ms/step - loss: 0.0122 - mae: 0.0489 - accuracy: 0.9850 - val_loss: 0.0367 - val_mae: 0.0807 - val_accuracy: 0.8900\n",
      "Epoch 39/100\n",
      "44/44 [==============================] - 0s 4ms/step - loss: 0.0115 - mae: 0.0469 - accuracy: 0.9871 - val_loss: 0.0377 - val_mae: 0.0813 - val_accuracy: 0.8900\n",
      "Epoch 40/100\n",
      "24/44 [===============>..............] - ETA: 0s - loss: 0.0119 - mae: 0.0485 - accuracy: 0.9844"
     ]
    },
    {
     "name": "stderr",
     "output_type": "stream",
     "text": [
      "WARNING:absl:Found untraced functions such as _update_step_xla while saving (showing 1 of 1). These functions will not be directly callable after loading.\n"
     ]
    },
    {
     "name": "stdout",
     "output_type": "stream",
     "text": [
      "INFO:tensorflow:Assets written to: C:\\Users\\gazik\\Documents\\FIIT_SS_2022\\NS\\A1\\code\\wandb\\run-20230322_204105-u6ej9ezl\\files\\model-best\\assets\n"
     ]
    },
    {
     "name": "stderr",
     "output_type": "stream",
     "text": [
      "INFO:tensorflow:Assets written to: C:\\Users\\gazik\\Documents\\FIIT_SS_2022\\NS\\A1\\code\\wandb\\run-20230322_204105-u6ej9ezl\\files\\model-best\\assets\n",
      "\u001B[34m\u001B[1mwandb\u001B[0m: Adding directory to artifact (C:\\Users\\gazik\\Documents\\FIIT_SS_2022\\NS\\A1\\code\\wandb\\run-20230322_204105-u6ej9ezl\\files\\model-best)... Done. 0.0s\n"
     ]
    },
    {
     "name": "stdout",
     "output_type": "stream",
     "text": [
      "44/44 [==============================] - 1s 30ms/step - loss: 0.0110 - mae: 0.0457 - accuracy: 0.9886 - val_loss: 0.0364 - val_mae: 0.0786 - val_accuracy: 0.8933\n",
      "Epoch 41/100\n",
      "44/44 [==============================] - 0s 3ms/step - loss: 0.0106 - mae: 0.0444 - accuracy: 0.9871 - val_loss: 0.0371 - val_mae: 0.0792 - val_accuracy: 0.8933\n",
      "Epoch 42/100\n",
      "25/44 [================>.............] - ETA: 0s - loss: 0.0089 - mae: 0.0402 - accuracy: 0.9887"
     ]
    },
    {
     "name": "stderr",
     "output_type": "stream",
     "text": [
      "WARNING:absl:Found untraced functions such as _update_step_xla while saving (showing 1 of 1). These functions will not be directly callable after loading.\n"
     ]
    },
    {
     "name": "stdout",
     "output_type": "stream",
     "text": [
      "INFO:tensorflow:Assets written to: C:\\Users\\gazik\\Documents\\FIIT_SS_2022\\NS\\A1\\code\\wandb\\run-20230322_204105-u6ej9ezl\\files\\model-best\\assets\n"
     ]
    },
    {
     "name": "stderr",
     "output_type": "stream",
     "text": [
      "INFO:tensorflow:Assets written to: C:\\Users\\gazik\\Documents\\FIIT_SS_2022\\NS\\A1\\code\\wandb\\run-20230322_204105-u6ej9ezl\\files\\model-best\\assets\n",
      "\u001B[34m\u001B[1mwandb\u001B[0m: Adding directory to artifact (C:\\Users\\gazik\\Documents\\FIIT_SS_2022\\NS\\A1\\code\\wandb\\run-20230322_204105-u6ej9ezl\\files\\model-best)... Done. 0.0s\n"
     ]
    },
    {
     "name": "stdout",
     "output_type": "stream",
     "text": [
      "44/44 [==============================] - 1s 25ms/step - loss: 0.0101 - mae: 0.0431 - accuracy: 0.9879 - val_loss: 0.0361 - val_mae: 0.0766 - val_accuracy: 0.8967\n",
      "Epoch 43/100\n",
      "44/44 [==============================] - 0s 4ms/step - loss: 0.0099 - mae: 0.0419 - accuracy: 0.9914 - val_loss: 0.0361 - val_mae: 0.0762 - val_accuracy: 0.8867\n",
      "Epoch 44/100\n",
      "24/44 [===============>..............] - ETA: 0s - loss: 0.0096 - mae: 0.0407 - accuracy: 0.9896"
     ]
    },
    {
     "name": "stderr",
     "output_type": "stream",
     "text": [
      "WARNING:absl:Found untraced functions such as _update_step_xla while saving (showing 1 of 1). These functions will not be directly callable after loading.\n"
     ]
    },
    {
     "name": "stdout",
     "output_type": "stream",
     "text": [
      "INFO:tensorflow:Assets written to: C:\\Users\\gazik\\Documents\\FIIT_SS_2022\\NS\\A1\\code\\wandb\\run-20230322_204105-u6ej9ezl\\files\\model-best\\assets\n"
     ]
    },
    {
     "name": "stderr",
     "output_type": "stream",
     "text": [
      "INFO:tensorflow:Assets written to: C:\\Users\\gazik\\Documents\\FIIT_SS_2022\\NS\\A1\\code\\wandb\\run-20230322_204105-u6ej9ezl\\files\\model-best\\assets\n",
      "\u001B[34m\u001B[1mwandb\u001B[0m: Adding directory to artifact (C:\\Users\\gazik\\Documents\\FIIT_SS_2022\\NS\\A1\\code\\wandb\\run-20230322_204105-u6ej9ezl\\files\\model-best)... Done. 0.0s\n"
     ]
    },
    {
     "name": "stdout",
     "output_type": "stream",
     "text": [
      "44/44 [==============================] - 1s 26ms/step - loss: 0.0093 - mae: 0.0407 - accuracy: 0.9921 - val_loss: 0.0356 - val_mae: 0.0749 - val_accuracy: 0.9000\n",
      "Epoch 45/100\n",
      "44/44 [==============================] - 0s 3ms/step - loss: 0.0089 - mae: 0.0394 - accuracy: 0.9914 - val_loss: 0.0365 - val_mae: 0.0754 - val_accuracy: 0.8900\n",
      "Epoch 46/100\n",
      "44/44 [==============================] - 0s 3ms/step - loss: 0.0085 - mae: 0.0383 - accuracy: 0.9921 - val_loss: 0.0357 - val_mae: 0.0735 - val_accuracy: 0.9000\n",
      "Epoch 47/100\n",
      "44/44 [==============================] - 0s 3ms/step - loss: 0.0082 - mae: 0.0371 - accuracy: 0.9921 - val_loss: 0.0360 - val_mae: 0.0735 - val_accuracy: 0.9000\n",
      "Epoch 48/100\n",
      "44/44 [==============================] - 0s 3ms/step - loss: 0.0077 - mae: 0.0359 - accuracy: 0.9943 - val_loss: 0.0372 - val_mae: 0.0745 - val_accuracy: 0.8867\n",
      "Epoch 49/100\n",
      "28/44 [==================>...........] - ETA: 0s - loss: 0.0070 - mae: 0.0344 - accuracy: 0.9944"
     ]
    },
    {
     "name": "stderr",
     "output_type": "stream",
     "text": [
      "WARNING:absl:Found untraced functions such as _update_step_xla while saving (showing 1 of 1). These functions will not be directly callable after loading.\n"
     ]
    },
    {
     "name": "stdout",
     "output_type": "stream",
     "text": [
      "INFO:tensorflow:Assets written to: C:\\Users\\gazik\\Documents\\FIIT_SS_2022\\NS\\A1\\code\\wandb\\run-20230322_204105-u6ej9ezl\\files\\model-best\\assets\n"
     ]
    },
    {
     "name": "stderr",
     "output_type": "stream",
     "text": [
      "INFO:tensorflow:Assets written to: C:\\Users\\gazik\\Documents\\FIIT_SS_2022\\NS\\A1\\code\\wandb\\run-20230322_204105-u6ej9ezl\\files\\model-best\\assets\n",
      "\u001B[34m\u001B[1mwandb\u001B[0m: Adding directory to artifact (C:\\Users\\gazik\\Documents\\FIIT_SS_2022\\NS\\A1\\code\\wandb\\run-20230322_204105-u6ej9ezl\\files\\model-best)... Done. 0.0s\n"
     ]
    },
    {
     "name": "stdout",
     "output_type": "stream",
     "text": [
      "44/44 [==============================] - 1s 23ms/step - loss: 0.0075 - mae: 0.0353 - accuracy: 0.9936 - val_loss: 0.0350 - val_mae: 0.0708 - val_accuracy: 0.9000\n",
      "Epoch 50/100\n",
      "44/44 [==============================] - 0s 3ms/step - loss: 0.0072 - mae: 0.0342 - accuracy: 0.9929 - val_loss: 0.0354 - val_mae: 0.0709 - val_accuracy: 0.8933\n",
      "Epoch 51/100\n",
      "44/44 [==============================] - 0s 3ms/step - loss: 0.0069 - mae: 0.0332 - accuracy: 0.9943 - val_loss: 0.0359 - val_mae: 0.0712 - val_accuracy: 0.8967\n",
      "Epoch 52/100\n",
      "44/44 [==============================] - 0s 3ms/step - loss: 0.0067 - mae: 0.0328 - accuracy: 0.9964 - val_loss: 0.0354 - val_mae: 0.0698 - val_accuracy: 0.9033\n",
      "Epoch 53/100\n",
      "44/44 [==============================] - 0s 3ms/step - loss: 0.0065 - mae: 0.0317 - accuracy: 0.9950 - val_loss: 0.0356 - val_mae: 0.0695 - val_accuracy: 0.9067\n",
      "Epoch 54/100\n",
      "44/44 [==============================] - 0s 3ms/step - loss: 0.0061 - mae: 0.0309 - accuracy: 0.9964 - val_loss: 0.0360 - val_mae: 0.0694 - val_accuracy: 0.9000\n",
      "Epoch 55/100\n",
      "44/44 [==============================] - 0s 3ms/step - loss: 0.0058 - mae: 0.0301 - accuracy: 0.9964 - val_loss: 0.0350 - val_mae: 0.0675 - val_accuracy: 0.8967\n",
      "Epoch 56/100\n",
      "28/44 [==================>...........] - ETA: 0s - loss: 0.0060 - mae: 0.0306 - accuracy: 0.9978"
     ]
    },
    {
     "name": "stderr",
     "output_type": "stream",
     "text": [
      "WARNING:absl:Found untraced functions such as _update_step_xla while saving (showing 1 of 1). These functions will not be directly callable after loading.\n"
     ]
    },
    {
     "name": "stdout",
     "output_type": "stream",
     "text": [
      "INFO:tensorflow:Assets written to: C:\\Users\\gazik\\Documents\\FIIT_SS_2022\\NS\\A1\\code\\wandb\\run-20230322_204105-u6ej9ezl\\files\\model-best\\assets\n"
     ]
    },
    {
     "name": "stderr",
     "output_type": "stream",
     "text": [
      "INFO:tensorflow:Assets written to: C:\\Users\\gazik\\Documents\\FIIT_SS_2022\\NS\\A1\\code\\wandb\\run-20230322_204105-u6ej9ezl\\files\\model-best\\assets\n",
      "\u001B[34m\u001B[1mwandb\u001B[0m: Adding directory to artifact (C:\\Users\\gazik\\Documents\\FIIT_SS_2022\\NS\\A1\\code\\wandb\\run-20230322_204105-u6ej9ezl\\files\\model-best)... Done. 0.0s\n"
     ]
    },
    {
     "name": "stdout",
     "output_type": "stream",
     "text": [
      "44/44 [==============================] - 1s 24ms/step - loss: 0.0057 - mae: 0.0294 - accuracy: 0.9964 - val_loss: 0.0344 - val_mae: 0.0663 - val_accuracy: 0.8967\n",
      "Epoch 57/100\n",
      "44/44 [==============================] - 0s 3ms/step - loss: 0.0055 - mae: 0.0286 - accuracy: 0.9979 - val_loss: 0.0351 - val_mae: 0.0667 - val_accuracy: 0.8933\n",
      "Epoch 58/100\n",
      "44/44 [==============================] - 0s 4ms/step - loss: 0.0052 - mae: 0.0279 - accuracy: 0.9971 - val_loss: 0.0368 - val_mae: 0.0683 - val_accuracy: 0.9067\n",
      "Epoch 59/100\n",
      "44/44 [==============================] - 0s 3ms/step - loss: 0.0050 - mae: 0.0272 - accuracy: 0.9979 - val_loss: 0.0363 - val_mae: 0.0671 - val_accuracy: 0.9033\n",
      "Epoch 60/100\n",
      "44/44 [==============================] - 0s 3ms/step - loss: 0.0047 - mae: 0.0265 - accuracy: 0.9993 - val_loss: 0.0358 - val_mae: 0.0669 - val_accuracy: 0.8900\n",
      "Epoch 61/100\n",
      "44/44 [==============================] - 0s 4ms/step - loss: 0.0046 - mae: 0.0258 - accuracy: 0.9986 - val_loss: 0.0362 - val_mae: 0.0659 - val_accuracy: 0.9033\n",
      "Epoch 62/100\n",
      "44/44 [==============================] - 0s 3ms/step - loss: 0.0045 - mae: 0.0255 - accuracy: 0.9979 - val_loss: 0.0367 - val_mae: 0.0666 - val_accuracy: 0.9000\n",
      "Epoch 63/100\n",
      "44/44 [==============================] - 0s 4ms/step - loss: 0.0043 - mae: 0.0248 - accuracy: 0.9986 - val_loss: 0.0358 - val_mae: 0.0652 - val_accuracy: 0.8967\n",
      "Epoch 64/100\n",
      "44/44 [==============================] - 0s 3ms/step - loss: 0.0041 - mae: 0.0240 - accuracy: 0.9979 - val_loss: 0.0370 - val_mae: 0.0662 - val_accuracy: 0.8967\n",
      "Epoch 65/100\n",
      "44/44 [==============================] - 0s 4ms/step - loss: 0.0040 - mae: 0.0237 - accuracy: 0.9993 - val_loss: 0.0365 - val_mae: 0.0649 - val_accuracy: 0.9000\n",
      "Epoch 66/100\n",
      "44/44 [==============================] - 0s 4ms/step - loss: 0.0038 - mae: 0.0229 - accuracy: 0.9986 - val_loss: 0.0369 - val_mae: 0.0654 - val_accuracy: 0.9033\n",
      "Epoch 67/100\n",
      "44/44 [==============================] - 0s 3ms/step - loss: 0.0037 - mae: 0.0227 - accuracy: 0.9986 - val_loss: 0.0364 - val_mae: 0.0642 - val_accuracy: 0.8933\n",
      "Epoch 68/100\n",
      "44/44 [==============================] - 0s 3ms/step - loss: 0.0035 - mae: 0.0219 - accuracy: 0.9993 - val_loss: 0.0372 - val_mae: 0.0646 - val_accuracy: 0.9000\n",
      "Epoch 69/100\n",
      "44/44 [==============================] - 0s 4ms/step - loss: 0.0033 - mae: 0.0214 - accuracy: 1.0000 - val_loss: 0.0376 - val_mae: 0.0649 - val_accuracy: 0.8967\n",
      "Epoch 70/100\n",
      "44/44 [==============================] - 0s 3ms/step - loss: 0.0033 - mae: 0.0212 - accuracy: 0.9993 - val_loss: 0.0374 - val_mae: 0.0644 - val_accuracy: 0.8933\n",
      "Epoch 71/100\n",
      "44/44 [==============================] - 0s 3ms/step - loss: 0.0032 - mae: 0.0207 - accuracy: 0.9993 - val_loss: 0.0369 - val_mae: 0.0632 - val_accuracy: 0.8900\n",
      "Epoch 72/100\n",
      "44/44 [==============================] - 0s 4ms/step - loss: 0.0030 - mae: 0.0201 - accuracy: 1.0000 - val_loss: 0.0373 - val_mae: 0.0639 - val_accuracy: 0.8933\n",
      "Epoch 73/100\n",
      "44/44 [==============================] - 0s 3ms/step - loss: 0.0028 - mae: 0.0194 - accuracy: 1.0000 - val_loss: 0.0389 - val_mae: 0.0649 - val_accuracy: 0.8967\n",
      "Epoch 74/100\n",
      "44/44 [==============================] - 0s 4ms/step - loss: 0.0027 - mae: 0.0192 - accuracy: 1.0000 - val_loss: 0.0375 - val_mae: 0.0629 - val_accuracy: 0.8867\n",
      "Epoch 75/100\n",
      "44/44 [==============================] - 0s 4ms/step - loss: 0.0027 - mae: 0.0188 - accuracy: 0.9993 - val_loss: 0.0390 - val_mae: 0.0645 - val_accuracy: 0.8900\n",
      "Epoch 76/100\n",
      "44/44 [==============================] - 0s 4ms/step - loss: 0.0026 - mae: 0.0183 - accuracy: 1.0000 - val_loss: 0.0380 - val_mae: 0.0629 - val_accuracy: 0.9000\n",
      "Epoch 77/100\n",
      "44/44 [==============================] - 0s 3ms/step - loss: 0.0024 - mae: 0.0178 - accuracy: 1.0000 - val_loss: 0.0380 - val_mae: 0.0630 - val_accuracy: 0.8833\n",
      "Epoch 78/100\n",
      "44/44 [==============================] - 0s 3ms/step - loss: 0.0024 - mae: 0.0174 - accuracy: 1.0000 - val_loss: 0.0388 - val_mae: 0.0634 - val_accuracy: 0.8867\n",
      "Epoch 79/100\n",
      "44/44 [==============================] - 0s 4ms/step - loss: 0.0023 - mae: 0.0170 - accuracy: 1.0000 - val_loss: 0.0403 - val_mae: 0.0647 - val_accuracy: 0.8967\n",
      "Epoch 80/100\n",
      "44/44 [==============================] - 0s 4ms/step - loss: 0.0022 - mae: 0.0166 - accuracy: 1.0000 - val_loss: 0.0387 - val_mae: 0.0628 - val_accuracy: 0.8867\n",
      "Epoch 81/100\n",
      "44/44 [==============================] - 0s 4ms/step - loss: 0.0021 - mae: 0.0162 - accuracy: 1.0000 - val_loss: 0.0388 - val_mae: 0.0625 - val_accuracy: 0.8900\n",
      "Epoch 82/100\n",
      "44/44 [==============================] - 0s 3ms/step - loss: 0.0020 - mae: 0.0159 - accuracy: 1.0000 - val_loss: 0.0379 - val_mae: 0.0614 - val_accuracy: 0.8900\n",
      "Epoch 83/100\n",
      "44/44 [==============================] - 0s 3ms/step - loss: 0.0020 - mae: 0.0158 - accuracy: 1.0000 - val_loss: 0.0381 - val_mae: 0.0613 - val_accuracy: 0.8867\n",
      "Epoch 84/100\n",
      "44/44 [==============================] - 0s 3ms/step - loss: 0.0019 - mae: 0.0154 - accuracy: 1.0000 - val_loss: 0.0398 - val_mae: 0.0631 - val_accuracy: 0.8867\n",
      "Epoch 85/100\n",
      "44/44 [==============================] - 0s 3ms/step - loss: 0.0018 - mae: 0.0148 - accuracy: 1.0000 - val_loss: 0.0400 - val_mae: 0.0629 - val_accuracy: 0.8867\n",
      "Epoch 86/100\n",
      "44/44 [==============================] - 0s 3ms/step - loss: 0.0017 - mae: 0.0146 - accuracy: 1.0000 - val_loss: 0.0400 - val_mae: 0.0624 - val_accuracy: 0.8867\n",
      "Epoch 87/100\n",
      "44/44 [==============================] - 0s 3ms/step - loss: 0.0016 - mae: 0.0143 - accuracy: 1.0000 - val_loss: 0.0390 - val_mae: 0.0616 - val_accuracy: 0.8933\n",
      "Epoch 88/100\n",
      "44/44 [==============================] - 0s 3ms/step - loss: 0.0016 - mae: 0.0138 - accuracy: 1.0000 - val_loss: 0.0392 - val_mae: 0.0617 - val_accuracy: 0.8867\n",
      "Epoch 89/100\n",
      "44/44 [==============================] - 0s 3ms/step - loss: 0.0015 - mae: 0.0137 - accuracy: 1.0000 - val_loss: 0.0399 - val_mae: 0.0618 - val_accuracy: 0.8833\n",
      "Epoch 90/100\n",
      "44/44 [==============================] - 0s 3ms/step - loss: 0.0014 - mae: 0.0133 - accuracy: 1.0000 - val_loss: 0.0395 - val_mae: 0.0613 - val_accuracy: 0.8933\n",
      "Epoch 91/100\n",
      "44/44 [==============================] - 0s 3ms/step - loss: 0.0014 - mae: 0.0129 - accuracy: 1.0000 - val_loss: 0.0400 - val_mae: 0.0618 - val_accuracy: 0.8867\n",
      "Epoch 92/100\n",
      "44/44 [==============================] - 0s 3ms/step - loss: 0.0013 - mae: 0.0126 - accuracy: 1.0000 - val_loss: 0.0400 - val_mae: 0.0616 - val_accuracy: 0.8867\n",
      "Epoch 93/100\n",
      "44/44 [==============================] - 0s 3ms/step - loss: 0.0013 - mae: 0.0123 - accuracy: 1.0000 - val_loss: 0.0410 - val_mae: 0.0624 - val_accuracy: 0.8833\n",
      "Epoch 94/100\n",
      "44/44 [==============================] - 0s 3ms/step - loss: 0.0012 - mae: 0.0122 - accuracy: 1.0000 - val_loss: 0.0390 - val_mae: 0.0601 - val_accuracy: 0.8967\n",
      "Epoch 95/100\n",
      "44/44 [==============================] - 0s 3ms/step - loss: 0.0012 - mae: 0.0118 - accuracy: 1.0000 - val_loss: 0.0410 - val_mae: 0.0623 - val_accuracy: 0.8833\n",
      "Epoch 96/100\n",
      "44/44 [==============================] - 0s 3ms/step - loss: 0.0011 - mae: 0.0117 - accuracy: 1.0000 - val_loss: 0.0399 - val_mae: 0.0610 - val_accuracy: 0.8867\n",
      "Epoch 97/100\n",
      "44/44 [==============================] - 0s 3ms/step - loss: 0.0011 - mae: 0.0114 - accuracy: 1.0000 - val_loss: 0.0405 - val_mae: 0.0612 - val_accuracy: 0.8900\n",
      "Epoch 98/100\n",
      "44/44 [==============================] - 0s 3ms/step - loss: 0.0010 - mae: 0.0112 - accuracy: 1.0000 - val_loss: 0.0402 - val_mae: 0.0610 - val_accuracy: 0.8900\n",
      "Epoch 99/100\n",
      "44/44 [==============================] - 0s 3ms/step - loss: 0.0010 - mae: 0.0109 - accuracy: 1.0000 - val_loss: 0.0408 - val_mae: 0.0614 - val_accuracy: 0.8867\n",
      "Epoch 100/100\n",
      "44/44 [==============================] - 0s 3ms/step - loss: 9.7323e-04 - mae: 0.0107 - accuracy: 1.0000 - val_loss: 0.0401 - val_mae: 0.0603 - val_accuracy: 0.8900\n",
      "10/10 [==============================] - 0s 2ms/step - loss: 0.0401 - mae: 0.0603 - accuracy: 0.8900\n",
      "10/10 [==============================] - 0s 1ms/step\n"
     ]
    },
    {
     "data": {
      "text/plain": "<IPython.core.display.HTML object>",
      "text/html": "Waiting for W&B process to finish... <strong style=\"color:green\">(success).</strong>"
     },
     "metadata": {},
     "output_type": "display_data"
    },
    {
     "data": {
      "text/plain": "<IPython.core.display.HTML object>",
      "text/html": "<style>\n    table.wandb td:nth-child(1) { padding: 0 10px; text-align: left ; width: auto;} td:nth-child(2) {text-align: left ; width: 100%}\n    .wandb-row { display: flex; flex-direction: row; flex-wrap: wrap; justify-content: flex-start; width: 100% }\n    .wandb-col { display: flex; flex-direction: column; flex-basis: 100%; flex: 1; padding: 10px; }\n    </style>\n<div class=\"wandb-row\"><div class=\"wandb-col\"><h3>Run history:</h3><br/><table class=\"wandb\"><tr><td>accuracy</td><td>▁▂▄▄▆▆▇▇████████████████████████████████</td></tr><tr><td>epoch</td><td>▁▁▁▁▂▂▂▂▂▃▃▃▃▃▃▄▄▄▄▄▅▅▅▅▅▅▆▆▆▆▆▇▇▇▇▇▇███</td></tr><tr><td>loss</td><td>█▇▆▅▄▄▃▂▂▂▂▂▂▁▁▁▁▁▁▁▁▁▁▁▁▁▁▁▁▁▁▁▁▁▁▁▁▁▁▁</td></tr><tr><td>mae</td><td>██▇▆▅▄▄▃▃▃▂▂▂▂▂▂▂▂▂▁▁▁▁▁▁▁▁▁▁▁▁▁▁▁▁▁▁▁▁▁</td></tr><tr><td>test_acc</td><td>▁</td></tr><tr><td>test_loss</td><td>▁</td></tr><tr><td>test_mae</td><td>▁</td></tr><tr><td>val_accuracy</td><td>▁▂▄▅▆▇██████████████████████████████████</td></tr><tr><td>val_loss</td><td>█▇▆▄▃▃▂▂▂▁▁▁▁▁▁▁▁▁▁▁▁▁▁▁▁▁▁▁▁▁▁▁▁▁▁▁▁▁▁▁</td></tr><tr><td>val_mae</td><td>██▆▅▄▄▃▃▂▂▂▂▂▂▂▁▁▁▁▁▁▁▁▁▁▁▁▁▁▁▁▁▁▁▁▁▁▁▁▁</td></tr></table><br/></div><div class=\"wandb-col\"><h3>Run summary:</h3><br/><table class=\"wandb\"><tr><td>accuracy</td><td>1.0</td></tr><tr><td>best_epoch</td><td>55</td></tr><tr><td>best_val_loss</td><td>0.03443</td></tr><tr><td>epoch</td><td>99</td></tr><tr><td>loss</td><td>0.00097</td></tr><tr><td>mae</td><td>0.0107</td></tr><tr><td>test_acc</td><td>0.89</td></tr><tr><td>test_loss</td><td>0.04008</td></tr><tr><td>test_mae</td><td>0.06032</td></tr><tr><td>val_accuracy</td><td>0.89</td></tr><tr><td>val_loss</td><td>0.04008</td></tr><tr><td>val_mae</td><td>0.06032</td></tr></table><br/></div></div>"
     },
     "metadata": {},
     "output_type": "display_data"
    },
    {
     "data": {
      "text/plain": "<IPython.core.display.HTML object>",
      "text/html": " View run <strong style=\"color:#cdcd00\">confused-snowflake-77</strong> at: <a href='https://wandb.ai/neural_networks_fiit/phone-price-prediction/runs/u6ej9ezl' target=\"_blank\">https://wandb.ai/neural_networks_fiit/phone-price-prediction/runs/u6ej9ezl</a><br/>Synced 5 W&B file(s), 1 media file(s), 185 artifact file(s) and 1 other file(s)"
     },
     "metadata": {},
     "output_type": "display_data"
    },
    {
     "data": {
      "text/plain": "<IPython.core.display.HTML object>",
      "text/html": "Find logs at: <code>.\\wandb\\run-20230322_204105-u6ej9ezl\\logs</code>"
     },
     "metadata": {},
     "output_type": "display_data"
    }
   ],
   "source": [
    "wandb.init(project='phone-price-prediction')\n",
    "wandb_callback = wandb.keras.WandbCallback()\n",
    "model.fit(X_train, y_train, epochs=100, validation_data=(X_val, y_val), callbacks=[wandb_callback])\n",
    "# build, compile, and train model here\n",
    "test_loss, test_mae, test_acc = model.evaluate(X_val, y_val)\n",
    "wandb.log({'test_loss': test_loss, 'test_mae': test_mae, 'test_acc': test_acc})\n",
    "y_pred = model.predict(X_val)\n",
    "y_pred_array = np.array(y_pred)\n",
    "y_val_array = np.array(y_val)\n",
    "\n",
    "\n",
    "\n",
    "wandb.finish()"
   ],
   "metadata": {
    "collapsed": false
   }
  },
  {
   "cell_type": "code",
   "execution_count": null,
   "outputs": [],
   "source": [],
   "metadata": {
    "collapsed": false
   }
  }
 ],
 "metadata": {
  "kernelspec": {
   "display_name": "Python 3",
   "language": "python",
   "name": "python3"
  },
  "language_info": {
   "codemirror_mode": {
    "name": "ipython",
    "version": 2
   },
   "file_extension": ".py",
   "mimetype": "text/x-python",
   "name": "python",
   "nbconvert_exporter": "python",
   "pygments_lexer": "ipython2",
   "version": "2.7.6"
  }
 },
 "nbformat": 4,
 "nbformat_minor": 0
}
